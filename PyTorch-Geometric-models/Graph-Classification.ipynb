{
  "nbformat": 4,
  "nbformat_minor": 0,
  "metadata": {
    "colab": {
      "provenance": [],
      "gpuType": "T4"
    },
    "kernelspec": {
      "name": "python3",
      "display_name": "Python 3"
    },
    "language_info": {
      "name": "python"
    },
    "accelerator": "GPU"
  },
  "cells": [
    {
      "cell_type": "markdown",
      "source": [
        "<a href=\"https://colab.research.google.com/github/ntua-unit-of-control-and-informatics/jaqpot-google-collab-examples/blob/main/test.ipynb\" target=\"_parent\"><img src=\"https://colab.research.google.com/assets/colab-badge.svg\" alt=\"Open In Colab\"/></a>"
      ],
      "metadata": {
        "id": "b3Q5L_nXk0E1"
      }
    },
    {
      "cell_type": "markdown",
      "source": [
        "### This example demonstrates a Graph Classification example using Aqueous Solubility dataset."
      ],
      "metadata": {
        "id": "7nYu-F4zn5uy"
      }
    },
    {
      "cell_type": "code",
      "execution_count": 1,
      "metadata": {
        "colab": {
          "base_uri": "https://localhost:8080/"
        },
        "id": "YbDckDdYaCIv",
        "outputId": "b50995e7-a5de-4567-98e7-8bdc0fe2868b"
      },
      "outputs": [
        {
          "output_type": "stream",
          "name": "stdout",
          "text": [
            "\u001b[?25l     \u001b[90m━━━━━━━━━━━━━━━━━━━━━━━━━━━━━━━━━━━━━━━━\u001b[0m \u001b[32m0.0/146.8 kB\u001b[0m \u001b[31m?\u001b[0m eta \u001b[36m-:--:--\u001b[0m\r\u001b[2K     \u001b[90m━━━━━━━━━━━━━━━━━━━━━━━━━━━━━━━━━━━━━━━━\u001b[0m \u001b[32m146.8/146.8 kB\u001b[0m \u001b[31m10.3 MB/s\u001b[0m eta \u001b[36m0:00:00\u001b[0m\n",
            "\u001b[?25h  Preparing metadata (setup.py) ... \u001b[?25l\u001b[?25hdone\n",
            "\u001b[2K     \u001b[90m━━━━━━━━━━━━━━━━━━━━━━━━━━━━━━━━━━━━━━━━\u001b[0m \u001b[32m43.7/43.7 kB\u001b[0m \u001b[31m741.3 kB/s\u001b[0m eta \u001b[36m0:00:00\u001b[0m\n",
            "\u001b[2K     \u001b[90m━━━━━━━━━━━━━━━━━━━━━━━━━━━━━━━━━━━━━━━━\u001b[0m \u001b[32m45.4/45.4 kB\u001b[0m \u001b[31m2.8 MB/s\u001b[0m eta \u001b[36m0:00:00\u001b[0m\n",
            "\u001b[?25h  Preparing metadata (setup.py) ... \u001b[?25l\u001b[?25hdone\n",
            "\u001b[2K   \u001b[90m━━━━━━━━━━━━━━━━━━━━━━━━━━━━━━━━━━━━━━━━\u001b[0m \u001b[32m315.1/315.1 kB\u001b[0m \u001b[31m22.9 MB/s\u001b[0m eta \u001b[36m0:00:00\u001b[0m\n",
            "\u001b[2K   \u001b[90m━━━━━━━━━━━━━━━━━━━━━━━━━━━━━━━━━━━━━━━━\u001b[0m \u001b[32m52.0/52.0 kB\u001b[0m \u001b[31m4.2 MB/s\u001b[0m eta \u001b[36m0:00:00\u001b[0m\n",
            "\u001b[2K   \u001b[90m━━━━━━━━━━━━━━━━━━━━━━━━━━━━━━━━━━━━━━━━\u001b[0m \u001b[32m547.8/547.8 kB\u001b[0m \u001b[31m34.1 MB/s\u001b[0m eta \u001b[36m0:00:00\u001b[0m\n",
            "\u001b[2K   \u001b[90m━━━━━━━━━━━━━━━━━━━━━━━━━━━━━━━━━━━━━━━━\u001b[0m \u001b[32m84.1/84.1 kB\u001b[0m \u001b[31m7.7 MB/s\u001b[0m eta \u001b[36m0:00:00\u001b[0m\n",
            "\u001b[2K   \u001b[90m━━━━━━━━━━━━━━━━━━━━━━━━━━━━━━━━━━━━━━━━\u001b[0m \u001b[32m1.1/1.1 MB\u001b[0m \u001b[31m56.3 MB/s\u001b[0m eta \u001b[36m0:00:00\u001b[0m\n",
            "\u001b[2K   \u001b[90m━━━━━━━━━━━━━━━━━━━━━━━━━━━━━━━━━━━━━━━━\u001b[0m \u001b[32m9.6/9.6 MB\u001b[0m \u001b[31m104.2 MB/s\u001b[0m eta \u001b[36m0:00:00\u001b[0m\n",
            "\u001b[2K   \u001b[90m━━━━━━━━━━━━━━━━━━━━━━━━━━━━━━━━━━━━━━━━\u001b[0m \u001b[32m9.4/9.4 MB\u001b[0m \u001b[31m76.3 MB/s\u001b[0m eta \u001b[36m0:00:00\u001b[0m\n",
            "\u001b[2K   \u001b[90m━━━━━━━━━━━━━━━━━━━━━━━━━━━━━━━━━━━━━━━━\u001b[0m \u001b[32m3.2/3.2 MB\u001b[0m \u001b[31m34.4 MB/s\u001b[0m eta \u001b[36m0:00:00\u001b[0m\n",
            "\u001b[2K   \u001b[90m━━━━━━━━━━━━━━━━━━━━━━━━━━━━━━━━━━━━━━━━\u001b[0m \u001b[32m43.1/43.1 MB\u001b[0m \u001b[31m2.5 MB/s\u001b[0m eta \u001b[36m0:00:00\u001b[0m\n",
            "\u001b[2K   \u001b[90m━━━━━━━━━━━━━━━━━━━━━━━━━━━━━━━━━━━━━━━━\u001b[0m \u001b[32m34.9/34.9 MB\u001b[0m \u001b[31m37.0 MB/s\u001b[0m eta \u001b[36m0:00:00\u001b[0m\n",
            "\u001b[2K   \u001b[90m━━━━━━━━━━━━━━━━━━━━━━━━━━━━━━━━━━━━━━━━\u001b[0m \u001b[32m15.9/15.9 MB\u001b[0m \u001b[31m27.5 MB/s\u001b[0m eta \u001b[36m0:00:00\u001b[0m\n",
            "\u001b[2K   \u001b[90m━━━━━━━━━━━━━━━━━━━━━━━━━━━━━━━━━━━━━━━━\u001b[0m \u001b[32m254.7/254.7 kB\u001b[0m \u001b[31m19.5 MB/s\u001b[0m eta \u001b[36m0:00:00\u001b[0m\n",
            "\u001b[2K   \u001b[90m━━━━━━━━━━━━━━━━━━━━━━━━━━━━━━━━━━━━━━━━\u001b[0m \u001b[32m141.9/141.9 kB\u001b[0m \u001b[31m12.6 MB/s\u001b[0m eta \u001b[36m0:00:00\u001b[0m\n",
            "\u001b[2K   \u001b[90m━━━━━━━━━━━━━━━━━━━━━━━━━━━━━━━━━━━━━━━━\u001b[0m \u001b[32m116.3/116.3 kB\u001b[0m \u001b[31m9.7 MB/s\u001b[0m eta \u001b[36m0:00:00\u001b[0m\n",
            "\u001b[2K   \u001b[90m━━━━━━━━━━━━━━━━━━━━━━━━━━━━━━━━━━━━━━━━\u001b[0m \u001b[32m316.1/316.1 kB\u001b[0m \u001b[31m23.5 MB/s\u001b[0m eta \u001b[36m0:00:00\u001b[0m\n",
            "\u001b[2K   \u001b[90m━━━━━━━━━━━━━━━━━━━━━━━━━━━━━━━━━━━━━━━━\u001b[0m \u001b[32m34.4/34.4 MB\u001b[0m \u001b[31m19.4 MB/s\u001b[0m eta \u001b[36m0:00:00\u001b[0m\n",
            "\u001b[2K   \u001b[90m━━━━━━━━━━━━━━━━━━━━━━━━━━━━━━━━━━━━━━━━\u001b[0m \u001b[32m2.1/2.1 MB\u001b[0m \u001b[31m75.1 MB/s\u001b[0m eta \u001b[36m0:00:00\u001b[0m\n",
            "\u001b[2K   \u001b[90m━━━━━━━━━━━━━━━━━━━━━━━━━━━━━━━━━━━━━━━━\u001b[0m \u001b[32m26.5/26.5 MB\u001b[0m \u001b[31m64.1 MB/s\u001b[0m eta \u001b[36m0:00:00\u001b[0m\n",
            "\u001b[2K   \u001b[90m━━━━━━━━━━━━━━━━━━━━━━━━━━━━━━━━━━━━━━━━\u001b[0m \u001b[32m3.6/3.6 MB\u001b[0m \u001b[31m73.8 MB/s\u001b[0m eta \u001b[36m0:00:00\u001b[0m\n",
            "\u001b[2K   \u001b[90m━━━━━━━━━━━━━━━━━━━━━━━━━━━━━━━━━━━━━━━━\u001b[0m \u001b[32m55.2/55.2 kB\u001b[0m \u001b[31m4.4 MB/s\u001b[0m eta \u001b[36m0:00:00\u001b[0m\n",
            "\u001b[2K   \u001b[90m━━━━━━━━━━━━━━━━━━━━━━━━━━━━━━━━━━━━━━━━\u001b[0m \u001b[32m134.8/134.8 kB\u001b[0m \u001b[31m10.2 MB/s\u001b[0m eta \u001b[36m0:00:00\u001b[0m\n",
            "\u001b[2K   \u001b[90m━━━━━━━━━━━━━━━━━━━━━━━━━━━━━━━━━━━━━━━━\u001b[0m \u001b[32m162.6/162.6 kB\u001b[0m \u001b[31m13.8 MB/s\u001b[0m eta \u001b[36m0:00:00\u001b[0m\n",
            "\u001b[2K   \u001b[90m━━━━━━━━━━━━━━━━━━━━━━━━━━━━━━━━━━━━━━━━\u001b[0m \u001b[32m29.4/29.4 MB\u001b[0m \u001b[31m15.0 MB/s\u001b[0m eta \u001b[36m0:00:00\u001b[0m\n",
            "\u001b[2K   \u001b[90m━━━━━━━━━━━━━━━━━━━━━━━━━━━━━━━━━━━━━━━━\u001b[0m \u001b[32m107.8/107.8 kB\u001b[0m \u001b[31m7.9 MB/s\u001b[0m eta \u001b[36m0:00:00\u001b[0m\n",
            "\u001b[2K   \u001b[90m━━━━━━━━━━━━━━━━━━━━━━━━━━━━━━━━━━━━━━━━\u001b[0m \u001b[32m194.1/194.1 kB\u001b[0m \u001b[31m15.4 MB/s\u001b[0m eta \u001b[36m0:00:00\u001b[0m\n",
            "\u001b[2K   \u001b[90m━━━━━━━━━━━━━━━━━━━━━━━━━━━━━━━━━━━━━━━━\u001b[0m \u001b[32m77.4/77.4 kB\u001b[0m \u001b[31m6.9 MB/s\u001b[0m eta \u001b[36m0:00:00\u001b[0m\n",
            "\u001b[2K   \u001b[90m━━━━━━━━━━━━━━━━━━━━━━━━━━━━━━━━━━━━━━━━\u001b[0m \u001b[32m50.1/50.1 kB\u001b[0m \u001b[31m3.9 MB/s\u001b[0m eta \u001b[36m0:00:00\u001b[0m\n",
            "\u001b[2K   \u001b[90m━━━━━━━━━━━━━━━━━━━━━━━━━━━━━━━━━━━━━━━━\u001b[0m \u001b[32m1.6/1.6 MB\u001b[0m \u001b[31m63.3 MB/s\u001b[0m eta \u001b[36m0:00:00\u001b[0m\n",
            "\u001b[2K   \u001b[90m━━━━━━━━━━━━━━━━━━━━━━━━━━━━━━━━━━━━━━━━\u001b[0m \u001b[32m56.9/56.9 kB\u001b[0m \u001b[31m4.4 MB/s\u001b[0m eta \u001b[36m0:00:00\u001b[0m\n",
            "\u001b[2K   \u001b[90m━━━━━━━━━━━━━━━━━━━━━━━━━━━━━━━━━━━━━━━━\u001b[0m \u001b[32m61.4/61.4 kB\u001b[0m \u001b[31m5.3 MB/s\u001b[0m eta \u001b[36m0:00:00\u001b[0m\n",
            "\u001b[2K   \u001b[90m━━━━━━━━━━━━━━━━━━━━━━━━━━━━━━━━━━━━━━━━\u001b[0m \u001b[32m88.8/88.8 kB\u001b[0m \u001b[31m7.5 MB/s\u001b[0m eta \u001b[36m0:00:00\u001b[0m\n",
            "\u001b[2K   \u001b[90m━━━━━━━━━━━━━━━━━━━━━━━━━━━━━━━━━━━━━━━━\u001b[0m \u001b[32m12.6/12.6 MB\u001b[0m \u001b[31m106.8 MB/s\u001b[0m eta \u001b[36m0:00:00\u001b[0m\n",
            "\u001b[2K   \u001b[90m━━━━━━━━━━━━━━━━━━━━━━━━━━━━━━━━━━━━━━━━\u001b[0m \u001b[32m66.4/66.4 kB\u001b[0m \u001b[31m5.4 MB/s\u001b[0m eta \u001b[36m0:00:00\u001b[0m\n",
            "\u001b[2K   \u001b[90m━━━━━━━━━━━━━━━━━━━━━━━━━━━━━━━━━━━━━━━━\u001b[0m \u001b[32m769.2/769.2 kB\u001b[0m \u001b[31m44.5 MB/s\u001b[0m eta \u001b[36m0:00:00\u001b[0m\n",
            "\u001b[2K   \u001b[90m━━━━━━━━━━━━━━━━━━━━━━━━━━━━━━━━━━━━━━━━\u001b[0m \u001b[32m3.1/3.1 MB\u001b[0m \u001b[31m81.5 MB/s\u001b[0m eta \u001b[36m0:00:00\u001b[0m\n",
            "\u001b[2K   \u001b[90m━━━━━━━━━━━━━━━━━━━━━━━━━━━━━━━━━━━━━━━━\u001b[0m \u001b[32m83.6/83.6 kB\u001b[0m \u001b[31m6.2 MB/s\u001b[0m eta \u001b[36m0:00:00\u001b[0m\n",
            "\u001b[?25h  Building wheel for PyTDC (setup.py) ... \u001b[?25l\u001b[?25hdone\n",
            "  Building wheel for session-info (setup.py) ... \u001b[?25l\u001b[?25hdone\n",
            "\u001b[31mERROR: pip's dependency resolver does not currently take into account all the packages that are installed. This behaviour is the source of the following dependency conflicts.\n",
            "gcsfs 2024.10.0 requires fsspec==2024.10.0, but you have fsspec 2024.5.0 which is incompatible.\n",
            "mlxtend 0.23.2 requires scikit-learn>=1.3.1, but you have scikit-learn 1.2.2 which is incompatible.\u001b[0m\u001b[31m\n",
            "\u001b[2K     \u001b[90m━━━━━━━━━━━━━━━━━━━━━━━━━━━━━━━━━━━━━━━━\u001b[0m \u001b[32m107.3/107.3 kB\u001b[0m \u001b[31m9.6 MB/s\u001b[0m eta \u001b[36m0:00:00\u001b[0m\n",
            "\u001b[2K     \u001b[90m━━━━━━━━━━━━━━━━━━━━━━━━━━━━━━━━━━━━━━━━\u001b[0m \u001b[32m57.6/57.6 kB\u001b[0m \u001b[31m4.8 MB/s\u001b[0m eta \u001b[36m0:00:00\u001b[0m\n",
            "\u001b[2K     \u001b[90m━━━━━━━━━━━━━━━━━━━━━━━━━━━━━━━━━━━━━━━━\u001b[0m \u001b[32m64.2/64.2 kB\u001b[0m \u001b[31m4.3 MB/s\u001b[0m eta \u001b[36m0:00:00\u001b[0m\n",
            "\u001b[2K   \u001b[90m━━━━━━━━━━━━━━━━━━━━━━━━━━━━━━━━━━━━━━━━\u001b[0m \u001b[32m184.7/184.7 kB\u001b[0m \u001b[31m15.8 MB/s\u001b[0m eta \u001b[36m0:00:00\u001b[0m\n",
            "\u001b[2K   \u001b[90m━━━━━━━━━━━━━━━━━━━━━━━━━━━━━━━━━━━━━━━━\u001b[0m \u001b[32m60.8/60.8 kB\u001b[0m \u001b[31m5.6 MB/s\u001b[0m eta \u001b[36m0:00:00\u001b[0m\n",
            "\u001b[2K   \u001b[90m━━━━━━━━━━━━━━━━━━━━━━━━━━━━━━━━━━━━━━━━\u001b[0m \u001b[32m75.6/75.6 kB\u001b[0m \u001b[31m6.6 MB/s\u001b[0m eta \u001b[36m0:00:00\u001b[0m\n",
            "\u001b[2K   \u001b[90m━━━━━━━━━━━━━━━━━━━━━━━━━━━━━━━━━━━━━━━━\u001b[0m \u001b[32m353.2/353.2 kB\u001b[0m \u001b[31m21.0 MB/s\u001b[0m eta \u001b[36m0:00:00\u001b[0m\n",
            "\u001b[2K   \u001b[90m━━━━━━━━━━━━━━━━━━━━━━━━━━━━━━━━━━━━━━━━\u001b[0m \u001b[32m176.0/176.0 kB\u001b[0m \u001b[31m14.7 MB/s\u001b[0m eta \u001b[36m0:00:00\u001b[0m\n",
            "\u001b[2K   \u001b[90m━━━━━━━━━━━━━━━━━━━━━━━━━━━━━━━━━━━━━━━━\u001b[0m \u001b[32m16.0/16.0 MB\u001b[0m \u001b[31m68.2 MB/s\u001b[0m eta \u001b[36m0:00:00\u001b[0m\n",
            "\u001b[2K   \u001b[90m━━━━━━━━━━━━━━━━━━━━━━━━━━━━━━━━━━━━━━━━\u001b[0m \u001b[32m329.0/329.0 kB\u001b[0m \u001b[31m21.6 MB/s\u001b[0m eta \u001b[36m0:00:00\u001b[0m\n",
            "\u001b[2K   \u001b[90m━━━━━━━━━━━━━━━━━━━━━━━━━━━━━━━━━━━━━━━━\u001b[0m \u001b[32m13.2/13.2 MB\u001b[0m \u001b[31m77.2 MB/s\u001b[0m eta \u001b[36m0:00:00\u001b[0m\n",
            "\u001b[2K   \u001b[90m━━━━━━━━━━━━━━━━━━━━━━━━━━━━━━━━━━━━━━━━\u001b[0m \u001b[32m218.7/218.7 kB\u001b[0m \u001b[31m18.4 MB/s\u001b[0m eta \u001b[36m0:00:00\u001b[0m\n",
            "\u001b[2K   \u001b[90m━━━━━━━━━━━━━━━━━━━━━━━━━━━━━━━━━━━━━━━━\u001b[0m \u001b[32m409.3/409.3 kB\u001b[0m \u001b[31m29.7 MB/s\u001b[0m eta \u001b[36m0:00:00\u001b[0m\n",
            "\u001b[2K   \u001b[90m━━━━━━━━━━━━━━━━━━━━━━━━━━━━━━━━━━━━━━━━\u001b[0m \u001b[32m4.8/4.8 MB\u001b[0m \u001b[31m7.8 MB/s\u001b[0m eta \u001b[36m0:00:00\u001b[0m\n",
            "\u001b[2K   \u001b[90m━━━━━━━━━━━━━━━━━━━━━━━━━━━━━━━━━━━━━━━━\u001b[0m \u001b[32m76.0/76.0 kB\u001b[0m \u001b[31m6.8 MB/s\u001b[0m eta \u001b[36m0:00:00\u001b[0m\n",
            "\u001b[2K   \u001b[90m━━━━━━━━━━━━━━━━━━━━━━━━━━━━━━━━━━━━━━━━\u001b[0m \u001b[32m63.9/63.9 kB\u001b[0m \u001b[31m5.8 MB/s\u001b[0m eta \u001b[36m0:00:00\u001b[0m\n",
            "\u001b[2K   \u001b[90m━━━━━━━━━━━━━━━━━━━━━━━━━━━━━━━━━━━━━━━━\u001b[0m \u001b[32m10.3/10.3 MB\u001b[0m \u001b[31m116.7 MB/s\u001b[0m eta \u001b[36m0:00:00\u001b[0m\n",
            "\u001b[2K   \u001b[90m━━━━━━━━━━━━━━━━━━━━━━━━━━━━━━━━━━━━━━━━\u001b[0m \u001b[32m13.3/13.3 MB\u001b[0m \u001b[31m59.4 MB/s\u001b[0m eta \u001b[36m0:00:00\u001b[0m\n",
            "\u001b[2K   \u001b[90m━━━━━━━━━━━━━━━━━━━━━━━━━━━━━━━━━━━━━━━━\u001b[0m \u001b[32m137.9/137.9 kB\u001b[0m \u001b[31m811.9 kB/s\u001b[0m eta \u001b[36m0:00:00\u001b[0m\n",
            "\u001b[2K   \u001b[90m━━━━━━━━━━━━━━━━━━━━━━━━━━━━━━━━━━━━━━━━\u001b[0m \u001b[32m298.4/298.4 kB\u001b[0m \u001b[31m22.3 MB/s\u001b[0m eta \u001b[36m0:00:00\u001b[0m\n",
            "\u001b[2K   \u001b[90m━━━━━━━━━━━━━━━━━━━━━━━━━━━━━━━━━━━━━━━━\u001b[0m \u001b[32m779.1/779.1 MB\u001b[0m \u001b[31m1.2 MB/s\u001b[0m eta \u001b[36m0:00:00\u001b[0m\n",
            "\u001b[2K   \u001b[90m━━━━━━━━━━━━━━━━━━━━━━━━━━━━━━━━━━━━━━━━\u001b[0m \u001b[32m1.1/1.1 MB\u001b[0m \u001b[31m52.5 MB/s\u001b[0m eta \u001b[36m0:00:00\u001b[0m\n",
            "\u001b[2K   \u001b[90m━━━━━━━━━━━━━━━━━━━━━━━━━━━━━━━━━━━━━━━━\u001b[0m \u001b[32m78.3/78.3 kB\u001b[0m \u001b[31m6.6 MB/s\u001b[0m eta \u001b[36m0:00:00\u001b[0m\n",
            "\u001b[2K   \u001b[90m━━━━━━━━━━━━━━━━━━━━━━━━━━━━━━━━━━━━━━━━\u001b[0m \u001b[32m153.9/153.9 MB\u001b[0m \u001b[31m6.9 MB/s\u001b[0m eta \u001b[36m0:00:00\u001b[0m\n",
            "\u001b[2K   \u001b[90m━━━━━━━━━━━━━━━━━━━━━━━━━━━━━━━━━━━━━━━━\u001b[0m \u001b[32m410.6/410.6 MB\u001b[0m \u001b[31m3.0 MB/s\u001b[0m eta \u001b[36m0:00:00\u001b[0m\n",
            "\u001b[2K   \u001b[90m━━━━━━━━━━━━━━━━━━━━━━━━━━━━━━━━━━━━━━━━\u001b[0m \u001b[32m14.1/14.1 MB\u001b[0m \u001b[31m98.9 MB/s\u001b[0m eta \u001b[36m0:00:00\u001b[0m\n",
            "\u001b[2K   \u001b[90m━━━━━━━━━━━━━━━━━━━━━━━━━━━━━━━━━━━━━━━━\u001b[0m \u001b[32m23.7/23.7 MB\u001b[0m \u001b[31m81.9 MB/s\u001b[0m eta \u001b[36m0:00:00\u001b[0m\n",
            "\u001b[2K   \u001b[90m━━━━━━━━━━━━━━━━━━━━━━━━━━━━━━━━━━━━━━━━\u001b[0m \u001b[32m823.6/823.6 kB\u001b[0m \u001b[31m46.4 MB/s\u001b[0m eta \u001b[36m0:00:00\u001b[0m\n",
            "\u001b[2K   \u001b[90m━━━━━━━━━━━━━━━━━━━━━━━━━━━━━━━━━━━━━━━━\u001b[0m \u001b[32m731.7/731.7 MB\u001b[0m \u001b[31m1.7 MB/s\u001b[0m eta \u001b[36m0:00:00\u001b[0m\n",
            "\u001b[2K   \u001b[90m━━━━━━━━━━━━━━━━━━━━━━━━━━━━━━━━━━━━━━━━\u001b[0m \u001b[32m121.6/121.6 MB\u001b[0m \u001b[31m8.1 MB/s\u001b[0m eta \u001b[36m0:00:00\u001b[0m\n",
            "\u001b[2K   \u001b[90m━━━━━━━━━━━━━━━━━━━━━━━━━━━━━━━━━━━━━━━━\u001b[0m \u001b[32m56.5/56.5 MB\u001b[0m \u001b[31m12.9 MB/s\u001b[0m eta \u001b[36m0:00:00\u001b[0m\n",
            "\u001b[2K   \u001b[90m━━━━━━━━━━━━━━━━━━━━━━━━━━━━━━━━━━━━━━━━\u001b[0m \u001b[32m124.2/124.2 MB\u001b[0m \u001b[31m11.3 MB/s\u001b[0m eta \u001b[36m0:00:00\u001b[0m\n",
            "\u001b[2K   \u001b[90m━━━━━━━━━━━━━━━━━━━━━━━━━━━━━━━━━━━━━━━━\u001b[0m \u001b[32m196.0/196.0 MB\u001b[0m \u001b[31m5.8 MB/s\u001b[0m eta \u001b[36m0:00:00\u001b[0m\n",
            "\u001b[2K   \u001b[90m━━━━━━━━━━━━━━━━━━━━━━━━━━━━━━━━━━━━━━━━\u001b[0m \u001b[32m176.2/176.2 MB\u001b[0m \u001b[31m8.4 MB/s\u001b[0m eta \u001b[36m0:00:00\u001b[0m\n",
            "\u001b[2K   \u001b[90m━━━━━━━━━━━━━━━━━━━━━━━━━━━━━━━━━━━━━━━━\u001b[0m \u001b[32m99.1/99.1 kB\u001b[0m \u001b[31m6.3 MB/s\u001b[0m eta \u001b[36m0:00:00\u001b[0m\n",
            "\u001b[2K   \u001b[90m━━━━━━━━━━━━━━━━━━━━━━━━━━━━━━━━━━━━━━━━\u001b[0m \u001b[32m2.1/2.1 MB\u001b[0m \u001b[31m59.5 MB/s\u001b[0m eta \u001b[36m0:00:00\u001b[0m\n",
            "\u001b[2K   \u001b[90m━━━━━━━━━━━━━━━━━━━━━━━━━━━━━━━━━━━━━━━━\u001b[0m \u001b[32m168.1/168.1 MB\u001b[0m \u001b[31m8.7 MB/s\u001b[0m eta \u001b[36m0:00:00\u001b[0m\n",
            "\u001b[2K   \u001b[90m━━━━━━━━━━━━━━━━━━━━━━━━━━━━━━━━━━━━━━━━\u001b[0m \u001b[32m99.0/99.0 kB\u001b[0m \u001b[31m8.6 MB/s\u001b[0m eta \u001b[36m0:00:00\u001b[0m\n",
            "\u001b[2K   \u001b[90m━━━━━━━━━━━━━━━━━━━━━━━━━━━━━━━━━━━━━━━━\u001b[0m \u001b[32m92.5/92.5 kB\u001b[0m \u001b[31m7.8 MB/s\u001b[0m eta \u001b[36m0:00:00\u001b[0m\n",
            "\u001b[2K   \u001b[90m━━━━━━━━━━━━━━━━━━━━━━━━━━━━━━━━━━━━━━━━\u001b[0m \u001b[32m68.5/68.5 kB\u001b[0m \u001b[31m5.7 MB/s\u001b[0m eta \u001b[36m0:00:00\u001b[0m\n",
            "\u001b[2K   \u001b[90m━━━━━━━━━━━━━━━━━━━━━━━━━━━━━━━━━━━━━━━━\u001b[0m \u001b[32m84.5/84.5 kB\u001b[0m \u001b[31m6.9 MB/s\u001b[0m eta \u001b[36m0:00:00\u001b[0m\n",
            "\u001b[2K   \u001b[90m━━━━━━━━━━━━━━━━━━━━━━━━━━━━━━━━━━━━━━━━\u001b[0m \u001b[32m1.1/1.1 MB\u001b[0m \u001b[31m41.9 MB/s\u001b[0m eta \u001b[36m0:00:00\u001b[0m\n",
            "\u001b[2K   \u001b[90m━━━━━━━━━━━━━━━━━━━━━━━━━━━━━━━━━━━━━━━━\u001b[0m \u001b[32m332.3/332.3 kB\u001b[0m \u001b[31m26.3 MB/s\u001b[0m eta \u001b[36m0:00:00\u001b[0m\n",
            "\u001b[2K   \u001b[90m━━━━━━━━━━━━━━━━━━━━━━━━━━━━━━━━━━━━━━━━\u001b[0m \u001b[32m865.8/865.8 kB\u001b[0m \u001b[31m41.8 MB/s\u001b[0m eta \u001b[36m0:00:00\u001b[0m\n",
            "\u001b[2K   \u001b[90m━━━━━━━━━━━━━━━━━━━━━━━━━━━━━━━━━━━━━━━━\u001b[0m \u001b[32m117.8/117.8 kB\u001b[0m \u001b[31m9.0 MB/s\u001b[0m eta \u001b[36m0:00:00\u001b[0m\n",
            "\u001b[2K   \u001b[90m━━━━━━━━━━━━━━━━━━━━━━━━━━━━━━━━━━━━━━━━\u001b[0m \u001b[32m1.1/1.1 MB\u001b[0m \u001b[31m51.2 MB/s\u001b[0m eta \u001b[36m0:00:00\u001b[0m\n",
            "\u001b[2K   \u001b[90m━━━━━━━━━━━━━━━━━━━━━━━━━━━━━━━━━━━━━━━━\u001b[0m \u001b[32m58.3/58.3 kB\u001b[0m \u001b[31m5.2 MB/s\u001b[0m eta \u001b[36m0:00:00\u001b[0m\n",
            "\u001b[2K   \u001b[90m━━━━━━━━━━━━━━━━━━━━━━━━━━━━━━━━━━━━━━━━\u001b[0m \u001b[32m3.1/3.1 MB\u001b[0m \u001b[31m82.6 MB/s\u001b[0m eta \u001b[36m0:00:00\u001b[0m\n",
            "\u001b[2K   \u001b[90m━━━━━━━━━━━━━━━━━━━━━━━━━━━━━━━━━━━━━━━━\u001b[0m \u001b[32m46.0/46.0 kB\u001b[0m \u001b[31m3.5 MB/s\u001b[0m eta \u001b[36m0:00:00\u001b[0m\n",
            "\u001b[2K   \u001b[90m━━━━━━━━━━━━━━━━━━━━━━━━━━━━━━━━━━━━━━━━\u001b[0m \u001b[32m561.4/561.4 kB\u001b[0m \u001b[31m33.9 MB/s\u001b[0m eta \u001b[36m0:00:00\u001b[0m\n",
            "\u001b[2K   \u001b[90m━━━━━━━━━━━━━━━━━━━━━━━━━━━━━━━━━━━━━━━━\u001b[0m \u001b[32m469.0/469.0 kB\u001b[0m \u001b[31m32.0 MB/s\u001b[0m eta \u001b[36m0:00:00\u001b[0m\n",
            "\u001b[2K   \u001b[90m━━━━━━━━━━━━━━━━━━━━━━━━━━━━━━━━━━━━━━━━\u001b[0m \u001b[32m86.8/86.8 kB\u001b[0m \u001b[31m7.3 MB/s\u001b[0m eta \u001b[36m0:00:00\u001b[0m\n",
            "\u001b[2K   \u001b[90m━━━━━━━━━━━━━━━━━━━━━━━━━━━━━━━━━━━━━━━━\u001b[0m \u001b[32m722.2/722.2 kB\u001b[0m \u001b[31m41.5 MB/s\u001b[0m eta \u001b[36m0:00:00\u001b[0m\n",
            "\u001b[?25h\u001b[31mERROR: pip's dependency resolver does not currently take into account all the packages that are installed. This behaviour is the source of the following dependency conflicts.\n",
            "pytdc 1.1.1 requires scikit-learn==1.2.2, but you have scikit-learn 1.5.0 which is incompatible.\n",
            "gcsfs 2024.10.0 requires fsspec==2024.10.0, but you have fsspec 2024.5.0 which is incompatible.\n",
            "google-colab 1.0.0 requires requests==2.32.3, but you have requests 2.32.2 which is incompatible.\n",
            "grpcio-status 1.62.3 requires protobuf>=4.21.6, but you have protobuf 3.20.2 which is incompatible.\n",
            "langchain 0.3.7 requires pydantic<3.0.0,>=2.7.4, but you have pydantic 2.7.1 which is incompatible.\n",
            "tensorflow 2.17.0 requires protobuf!=4.21.0,!=4.21.1,!=4.21.2,!=4.21.3,!=4.21.4,!=4.21.5,<5.0.0dev,>=3.20.3, but you have protobuf 3.20.2 which is incompatible.\n",
            "tensorflow-metadata 1.13.1 requires protobuf<5,>=3.20.3, but you have protobuf 3.20.2 which is incompatible.\n",
            "torchaudio 2.5.0+cu121 requires torch==2.5.0, but you have torch 2.3.0 which is incompatible.\n",
            "torchvision 0.20.0+cu121 requires torch==2.5.0, but you have torch 2.3.0 which is incompatible.\u001b[0m\u001b[31m\n",
            "\u001b[0m"
          ]
        }
      ],
      "source": [
        "!pip install PyTDC --quiet\n",
        "!pip install jaqpotpy --quiet"
      ]
    },
    {
      "cell_type": "markdown",
      "source": [
        "Import required Libraries"
      ],
      "metadata": {
        "id": "T0UrrS7tcBu4"
      }
    },
    {
      "cell_type": "code",
      "source": [
        "import warnings\n",
        "import torch\n",
        "from torch_geometric.loader import DataLoader\n",
        "from jaqpotpy import Jaqpot\n",
        "from jaqpotpy.descriptors.graph import SmilesGraphFeaturizer\n",
        "from jaqpotpy.datasets import SmilesGraphDataset\n",
        "from jaqpotpy.models.torch_geometric_models.graph_neural_network import GraphSageNetwork, pyg_to_onnx\n",
        "from jaqpotpy.models.trainers.graph_trainers import BinaryGraphModelTrainer\n",
        "\n",
        "# This is do disable any rdkit warnings\n",
        "from rdkit import RDLogger\n",
        "RDLogger.DisableLog('rdApp.*')\n",
        "warnings.simplefilter(\"ignore\")"
      ],
      "metadata": {
        "id": "1b6Me7nwbuad"
      },
      "execution_count": 2,
      "outputs": []
    },
    {
      "cell_type": "markdown",
      "source": [
        "Load the regression data. We use TDC library to obtain train, validation, and test splits with SMILES and Solubility."
      ],
      "metadata": {
        "id": "GpY6g3qsoOH4"
      }
    },
    {
      "cell_type": "code",
      "source": [
        "from tdc.single_pred import Tox\n",
        "data = Tox(name = 'AMES')\n",
        "data_splits = data.get_split()\n",
        "\n",
        "def split_to_list(split):\n",
        "    return data_splits[split]['Drug'].to_list(), data_splits[split]['Y'].to_list()\n",
        "\n",
        "# List of smiles and endpoints\n",
        "train_smiles , train_y =  split_to_list('train')\n",
        "val_smiles, val_y = split_to_list('valid')\n",
        "test_smiles , test_y =  split_to_list('test')"
      ],
      "metadata": {
        "colab": {
          "base_uri": "https://localhost:8080/"
        },
        "id": "zj_PsMyoaYiu",
        "outputId": "46156086-ace7-4443-ef05-971ac4973c12"
      },
      "execution_count": 4,
      "outputs": [
        {
          "output_type": "stream",
          "name": "stderr",
          "text": [
            "Found local copy...\n",
            "Loading...\n",
            "Done!\n"
          ]
        }
      ]
    },
    {
      "cell_type": "markdown",
      "source": [
        "Firstly, a SmilesGraphFeaturizer instance is created. We add 4 features in the featurizer and their specified value (if needed)."
      ],
      "metadata": {
        "id": "vo3doWeQodog"
      }
    },
    {
      "cell_type": "code",
      "source": [
        "featurizer = SmilesGraphFeaturizer(include_edge_features=False)\n",
        "featurizer.add_atom_feature(\n",
        "    \"symbol\",\n",
        "    ['C', 'K', 'S', 'Br', 'H', 'F', 'N', 'Cl', 'P', 'O', 'I', 'UNK']\n",
        ")\n",
        "featurizer.add_atom_feature(\"total_num_hs\", [0, 1, 2, 3, 4])\n",
        "featurizer.add_atom_feature(\"degree\", [0, 1, 2, 3, 4, 5, 6])\n",
        "featurizer.add_atom_feature(\"is_aromatic\")"
      ],
      "metadata": {
        "id": "FziirVqSbrQe"
      },
      "execution_count": 5,
      "outputs": []
    },
    {
      "cell_type": "markdown",
      "source": [
        "Create train, validation and testing datasets"
      ],
      "metadata": {
        "id": "_Z0IViP7otDc"
      }
    },
    {
      "cell_type": "code",
      "source": [
        "train_dataset = SmilesGraphDataset(\n",
        "    smiles=train_smiles, y=train_y, featurizer=featurizer\n",
        ")\n",
        "val_dataset = SmilesGraphDataset(\n",
        "    smiles=val_smiles, y=val_y, featurizer=featurizer\n",
        ")\n",
        "test_dataset = SmilesGraphDataset(\n",
        "    smiles=test_smiles, y=test_y, featurizer=featurizer\n",
        ")\n",
        "\n",
        "train_dataset.precompute_featurization()\n",
        "val_dataset.precompute_featurization()\n",
        "test_dataset.precompute_featurization()"
      ],
      "metadata": {
        "id": "DVcbu-Q5dLya"
      },
      "execution_count": 6,
      "outputs": []
    },
    {
      "cell_type": "markdown",
      "source": [
        "Create a model. For this demonstration GraphConvolutionNetwork is used with only node features."
      ],
      "metadata": {
        "id": "dtNHB5LAo7vO"
      }
    },
    {
      "cell_type": "code",
      "source": [
        "node_features = featurizer.get_num_node_features()\n",
        "model = GraphSageNetwork(\n",
        "    input_dim=node_features,\n",
        "    hidden_layers=1,\n",
        "    hidden_dim=32,\n",
        "    output_dim=1,\n",
        "    activation=torch.nn.ReLU(),\n",
        "    dropout_proba=0.2,\n",
        "    batch_norm = False,\n",
        "    seed = 42,\n",
        "    pooling=\"add\",\n",
        ")"
      ],
      "metadata": {
        "colab": {
          "base_uri": "https://localhost:8080/"
        },
        "id": "HYkz6sdRdpkL",
        "outputId": "c9cfa72b-8e7c-43b7-fb0c-77e388124dba"
      },
      "execution_count": 7,
      "outputs": [
        {
          "output_type": "stream",
          "name": "stdout",
          "text": [
            "ReLU()\n"
          ]
        }
      ]
    },
    {
      "cell_type": "markdown",
      "source": [
        "Define optimizer and loss function"
      ],
      "metadata": {
        "id": "PG4DjDqPpFY_"
      }
    },
    {
      "cell_type": "code",
      "source": [
        "optimizer = torch.optim.Adam(model.parameters(), lr=5e-4)\n",
        "loss = torch.nn.BCEWithLogitsLoss()"
      ],
      "metadata": {
        "id": "BHwmlKRhdw6H"
      },
      "execution_count": 8,
      "outputs": []
    },
    {
      "cell_type": "markdown",
      "source": [
        "Create instance of Regression Trainer"
      ],
      "metadata": {
        "id": "vzyzfQ3_pKed"
      }
    },
    {
      "cell_type": "code",
      "source": [
        "trainer = BinaryGraphModelTrainer(\n",
        "    model=model, # Jaqpotpy Graph Model\n",
        "    n_epochs=20,\n",
        "    optimizer=optimizer,\n",
        "    loss_fn=loss,\n",
        "    scheduler=None\n",
        ")"
      ],
      "metadata": {
        "id": "QZlkQsCgd9ax"
      },
      "execution_count": 9,
      "outputs": []
    },
    {
      "cell_type": "markdown",
      "source": [
        "Create PyTorch geometric dataloaders"
      ],
      "metadata": {
        "id": "OPVj9rl8pTA2"
      }
    },
    {
      "cell_type": "code",
      "source": [
        "train_loader = DataLoader(train_dataset, batch_size=128, shuffle=True)\n",
        "val_loader = DataLoader(val_dataset, batch_size=128, shuffle=False)\n",
        "test_loader = DataLoader(test_dataset, batch_size=128, shuffle=False)"
      ],
      "metadata": {
        "id": "4ab-mCVMeDs0"
      },
      "execution_count": 10,
      "outputs": []
    },
    {
      "cell_type": "markdown",
      "source": [
        "Train and evaluate on the validation set for 20 epochs"
      ],
      "metadata": {
        "id": "xOkkwFNepbH0"
      }
    },
    {
      "cell_type": "code",
      "source": [
        "trainer.train(train_loader, val_loader)"
      ],
      "metadata": {
        "colab": {
          "base_uri": "https://localhost:8080/"
        },
        "id": "aLAeGwPLeO4F",
        "outputId": "41088466-78de-413a-d96b-6b5af6fa5866"
      },
      "execution_count": 11,
      "outputs": [
        {
          "output_type": "stream",
          "name": "stderr",
          "text": [
            "Epoch 1/20: 100%|██████████| 40/40 [00:00<00:00, 60.59it/s, loss=0.749]\n"
          ]
        },
        {
          "output_type": "stream",
          "name": "stdout",
          "text": [
            " Train: loss=0.7486 | accuracy=0.6199 | balanced_accuracy=0.6116 | precision=0.6325 | recall=0.7119 | f1=0.6698 | mcc=0.2280 | roc_auc=0.6750\n"
          ]
        },
        {
          "output_type": "stream",
          "name": "stderr",
          "text": [
            "INFO:jaqpotpy.models.trainers.base_trainer: Train: loss=0.7486 | accuracy=0.6199 | balanced_accuracy=0.6116 | precision=0.6325 | recall=0.7119 | f1=0.6698 | mcc=0.2280 | roc_auc=0.6750\n"
          ]
        },
        {
          "output_type": "stream",
          "name": "stdout",
          "text": [
            " Val:   loss=0.6378 | accuracy=0.6181 | balanced_accuracy=0.6025 | precision=0.6534 | recall=0.7098 | f1=0.6805 | mcc=0.2092 | roc_auc=0.6855\n"
          ]
        },
        {
          "output_type": "stream",
          "name": "stderr",
          "text": [
            "INFO:jaqpotpy.models.trainers.base_trainer: Val:   loss=0.6378 | accuracy=0.6181 | balanced_accuracy=0.6025 | precision=0.6534 | recall=0.7098 | f1=0.6805 | mcc=0.2092 | roc_auc=0.6855\n",
            "Epoch 2/20: 100%|██████████| 40/40 [00:00<00:00, 60.47it/s, loss=0.658]\n"
          ]
        },
        {
          "output_type": "stream",
          "name": "stdout",
          "text": [
            " Train: loss=0.6577 | accuracy=0.6378 | balanced_accuracy=0.6277 | precision=0.6419 | recall=0.7492 | f1=0.6914 | mcc=0.2639 | roc_auc=0.7118\n"
          ]
        },
        {
          "output_type": "stream",
          "name": "stderr",
          "text": [
            "INFO:jaqpotpy.models.trainers.base_trainer: Train: loss=0.6577 | accuracy=0.6378 | balanced_accuracy=0.6277 | precision=0.6419 | recall=0.7492 | f1=0.6914 | mcc=0.2639 | roc_auc=0.7118\n"
          ]
        },
        {
          "output_type": "stream",
          "name": "stdout",
          "text": [
            " Val:   loss=0.6215 | accuracy=0.6511 | balanced_accuracy=0.6321 | precision=0.6723 | recall=0.7626 | f1=0.7146 | mcc=0.2740 | roc_auc=0.7119\n"
          ]
        },
        {
          "output_type": "stream",
          "name": "stderr",
          "text": [
            "INFO:jaqpotpy.models.trainers.base_trainer: Val:   loss=0.6215 | accuracy=0.6511 | balanced_accuracy=0.6321 | precision=0.6723 | recall=0.7626 | f1=0.7146 | mcc=0.2740 | roc_auc=0.7119\n",
            "Epoch 3/20: 100%|██████████| 40/40 [00:00<00:00, 65.48it/s, loss=0.638]\n"
          ]
        },
        {
          "output_type": "stream",
          "name": "stdout",
          "text": [
            " Train: loss=0.6376 | accuracy=0.6592 | balanced_accuracy=0.6508 | precision=0.6637 | recall=0.7517 | f1=0.7050 | mcc=0.3086 | roc_auc=0.7322\n"
          ]
        },
        {
          "output_type": "stream",
          "name": "stderr",
          "text": [
            "INFO:jaqpotpy.models.trainers.base_trainer: Train: loss=0.6376 | accuracy=0.6592 | balanced_accuracy=0.6508 | precision=0.6637 | recall=0.7517 | f1=0.7050 | mcc=0.3086 | roc_auc=0.7322\n"
          ]
        },
        {
          "output_type": "stream",
          "name": "stdout",
          "text": [
            " Val:   loss=0.6112 | accuracy=0.6703 | balanced_accuracy=0.6562 | precision=0.6962 | recall=0.7530 | f1=0.7235 | mcc=0.3184 | roc_auc=0.7293\n"
          ]
        },
        {
          "output_type": "stream",
          "name": "stderr",
          "text": [
            "INFO:jaqpotpy.models.trainers.base_trainer: Val:   loss=0.6112 | accuracy=0.6703 | balanced_accuracy=0.6562 | precision=0.6962 | recall=0.7530 | f1=0.7235 | mcc=0.3184 | roc_auc=0.7293\n",
            "Epoch 4/20: 100%|██████████| 40/40 [00:00<00:00, 62.44it/s, loss=0.62]\n"
          ]
        },
        {
          "output_type": "stream",
          "name": "stdout",
          "text": [
            " Train: loss=0.6200 | accuracy=0.6741 | balanced_accuracy=0.6670 | precision=0.6799 | recall=0.7528 | f1=0.7145 | mcc=0.3396 | roc_auc=0.7511\n"
          ]
        },
        {
          "output_type": "stream",
          "name": "stderr",
          "text": [
            "INFO:jaqpotpy.models.trainers.base_trainer: Train: loss=0.6200 | accuracy=0.6741 | balanced_accuracy=0.6670 | precision=0.6799 | recall=0.7528 | f1=0.7145 | mcc=0.3396 | roc_auc=0.7511\n"
          ]
        },
        {
          "output_type": "stream",
          "name": "stdout",
          "text": [
            " Val:   loss=0.5989 | accuracy=0.6827 | balanced_accuracy=0.6699 | precision=0.7085 | recall=0.7578 | f1=0.7323 | mcc=0.3450 | roc_auc=0.7469\n"
          ]
        },
        {
          "output_type": "stream",
          "name": "stderr",
          "text": [
            "INFO:jaqpotpy.models.trainers.base_trainer: Val:   loss=0.5989 | accuracy=0.6827 | balanced_accuracy=0.6699 | precision=0.7085 | recall=0.7578 | f1=0.7323 | mcc=0.3450 | roc_auc=0.7469\n",
            "Epoch 5/20: 100%|██████████| 40/40 [00:00<00:00, 51.88it/s, loss=0.607]\n"
          ]
        },
        {
          "output_type": "stream",
          "name": "stdout",
          "text": [
            " Train: loss=0.6071 | accuracy=0.6930 | balanced_accuracy=0.6906 | precision=0.7156 | recall=0.7187 | f1=0.7172 | mcc=0.3814 | roc_auc=0.7666\n"
          ]
        },
        {
          "output_type": "stream",
          "name": "stderr",
          "text": [
            "INFO:jaqpotpy.models.trainers.base_trainer: Train: loss=0.6071 | accuracy=0.6930 | balanced_accuracy=0.6906 | precision=0.7156 | recall=0.7187 | f1=0.7172 | mcc=0.3814 | roc_auc=0.7666\n"
          ]
        },
        {
          "output_type": "stream",
          "name": "stdout",
          "text": [
            " Val:   loss=0.5932 | accuracy=0.7005 | balanced_accuracy=0.6986 | precision=0.7519 | recall=0.7122 | f1=0.7315 | mcc=0.3943 | roc_auc=0.7583\n"
          ]
        },
        {
          "output_type": "stream",
          "name": "stderr",
          "text": [
            "INFO:jaqpotpy.models.trainers.base_trainer: Val:   loss=0.5932 | accuracy=0.7005 | balanced_accuracy=0.6986 | precision=0.7519 | recall=0.7122 | f1=0.7315 | mcc=0.3943 | roc_auc=0.7583\n",
            "Epoch 6/20: 100%|██████████| 40/40 [00:00<00:00, 52.82it/s, loss=0.598]\n"
          ]
        },
        {
          "output_type": "stream",
          "name": "stdout",
          "text": [
            " Train: loss=0.5978 | accuracy=0.7118 | balanced_accuracy=0.7088 | precision=0.7290 | recall=0.7448 | f1=0.7368 | mcc=0.4186 | roc_auc=0.7799\n"
          ]
        },
        {
          "output_type": "stream",
          "name": "stderr",
          "text": [
            "INFO:jaqpotpy.models.trainers.base_trainer: Train: loss=0.5978 | accuracy=0.7118 | balanced_accuracy=0.7088 | precision=0.7290 | recall=0.7448 | f1=0.7368 | mcc=0.4186 | roc_auc=0.7799\n"
          ]
        },
        {
          "output_type": "stream",
          "name": "stdout",
          "text": [
            " Val:   loss=0.5800 | accuracy=0.7088 | balanced_accuracy=0.7041 | precision=0.7506 | recall=0.7362 | f1=0.7433 | mcc=0.4070 | roc_auc=0.7712\n"
          ]
        },
        {
          "output_type": "stream",
          "name": "stderr",
          "text": [
            "INFO:jaqpotpy.models.trainers.base_trainer: Val:   loss=0.5800 | accuracy=0.7088 | balanced_accuracy=0.7041 | precision=0.7506 | recall=0.7362 | f1=0.7433 | mcc=0.4070 | roc_auc=0.7712\n",
            "Epoch 7/20: 100%|██████████| 40/40 [00:00<00:00, 45.48it/s, loss=0.591]\n"
          ]
        },
        {
          "output_type": "stream",
          "name": "stdout",
          "text": [
            " Train: loss=0.5913 | accuracy=0.7053 | balanced_accuracy=0.7153 | precision=0.8105 | recall=0.5951 | f1=0.6863 | mcc=0.4385 | roc_auc=0.7899\n"
          ]
        },
        {
          "output_type": "stream",
          "name": "stderr",
          "text": [
            "INFO:jaqpotpy.models.trainers.base_trainer: Train: loss=0.5913 | accuracy=0.7053 | balanced_accuracy=0.7153 | precision=0.8105 | recall=0.5951 | f1=0.6863 | mcc=0.4385 | roc_auc=0.7899\n"
          ]
        },
        {
          "output_type": "stream",
          "name": "stdout",
          "text": [
            " Val:   loss=0.6011 | accuracy=0.6799 | balanced_accuracy=0.6977 | precision=0.8108 | recall=0.5755 | f1=0.6732 | mcc=0.3983 | roc_auc=0.7775\n"
          ]
        },
        {
          "output_type": "stream",
          "name": "stderr",
          "text": [
            "INFO:jaqpotpy.models.trainers.base_trainer: Val:   loss=0.6011 | accuracy=0.6799 | balanced_accuracy=0.6977 | precision=0.8108 | recall=0.5755 | f1=0.6732 | mcc=0.3983 | roc_auc=0.7775\n",
            "Epoch 8/20: 100%|██████████| 40/40 [00:00<00:00, 62.97it/s, loss=0.582]\n"
          ]
        },
        {
          "output_type": "stream",
          "name": "stdout",
          "text": [
            " Train: loss=0.5815 | accuracy=0.7252 | balanced_accuracy=0.7253 | precision=0.7577 | recall=0.7242 | f1=0.7405 | mcc=0.4492 | roc_auc=0.7960\n"
          ]
        },
        {
          "output_type": "stream",
          "name": "stderr",
          "text": [
            "INFO:jaqpotpy.models.trainers.base_trainer: Train: loss=0.5815 | accuracy=0.7252 | balanced_accuracy=0.7253 | precision=0.7577 | recall=0.7242 | f1=0.7405 | mcc=0.4492 | roc_auc=0.7960\n"
          ]
        },
        {
          "output_type": "stream",
          "name": "stdout",
          "text": [
            " Val:   loss=0.5680 | accuracy=0.7253 | balanced_accuracy=0.7246 | precision=0.7775 | recall=0.7290 | f1=0.7525 | mcc=0.4457 | roc_auc=0.7876\n"
          ]
        },
        {
          "output_type": "stream",
          "name": "stderr",
          "text": [
            "INFO:jaqpotpy.models.trainers.base_trainer: Val:   loss=0.5680 | accuracy=0.7253 | balanced_accuracy=0.7246 | precision=0.7775 | recall=0.7290 | f1=0.7525 | mcc=0.4457 | roc_auc=0.7876\n",
            "Epoch 9/20: 100%|██████████| 40/40 [00:00<00:00, 62.94it/s, loss=0.574]\n"
          ]
        },
        {
          "output_type": "stream",
          "name": "stdout",
          "text": [
            " Train: loss=0.5739 | accuracy=0.6888 | balanced_accuracy=0.7044 | precision=0.8486 | recall=0.5179 | f1=0.6433 | mcc=0.4329 | roc_auc=0.7986\n"
          ]
        },
        {
          "output_type": "stream",
          "name": "stderr",
          "text": [
            "INFO:jaqpotpy.models.trainers.base_trainer: Train: loss=0.5739 | accuracy=0.6888 | balanced_accuracy=0.7044 | precision=0.8486 | recall=0.5179 | f1=0.6433 | mcc=0.4329 | roc_auc=0.7986\n"
          ]
        },
        {
          "output_type": "stream",
          "name": "stdout",
          "text": [
            " Val:   loss=0.6110 | accuracy=0.6662 | balanced_accuracy=0.6898 | precision=0.8271 | recall=0.5276 | f1=0.6442 | mcc=0.3900 | roc_auc=0.7854\n"
          ]
        },
        {
          "output_type": "stream",
          "name": "stderr",
          "text": [
            "INFO:jaqpotpy.models.trainers.base_trainer: Val:   loss=0.6110 | accuracy=0.6662 | balanced_accuracy=0.6898 | precision=0.8271 | recall=0.5276 | f1=0.6442 | mcc=0.3900 | roc_auc=0.7854\n",
            "Epoch 10/20: 100%|██████████| 40/40 [00:00<00:00, 62.38it/s, loss=0.572]\n"
          ]
        },
        {
          "output_type": "stream",
          "name": "stdout",
          "text": [
            " Train: loss=0.5716 | accuracy=0.7352 | balanced_accuracy=0.7322 | precision=0.7493 | recall=0.7680 | f1=0.7585 | mcc=0.4656 | roc_auc=0.8040\n"
          ]
        },
        {
          "output_type": "stream",
          "name": "stderr",
          "text": [
            "INFO:jaqpotpy.models.trainers.base_trainer: Train: loss=0.5716 | accuracy=0.7352 | balanced_accuracy=0.7322 | precision=0.7493 | recall=0.7680 | f1=0.7585 | mcc=0.4656 | roc_auc=0.8040\n"
          ]
        },
        {
          "output_type": "stream",
          "name": "stdout",
          "text": [
            " Val:   loss=0.5533 | accuracy=0.7294 | balanced_accuracy=0.7241 | precision=0.7657 | recall=0.7602 | f1=0.7629 | mcc=0.4478 | roc_auc=0.7974\n"
          ]
        },
        {
          "output_type": "stream",
          "name": "stderr",
          "text": [
            "INFO:jaqpotpy.models.trainers.base_trainer: Val:   loss=0.5533 | accuracy=0.7294 | balanced_accuracy=0.7241 | precision=0.7657 | recall=0.7602 | f1=0.7629 | mcc=0.4478 | roc_auc=0.7974\n",
            "Epoch 11/20: 100%|██████████| 40/40 [00:00<00:00, 48.12it/s, loss=0.565]\n"
          ]
        },
        {
          "output_type": "stream",
          "name": "stdout",
          "text": [
            " Train: loss=0.5652 | accuracy=0.7326 | balanced_accuracy=0.7365 | precision=0.7895 | recall=0.6905 | f1=0.7367 | mcc=0.4719 | roc_auc=0.8097\n"
          ]
        },
        {
          "output_type": "stream",
          "name": "stderr",
          "text": [
            "INFO:jaqpotpy.models.trainers.base_trainer: Train: loss=0.5652 | accuracy=0.7326 | balanced_accuracy=0.7365 | precision=0.7895 | recall=0.6905 | f1=0.7367 | mcc=0.4719 | roc_auc=0.8097\n"
          ]
        },
        {
          "output_type": "stream",
          "name": "stdout",
          "text": [
            " Val:   loss=0.5578 | accuracy=0.7431 | balanced_accuracy=0.7484 | precision=0.8159 | recall=0.7122 | f1=0.7606 | mcc=0.4915 | roc_auc=0.8013\n"
          ]
        },
        {
          "output_type": "stream",
          "name": "stderr",
          "text": [
            "INFO:jaqpotpy.models.trainers.base_trainer: Val:   loss=0.5578 | accuracy=0.7431 | balanced_accuracy=0.7484 | precision=0.8159 | recall=0.7122 | f1=0.7606 | mcc=0.4915 | roc_auc=0.8013\n",
            "Epoch 12/20: 100%|██████████| 40/40 [00:00<00:00, 47.35it/s, loss=0.561]\n"
          ]
        },
        {
          "output_type": "stream",
          "name": "stdout",
          "text": [
            " Train: loss=0.5609 | accuracy=0.7397 | balanced_accuracy=0.7406 | precision=0.7761 | recall=0.7300 | f1=0.7523 | mcc=0.4796 | roc_auc=0.8118\n"
          ]
        },
        {
          "output_type": "stream",
          "name": "stderr",
          "text": [
            "INFO:jaqpotpy.models.trainers.base_trainer: Train: loss=0.5609 | accuracy=0.7397 | balanced_accuracy=0.7406 | precision=0.7761 | recall=0.7300 | f1=0.7523 | mcc=0.4796 | roc_auc=0.8118\n"
          ]
        },
        {
          "output_type": "stream",
          "name": "stdout",
          "text": [
            " Val:   loss=0.5481 | accuracy=0.7335 | balanced_accuracy=0.7343 | precision=0.7896 | recall=0.7290 | f1=0.7581 | mcc=0.4643 | roc_auc=0.8033\n"
          ]
        },
        {
          "output_type": "stream",
          "name": "stderr",
          "text": [
            "INFO:jaqpotpy.models.trainers.base_trainer: Val:   loss=0.5481 | accuracy=0.7335 | balanced_accuracy=0.7343 | precision=0.7896 | recall=0.7290 | f1=0.7581 | mcc=0.4643 | roc_auc=0.8033\n",
            "Epoch 13/20: 100%|██████████| 40/40 [00:00<00:00, 50.26it/s, loss=0.557]\n"
          ]
        },
        {
          "output_type": "stream",
          "name": "stdout",
          "text": [
            " Train: loss=0.5566 | accuracy=0.7242 | balanced_accuracy=0.7340 | precision=0.8306 | recall=0.6165 | f1=0.7077 | mcc=0.4755 | roc_auc=0.8163\n"
          ]
        },
        {
          "output_type": "stream",
          "name": "stderr",
          "text": [
            "INFO:jaqpotpy.models.trainers.base_trainer: Train: loss=0.5566 | accuracy=0.7242 | balanced_accuracy=0.7340 | precision=0.8306 | recall=0.6165 | f1=0.7077 | mcc=0.4755 | roc_auc=0.8163\n"
          ]
        },
        {
          "output_type": "stream",
          "name": "stdout",
          "text": [
            " Val:   loss=0.5708 | accuracy=0.7129 | balanced_accuracy=0.7277 | precision=0.8312 | recall=0.6259 | f1=0.7141 | mcc=0.4549 | roc_auc=0.8039\n"
          ]
        },
        {
          "output_type": "stream",
          "name": "stderr",
          "text": [
            "INFO:jaqpotpy.models.trainers.base_trainer: Val:   loss=0.5708 | accuracy=0.7129 | balanced_accuracy=0.7277 | precision=0.8312 | recall=0.6259 | f1=0.7141 | mcc=0.4549 | roc_auc=0.8039\n",
            "Epoch 14/20: 100%|██████████| 40/40 [00:00<00:00, 70.34it/s, loss=0.55]\n"
          ]
        },
        {
          "output_type": "stream",
          "name": "stdout",
          "text": [
            " Train: loss=0.5502 | accuracy=0.7424 | balanced_accuracy=0.7469 | precision=0.8041 | recall=0.6934 | f1=0.7446 | mcc=0.4932 | roc_auc=0.8194\n"
          ]
        },
        {
          "output_type": "stream",
          "name": "stderr",
          "text": [
            "INFO:jaqpotpy.models.trainers.base_trainer: Train: loss=0.5502 | accuracy=0.7424 | balanced_accuracy=0.7469 | precision=0.8041 | recall=0.6934 | f1=0.7446 | mcc=0.4932 | roc_auc=0.8194\n"
          ]
        },
        {
          "output_type": "stream",
          "name": "stdout",
          "text": [
            " Val:   loss=0.5501 | accuracy=0.7376 | balanced_accuracy=0.7436 | precision=0.8139 | recall=0.7026 | f1=0.7542 | mcc=0.4820 | roc_auc=0.8093\n"
          ]
        },
        {
          "output_type": "stream",
          "name": "stderr",
          "text": [
            "INFO:jaqpotpy.models.trainers.base_trainer: Val:   loss=0.5501 | accuracy=0.7376 | balanced_accuracy=0.7436 | precision=0.8139 | recall=0.7026 | f1=0.7542 | mcc=0.4820 | roc_auc=0.8093\n",
            "Epoch 15/20: 100%|██████████| 40/40 [00:00<00:00, 68.20it/s, loss=0.555]\n"
          ]
        },
        {
          "output_type": "stream",
          "name": "stdout",
          "text": [
            " Train: loss=0.5546 | accuracy=0.7338 | balanced_accuracy=0.7415 | precision=0.8222 | recall=0.6488 | f1=0.7253 | mcc=0.4865 | roc_auc=0.8209\n"
          ]
        },
        {
          "output_type": "stream",
          "name": "stderr",
          "text": [
            "INFO:jaqpotpy.models.trainers.base_trainer: Train: loss=0.5546 | accuracy=0.7338 | balanced_accuracy=0.7415 | precision=0.8222 | recall=0.6488 | f1=0.7253 | mcc=0.4865 | roc_auc=0.8209\n"
          ]
        },
        {
          "output_type": "stream",
          "name": "stdout",
          "text": [
            " Val:   loss=0.5580 | accuracy=0.7294 | balanced_accuracy=0.7409 | precision=0.8313 | recall=0.6619 | f1=0.7370 | mcc=0.4785 | roc_auc=0.8102\n"
          ]
        },
        {
          "output_type": "stream",
          "name": "stderr",
          "text": [
            "INFO:jaqpotpy.models.trainers.base_trainer: Val:   loss=0.5580 | accuracy=0.7294 | balanced_accuracy=0.7409 | precision=0.8313 | recall=0.6619 | f1=0.7370 | mcc=0.4785 | roc_auc=0.8102\n",
            "Epoch 16/20: 100%|██████████| 40/40 [00:01<00:00, 27.49it/s, loss=0.548]\n"
          ]
        },
        {
          "output_type": "stream",
          "name": "stdout",
          "text": [
            " Train: loss=0.5481 | accuracy=0.7515 | balanced_accuracy=0.7501 | precision=0.7725 | recall=0.7669 | f1=0.7697 | mcc=0.4998 | roc_auc=0.8246\n"
          ]
        },
        {
          "output_type": "stream",
          "name": "stderr",
          "text": [
            "INFO:jaqpotpy.models.trainers.base_trainer: Train: loss=0.5481 | accuracy=0.7515 | balanced_accuracy=0.7501 | precision=0.7725 | recall=0.7669 | f1=0.7697 | mcc=0.4998 | roc_auc=0.8246\n"
          ]
        },
        {
          "output_type": "stream",
          "name": "stdout",
          "text": [
            " Val:   loss=0.5348 | accuracy=0.7527 | balanced_accuracy=0.7494 | precision=0.7912 | recall=0.7722 | f1=0.7816 | mcc=0.4970 | roc_auc=0.8142\n"
          ]
        },
        {
          "output_type": "stream",
          "name": "stderr",
          "text": [
            "INFO:jaqpotpy.models.trainers.base_trainer: Val:   loss=0.5348 | accuracy=0.7527 | balanced_accuracy=0.7494 | precision=0.7912 | recall=0.7722 | f1=0.7816 | mcc=0.4970 | roc_auc=0.8142\n",
            "Epoch 17/20: 100%|██████████| 40/40 [00:01<00:00, 22.67it/s, loss=0.552]\n"
          ]
        },
        {
          "output_type": "stream",
          "name": "stdout",
          "text": [
            " Train: loss=0.5523 | accuracy=0.7556 | balanced_accuracy=0.7549 | precision=0.7804 | recall=0.7637 | f1=0.7719 | mcc=0.5089 | roc_auc=0.8266\n"
          ]
        },
        {
          "output_type": "stream",
          "name": "stderr",
          "text": [
            "INFO:jaqpotpy.models.trainers.base_trainer: Train: loss=0.5523 | accuracy=0.7556 | balanced_accuracy=0.7549 | precision=0.7804 | recall=0.7637 | f1=0.7719 | mcc=0.5089 | roc_auc=0.8266\n"
          ]
        },
        {
          "output_type": "stream",
          "name": "stdout",
          "text": [
            " Val:   loss=0.5336 | accuracy=0.7500 | balanced_accuracy=0.7479 | precision=0.7930 | recall=0.7626 | f1=0.7775 | mcc=0.4930 | roc_auc=0.8161\n"
          ]
        },
        {
          "output_type": "stream",
          "name": "stderr",
          "text": [
            "INFO:jaqpotpy.models.trainers.base_trainer: Val:   loss=0.5336 | accuracy=0.7500 | balanced_accuracy=0.7479 | precision=0.7930 | recall=0.7626 | f1=0.7775 | mcc=0.4930 | roc_auc=0.8161\n",
            "Epoch 18/20: 100%|██████████| 40/40 [00:01<00:00, 22.31it/s, loss=0.543]\n"
          ]
        },
        {
          "output_type": "stream",
          "name": "stdout",
          "text": [
            " Train: loss=0.5429 | accuracy=0.7440 | balanced_accuracy=0.7338 | precision=0.7224 | recall=0.8565 | f1=0.7837 | mcc=0.4860 | roc_auc=0.8219\n"
          ]
        },
        {
          "output_type": "stream",
          "name": "stderr",
          "text": [
            "INFO:jaqpotpy.models.trainers.base_trainer: Train: loss=0.5429 | accuracy=0.7440 | balanced_accuracy=0.7338 | precision=0.7224 | recall=0.8565 | f1=0.7837 | mcc=0.4860 | roc_auc=0.8219\n"
          ]
        },
        {
          "output_type": "stream",
          "name": "stdout",
          "text": [
            " Val:   loss=0.5364 | accuracy=0.7637 | balanced_accuracy=0.7455 | precision=0.7547 | recall=0.8705 | f1=0.8085 | mcc=0.5131 | roc_auc=0.8145\n"
          ]
        },
        {
          "output_type": "stream",
          "name": "stderr",
          "text": [
            "INFO:jaqpotpy.models.trainers.base_trainer: Val:   loss=0.5364 | accuracy=0.7637 | balanced_accuracy=0.7455 | precision=0.7547 | recall=0.8705 | f1=0.8085 | mcc=0.5131 | roc_auc=0.8145\n",
            "Epoch 19/20: 100%|██████████| 40/40 [00:01<00:00, 31.11it/s, loss=0.546]\n"
          ]
        },
        {
          "output_type": "stream",
          "name": "stdout",
          "text": [
            " Train: loss=0.5464 | accuracy=0.7454 | balanced_accuracy=0.7505 | precision=0.8124 | recall=0.6890 | f1=0.7456 | mcc=0.5009 | roc_auc=0.8283\n"
          ]
        },
        {
          "output_type": "stream",
          "name": "stderr",
          "text": [
            "INFO:jaqpotpy.models.trainers.base_trainer: Train: loss=0.5464 | accuracy=0.7454 | balanced_accuracy=0.7505 | precision=0.8124 | recall=0.6890 | f1=0.7456 | mcc=0.5009 | roc_auc=0.8283\n"
          ]
        },
        {
          "output_type": "stream",
          "name": "stdout",
          "text": [
            " Val:   loss=0.5465 | accuracy=0.7418 | balanced_accuracy=0.7492 | precision=0.8244 | recall=0.6978 | f1=0.7558 | mcc=0.4934 | roc_auc=0.8136\n"
          ]
        },
        {
          "output_type": "stream",
          "name": "stderr",
          "text": [
            "INFO:jaqpotpy.models.trainers.base_trainer: Val:   loss=0.5465 | accuracy=0.7418 | balanced_accuracy=0.7492 | precision=0.8244 | recall=0.6978 | f1=0.7558 | mcc=0.4934 | roc_auc=0.8136\n",
            "Epoch 20/20: 100%|██████████| 40/40 [00:01<00:00, 32.32it/s, loss=0.537]\n"
          ]
        },
        {
          "output_type": "stream",
          "name": "stdout",
          "text": [
            " Train: loss=0.5372 | accuracy=0.7501 | balanced_accuracy=0.7546 | precision=0.8122 | recall=0.7006 | f1=0.7523 | mcc=0.5085 | roc_auc=0.8310\n"
          ]
        },
        {
          "output_type": "stream",
          "name": "stderr",
          "text": [
            "INFO:jaqpotpy.models.trainers.base_trainer: Train: loss=0.5372 | accuracy=0.7501 | balanced_accuracy=0.7546 | precision=0.8122 | recall=0.7006 | f1=0.7523 | mcc=0.5085 | roc_auc=0.8310\n"
          ]
        },
        {
          "output_type": "stream",
          "name": "stdout",
          "text": [
            " Val:   loss=0.5383 | accuracy=0.7486 | balanced_accuracy=0.7556 | precision=0.8287 | recall=0.7074 | f1=0.7633 | mcc=0.5060 | roc_auc=0.8188\n"
          ]
        },
        {
          "output_type": "stream",
          "name": "stderr",
          "text": [
            "INFO:jaqpotpy.models.trainers.base_trainer: Val:   loss=0.5383 | accuracy=0.7486 | balanced_accuracy=0.7556 | precision=0.8287 | recall=0.7074 | f1=0.7633 | mcc=0.5060 | roc_auc=0.8188\n"
          ]
        }
      ]
    },
    {
      "cell_type": "markdown",
      "source": [
        "Evaluate and show metrics on the test dataset"
      ],
      "metadata": {
        "id": "iAXvMu7Ghhwh"
      }
    },
    {
      "cell_type": "code",
      "source": [
        "loss, metrics, conf_matrix = trainer.evaluate(test_loader)"
      ],
      "metadata": {
        "id": "YbEzTBJ1ePR2"
      },
      "execution_count": 12,
      "outputs": []
    },
    {
      "cell_type": "code",
      "source": [
        "metrics"
      ],
      "metadata": {
        "colab": {
          "base_uri": "https://localhost:8080/"
        },
        "id": "ZbEBAlVehD99",
        "outputId": "e10175ec-35a9-4089-9ce8-2c9dc4cdd0b4"
      },
      "execution_count": 13,
      "outputs": [
        {
          "output_type": "execute_result",
          "data": {
            "text/plain": [
              "{'accuracy': 0.7376373626373627,\n",
              " 'balanced_accuracy': 0.7437210046392577,\n",
              " 'precision': 0.8104477611940298,\n",
              " 'recall': 0.6804511278195489,\n",
              " 'f1': 0.7397820163487738,\n",
              " 'mcc': 0.4867306256738066,\n",
              " 'roc_auc': 0.8269381660839028,\n",
              " 'loss': 0.5275376163996183}"
            ]
          },
          "metadata": {},
          "execution_count": 13
        }
      ]
    },
    {
      "cell_type": "code",
      "source": [
        "conf_matrix"
      ],
      "metadata": {
        "colab": {
          "base_uri": "https://localhost:8080/"
        },
        "id": "3BYa8ISE0Mai",
        "outputId": "7b718e2b-93ba-4afe-ec7d-0e21e507ef7b"
      },
      "execution_count": 14,
      "outputs": [
        {
          "output_type": "execute_result",
          "data": {
            "text/plain": [
              "array([[531, 127],\n",
              "       [255, 543]])"
            ]
          },
          "metadata": {},
          "execution_count": 14
        }
      ]
    },
    {
      "cell_type": "markdown",
      "source": [
        "Convert PyTorch Geomtric model to onnx format"
      ],
      "metadata": {
        "id": "xH8x4wO6hnV4"
      }
    },
    {
      "cell_type": "code",
      "source": [
        "onnx_model = pyg_to_onnx(model, featurizer)"
      ],
      "metadata": {
        "id": "_dMxl0fJhFEw"
      },
      "execution_count": 15,
      "outputs": []
    },
    {
      "cell_type": "markdown",
      "source": [
        "Log into jaqpot"
      ],
      "metadata": {
        "id": "WpMivtyhhrZB"
      }
    },
    {
      "cell_type": "code",
      "source": [
        "jaqpot = Jaqpot()\n",
        "jaqpot.login()"
      ],
      "metadata": {
        "colab": {
          "base_uri": "https://localhost:8080/"
        },
        "id": "_Qj7XrEThWLW",
        "outputId": "34a561a2-3a3b-443a-97b3-c12ccf0bbc92"
      },
      "execution_count": 16,
      "outputs": [
        {
          "name": "stdout",
          "output_type": "stream",
          "text": [
            "Open this URL in your browser and log in:\n",
            "https://login.jaqpot.org/realms/jaqpot/protocol/openid-connect/auth?client_id=jaqpot-client&response_type=code&redirect_uri=urn:ietf:wg:oauth:2.0:oob&scope=openid email profile&state=random_state_value\n",
            "Enter the authorization code you received: ad4b99b3-d552-4a19-a2ec-5f6ed2c4fc0c.2b052e5d-ef71-411f-bdd8-fb42ad1cbc5e.40e0db1a-58ce-461a-8fbb-6a4451d8587a\n"
          ]
        }
      ]
    },
    {
      "cell_type": "markdown",
      "source": [
        "Deploy the model on the web"
      ],
      "metadata": {
        "id": "hpMMXFuShv8w"
      }
    },
    {
      "cell_type": "code",
      "source": [
        "jaqpot.deploy_torch_model(\n",
        "    onnx_model,\n",
        "    featurizer=featurizer,  # Featurizer used for the model\n",
        "    name=\"Graph Neural Network\",\n",
        "    description=\"Graph Sage Network for AMES mutagenicity classification\",\n",
        "    target_name=\"SOLUBILITY\",\n",
        "    visibility=\"PRIVATE\",\n",
        "    task=\"binary_classification\",  # Specify the task (regression or binary_classification)\n",
        ")"
      ],
      "metadata": {
        "colab": {
          "base_uri": "https://localhost:8080/"
        },
        "id": "WYLhIYl7hYbZ",
        "outputId": "f4943b5b-eb02-4d24-f26b-cf61cec8d55d"
      },
      "execution_count": null,
      "outputs": [
        {
          "output_type": "stream",
          "name": "stderr",
          "text": [
            "\u001b[1m \u001b[32m 2024-11-12 08:40:22,427 - INFO - Model has been successfully uploaded. The url of the model is https://app.jaqpot.org/dashboard/models/1911\u001b[0m\n"
          ]
        }
      ]
    }
  ]
}
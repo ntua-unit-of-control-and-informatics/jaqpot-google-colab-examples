{
  "nbformat": 4,
  "nbformat_minor": 0,
  "metadata": {
    "colab": {
      "provenance": [],
      "gpuType": "T4"
    },
    "kernelspec": {
      "name": "python3",
      "display_name": "Python 3"
    },
    "language_info": {
      "name": "python"
    },
    "accelerator": "GPU"
  },
  "cells": [
    {
      "cell_type": "markdown",
      "source": [
        "<a href=\"https://colab.research.google.com/github/ntua-unit-of-control-and-informatics/jaqpot-google-collab-examples/blob/main/test.ipynb\" target=\"_parent\"><img src=\"https://colab.research.google.com/assets/colab-badge.svg\" alt=\"Open In Colab\"/></a>"
      ],
      "metadata": {
        "id": "b3Q5L_nXk0E1"
      }
    },
    {
      "cell_type": "markdown",
      "source": [
        "### This example demonstrates a Graph Regression example using Aqueous Solubility dataset."
      ],
      "metadata": {
        "id": "7nYu-F4zn5uy"
      }
    },
    {
      "cell_type": "code",
      "execution_count": 1,
      "metadata": {
        "colab": {
          "base_uri": "https://localhost:8080/",
          "height": 0
        },
        "id": "YbDckDdYaCIv",
        "outputId": "80fc2dbe-043d-45ab-933e-4a5acf28a657"
      },
      "outputs": [
        {
          "output_type": "stream",
          "name": "stdout",
          "text": [
            "\u001b[2K     \u001b[90m━━━━━━━━━━━━━━━━━━━━━━━━━━━━━━━━━━━━━━━━\u001b[0m \u001b[32m146.8/146.8 kB\u001b[0m \u001b[31m7.2 MB/s\u001b[0m eta \u001b[36m0:00:00\u001b[0m\n",
            "\u001b[?25h  Preparing metadata (setup.py) ... \u001b[?25l\u001b[?25hdone\n",
            "\u001b[2K     \u001b[90m━━━━━━━━━━━━━━━━━━━━━━━━━━━━━━━━━━━━━━━━\u001b[0m \u001b[32m43.7/43.7 kB\u001b[0m \u001b[31m2.1 MB/s\u001b[0m eta \u001b[36m0:00:00\u001b[0m\n",
            "\u001b[2K     \u001b[90m━━━━━━━━━━━━━━━━━━━━━━━━━━━━━━━━━━━━━━━━\u001b[0m \u001b[32m45.4/45.4 kB\u001b[0m \u001b[31m2.2 MB/s\u001b[0m eta \u001b[36m0:00:00\u001b[0m\n",
            "\u001b[?25h  Preparing metadata (setup.py) ... \u001b[?25l\u001b[?25hdone\n",
            "\u001b[2K   \u001b[90m━━━━━━━━━━━━━━━━━━━━━━━━━━━━━━━━━━━━━━━━\u001b[0m \u001b[32m315.1/315.1 kB\u001b[0m \u001b[31m9.5 MB/s\u001b[0m eta \u001b[36m0:00:00\u001b[0m\n",
            "\u001b[2K   \u001b[90m━━━━━━━━━━━━━━━━━━━━━━━━━━━━━━━━━━━━━━━━\u001b[0m \u001b[32m52.0/52.0 kB\u001b[0m \u001b[31m4.9 MB/s\u001b[0m eta \u001b[36m0:00:00\u001b[0m\n",
            "\u001b[2K   \u001b[90m━━━━━━━━━━━━━━━━━━━━━━━━━━━━━━━━━━━━━━━━\u001b[0m \u001b[32m547.8/547.8 kB\u001b[0m \u001b[31m31.9 MB/s\u001b[0m eta \u001b[36m0:00:00\u001b[0m\n",
            "\u001b[2K   \u001b[90m━━━━━━━━━━━━━━━━━━━━━━━━━━━━━━━━━━━━━━━━\u001b[0m \u001b[32m84.1/84.1 kB\u001b[0m \u001b[31m7.2 MB/s\u001b[0m eta \u001b[36m0:00:00\u001b[0m\n",
            "\u001b[2K   \u001b[90m━━━━━━━━━━━━━━━━━━━━━━━━━━━━━━━━━━━━━━━━\u001b[0m \u001b[32m1.1/1.1 MB\u001b[0m \u001b[31m48.5 MB/s\u001b[0m eta \u001b[36m0:00:00\u001b[0m\n",
            "\u001b[2K   \u001b[90m━━━━━━━━━━━━━━━━━━━━━━━━━━━━━━━━━━━━━━━━\u001b[0m \u001b[32m9.6/9.6 MB\u001b[0m \u001b[31m55.6 MB/s\u001b[0m eta \u001b[36m0:00:00\u001b[0m\n",
            "\u001b[2K   \u001b[90m━━━━━━━━━━━━━━━━━━━━━━━━━━━━━━━━━━━━━━━━\u001b[0m \u001b[32m9.4/9.4 MB\u001b[0m \u001b[31m109.5 MB/s\u001b[0m eta \u001b[36m0:00:00\u001b[0m\n",
            "\u001b[2K   \u001b[90m━━━━━━━━━━━━━━━━━━━━━━━━━━━━━━━━━━━━━━━━\u001b[0m \u001b[32m3.2/3.2 MB\u001b[0m \u001b[31m84.8 MB/s\u001b[0m eta \u001b[36m0:00:00\u001b[0m\n",
            "\u001b[2K   \u001b[90m━━━━━━━━━━━━━━━━━━━━━━━━━━━━━━━━━━━━━━━━\u001b[0m \u001b[32m43.1/43.1 MB\u001b[0m \u001b[31m12.6 MB/s\u001b[0m eta \u001b[36m0:00:00\u001b[0m\n",
            "\u001b[2K   \u001b[90m━━━━━━━━━━━━━━━━━━━━━━━━━━━━━━━━━━━━━━━━\u001b[0m \u001b[32m34.9/34.9 MB\u001b[0m \u001b[31m15.5 MB/s\u001b[0m eta \u001b[36m0:00:00\u001b[0m\n",
            "\u001b[2K   \u001b[90m━━━━━━━━━━━━━━━━━━━━━━━━━━━━━━━━━━━━━━━━\u001b[0m \u001b[32m15.9/15.9 MB\u001b[0m \u001b[31m24.5 MB/s\u001b[0m eta \u001b[36m0:00:00\u001b[0m\n",
            "\u001b[2K   \u001b[90m━━━━━━━━━━━━━━━━━━━━━━━━━━━━━━━━━━━━━━━━\u001b[0m \u001b[32m254.7/254.7 kB\u001b[0m \u001b[31m20.3 MB/s\u001b[0m eta \u001b[36m0:00:00\u001b[0m\n",
            "\u001b[2K   \u001b[90m━━━━━━━━━━━━━━━━━━━━━━━━━━━━━━━━━━━━━━━━\u001b[0m \u001b[32m141.7/141.7 kB\u001b[0m \u001b[31m12.5 MB/s\u001b[0m eta \u001b[36m0:00:00\u001b[0m\n",
            "\u001b[2K   \u001b[90m━━━━━━━━━━━━━━━━━━━━━━━━━━━━━━━━━━━━━━━━\u001b[0m \u001b[32m116.3/116.3 kB\u001b[0m \u001b[31m11.3 MB/s\u001b[0m eta \u001b[36m0:00:00\u001b[0m\n",
            "\u001b[2K   \u001b[90m━━━━━━━━━━━━━━━━━━━━━━━━━━━━━━━━━━━━━━━━\u001b[0m \u001b[32m316.1/316.1 kB\u001b[0m \u001b[31m25.5 MB/s\u001b[0m eta \u001b[36m0:00:00\u001b[0m\n",
            "\u001b[2K   \u001b[90m━━━━━━━━━━━━━━━━━━━━━━━━━━━━━━━━━━━━━━━━\u001b[0m \u001b[32m34.4/34.4 MB\u001b[0m \u001b[31m16.7 MB/s\u001b[0m eta \u001b[36m0:00:00\u001b[0m\n",
            "\u001b[2K   \u001b[90m━━━━━━━━━━━━━━━━━━━━━━━━━━━━━━━━━━━━━━━━\u001b[0m \u001b[32m2.1/2.1 MB\u001b[0m \u001b[31m45.0 MB/s\u001b[0m eta \u001b[36m0:00:00\u001b[0m\n",
            "\u001b[2K   \u001b[90m━━━━━━━━━━━━━━━━━━━━━━━━━━━━━━━━━━━━━━━━\u001b[0m \u001b[32m26.5/26.5 MB\u001b[0m \u001b[31m24.4 MB/s\u001b[0m eta \u001b[36m0:00:00\u001b[0m\n",
            "\u001b[2K   \u001b[90m━━━━━━━━━━━━━━━━━━━━━━━━━━━━━━━━━━━━━━━━\u001b[0m \u001b[32m55.2/55.2 kB\u001b[0m \u001b[31m4.4 MB/s\u001b[0m eta \u001b[36m0:00:00\u001b[0m\n",
            "\u001b[2K   \u001b[90m━━━━━━━━━━━━━━━━━━━━━━━━━━━━━━━━━━━━━━━━\u001b[0m \u001b[32m134.8/134.8 kB\u001b[0m \u001b[31m12.0 MB/s\u001b[0m eta \u001b[36m0:00:00\u001b[0m\n",
            "\u001b[2K   \u001b[90m━━━━━━━━━━━━━━━━━━━━━━━━━━━━━━━━━━━━━━━━\u001b[0m \u001b[32m162.6/162.6 kB\u001b[0m \u001b[31m14.8 MB/s\u001b[0m eta \u001b[36m0:00:00\u001b[0m\n",
            "\u001b[2K   \u001b[90m━━━━━━━━━━━━━━━━━━━━━━━━━━━━━━━━━━━━━━━━\u001b[0m \u001b[32m29.4/29.4 MB\u001b[0m \u001b[31m18.4 MB/s\u001b[0m eta \u001b[36m0:00:00\u001b[0m\n",
            "\u001b[2K   \u001b[90m━━━━━━━━━━━━━━━━━━━━━━━━━━━━━━━━━━━━━━━━\u001b[0m \u001b[32m107.8/107.8 kB\u001b[0m \u001b[31m9.4 MB/s\u001b[0m eta \u001b[36m0:00:00\u001b[0m\n",
            "\u001b[2K   \u001b[90m━━━━━━━━━━━━━━━━━━━━━━━━━━━━━━━━━━━━━━━━\u001b[0m \u001b[32m194.1/194.1 kB\u001b[0m \u001b[31m18.2 MB/s\u001b[0m eta \u001b[36m0:00:00\u001b[0m\n",
            "\u001b[2K   \u001b[90m━━━━━━━━━━━━━━━━━━━━━━━━━━━━━━━━━━━━━━━━\u001b[0m \u001b[32m77.4/77.4 kB\u001b[0m \u001b[31m7.2 MB/s\u001b[0m eta \u001b[36m0:00:00\u001b[0m\n",
            "\u001b[2K   \u001b[90m━━━━━━━━━━━━━━━━━━━━━━━━━━━━━━━━━━━━━━━━\u001b[0m \u001b[32m50.1/50.1 kB\u001b[0m \u001b[31m3.2 MB/s\u001b[0m eta \u001b[36m0:00:00\u001b[0m\n",
            "\u001b[2K   \u001b[90m━━━━━━━━━━━━━━━━━━━━━━━━━━━━━━━━━━━━━━━━\u001b[0m \u001b[32m1.6/1.6 MB\u001b[0m \u001b[31m76.7 MB/s\u001b[0m eta \u001b[36m0:00:00\u001b[0m\n",
            "\u001b[2K   \u001b[90m━━━━━━━━━━━━━━━━━━━━━━━━━━━━━━━━━━━━━━━━\u001b[0m \u001b[32m56.9/56.9 kB\u001b[0m \u001b[31m5.4 MB/s\u001b[0m eta \u001b[36m0:00:00\u001b[0m\n",
            "\u001b[2K   \u001b[90m━━━━━━━━━━━━━━━━━━━━━━━━━━━━━━━━━━━━━━━━\u001b[0m \u001b[32m61.4/61.4 kB\u001b[0m \u001b[31m5.4 MB/s\u001b[0m eta \u001b[36m0:00:00\u001b[0m\n",
            "\u001b[2K   \u001b[90m━━━━━━━━━━━━━━━━━━━━━━━━━━━━━━━━━━━━━━━━\u001b[0m \u001b[32m88.8/88.8 kB\u001b[0m \u001b[31m8.4 MB/s\u001b[0m eta \u001b[36m0:00:00\u001b[0m\n",
            "\u001b[2K   \u001b[90m━━━━━━━━━━━━━━━━━━━━━━━━━━━━━━━━━━━━━━━━\u001b[0m \u001b[32m12.6/12.6 MB\u001b[0m \u001b[31m113.9 MB/s\u001b[0m eta \u001b[36m0:00:00\u001b[0m\n",
            "\u001b[2K   \u001b[90m━━━━━━━━━━━━━━━━━━━━━━━━━━━━━━━━━━━━━━━━\u001b[0m \u001b[32m66.4/66.4 kB\u001b[0m \u001b[31m5.7 MB/s\u001b[0m eta \u001b[36m0:00:00\u001b[0m\n",
            "\u001b[2K   \u001b[90m━━━━━━━━━━━━━━━━━━━━━━━━━━━━━━━━━━━━━━━━\u001b[0m \u001b[32m587.4/587.4 kB\u001b[0m \u001b[31m41.4 MB/s\u001b[0m eta \u001b[36m0:00:00\u001b[0m\n",
            "\u001b[2K   \u001b[90m━━━━━━━━━━━━━━━━━━━━━━━━━━━━━━━━━━━━━━━━\u001b[0m \u001b[32m769.2/769.2 kB\u001b[0m \u001b[31m43.9 MB/s\u001b[0m eta \u001b[36m0:00:00\u001b[0m\n",
            "\u001b[2K   \u001b[90m━━━━━━━━━━━━━━━━━━━━━━━━━━━━━━━━━━━━━━━━\u001b[0m \u001b[32m3.1/3.1 MB\u001b[0m \u001b[31m80.9 MB/s\u001b[0m eta \u001b[36m0:00:00\u001b[0m\n",
            "\u001b[2K   \u001b[90m━━━━━━━━━━━━━━━━━━━━━━━━━━━━━━━━━━━━━━━━\u001b[0m \u001b[32m83.6/83.6 kB\u001b[0m \u001b[31m8.0 MB/s\u001b[0m eta \u001b[36m0:00:00\u001b[0m\n",
            "\u001b[?25h  Building wheel for PyTDC (setup.py) ... \u001b[?25l\u001b[?25hdone\n",
            "  Building wheel for session-info (setup.py) ... \u001b[?25l\u001b[?25hdone\n",
            "\u001b[31mERROR: pip's dependency resolver does not currently take into account all the packages that are installed. This behaviour is the source of the following dependency conflicts.\n",
            "sphinx 5.0.2 requires docutils<0.19,>=0.14, but you have docutils 0.21.2 which is incompatible.\n",
            "gcsfs 2024.10.0 requires fsspec==2024.10.0, but you have fsspec 2024.5.0 which is incompatible.\n",
            "mlxtend 0.23.2 requires scikit-learn>=1.3.1, but you have scikit-learn 1.2.2 which is incompatible.\u001b[0m\u001b[31m\n",
            "\u001b[2K     \u001b[90m━━━━━━━━━━━━━━━━━━━━━━━━━━━━━━━━━━━━━━━━\u001b[0m \u001b[32m107.3/107.3 kB\u001b[0m \u001b[31m6.8 MB/s\u001b[0m eta \u001b[36m0:00:00\u001b[0m\n",
            "\u001b[2K     \u001b[90m━━━━━━━━━━━━━━━━━━━━━━━━━━━━━━━━━━━━━━━━\u001b[0m \u001b[32m57.6/57.6 kB\u001b[0m \u001b[31m5.2 MB/s\u001b[0m eta \u001b[36m0:00:00\u001b[0m\n",
            "\u001b[2K     \u001b[90m━━━━━━━━━━━━━━━━━━━━━━━━━━━━━━━━━━━━━━━━\u001b[0m \u001b[32m64.2/64.2 kB\u001b[0m \u001b[31m5.6 MB/s\u001b[0m eta \u001b[36m0:00:00\u001b[0m\n",
            "\u001b[2K   \u001b[90m━━━━━━━━━━━━━━━━━━━━━━━━━━━━━━━━━━━━━━━━\u001b[0m \u001b[32m184.7/184.7 kB\u001b[0m \u001b[31m14.6 MB/s\u001b[0m eta \u001b[36m0:00:00\u001b[0m\n",
            "\u001b[2K   \u001b[90m━━━━━━━━━━━━━━━━━━━━━━━━━━━━━━━━━━━━━━━━\u001b[0m \u001b[32m60.8/60.8 kB\u001b[0m \u001b[31m5.5 MB/s\u001b[0m eta \u001b[36m0:00:00\u001b[0m\n",
            "\u001b[2K   \u001b[90m━━━━━━━━━━━━━━━━━━━━━━━━━━━━━━━━━━━━━━━━\u001b[0m \u001b[32m75.6/75.6 kB\u001b[0m \u001b[31m7.2 MB/s\u001b[0m eta \u001b[36m0:00:00\u001b[0m\n",
            "\u001b[2K   \u001b[90m━━━━━━━━━━━━━━━━━━━━━━━━━━━━━━━━━━━━━━━━\u001b[0m \u001b[32m353.2/353.2 kB\u001b[0m \u001b[31m27.7 MB/s\u001b[0m eta \u001b[36m0:00:00\u001b[0m\n",
            "\u001b[2K   \u001b[90m━━━━━━━━━━━━━━━━━━━━━━━━━━━━━━━━━━━━━━━━\u001b[0m \u001b[32m176.0/176.0 kB\u001b[0m \u001b[31m11.0 MB/s\u001b[0m eta \u001b[36m0:00:00\u001b[0m\n",
            "\u001b[2K   \u001b[90m━━━━━━━━━━━━━━━━━━━━━━━━━━━━━━━━━━━━━━━━\u001b[0m \u001b[32m16.0/16.0 MB\u001b[0m \u001b[31m102.9 MB/s\u001b[0m eta \u001b[36m0:00:00\u001b[0m\n",
            "\u001b[2K   \u001b[90m━━━━━━━━━━━━━━━━━━━━━━━━━━━━━━━━━━━━━━━━\u001b[0m \u001b[32m329.0/329.0 kB\u001b[0m \u001b[31m26.7 MB/s\u001b[0m eta \u001b[36m0:00:00\u001b[0m\n",
            "\u001b[2K   \u001b[90m━━━━━━━━━━━━━━━━━━━━━━━━━━━━━━━━━━━━━━━━\u001b[0m \u001b[32m13.2/13.2 MB\u001b[0m \u001b[31m65.6 MB/s\u001b[0m eta \u001b[36m0:00:00\u001b[0m\n",
            "\u001b[2K   \u001b[90m━━━━━━━━━━━━━━━━━━━━━━━━━━━━━━━━━━━━━━━━\u001b[0m \u001b[32m218.7/218.7 kB\u001b[0m \u001b[31m19.5 MB/s\u001b[0m eta \u001b[36m0:00:00\u001b[0m\n",
            "\u001b[2K   \u001b[90m━━━━━━━━━━━━━━━━━━━━━━━━━━━━━━━━━━━━━━━━\u001b[0m \u001b[32m409.3/409.3 kB\u001b[0m \u001b[31m33.8 MB/s\u001b[0m eta \u001b[36m0:00:00\u001b[0m\n",
            "\u001b[2K   \u001b[90m━━━━━━━━━━━━━━━━━━━━━━━━━━━━━━━━━━━━━━━━\u001b[0m \u001b[32m4.8/4.8 MB\u001b[0m \u001b[31m8.7 MB/s\u001b[0m eta \u001b[36m0:00:00\u001b[0m\n",
            "\u001b[2K   \u001b[90m━━━━━━━━━━━━━━━━━━━━━━━━━━━━━━━━━━━━━━━━\u001b[0m \u001b[32m76.0/76.0 kB\u001b[0m \u001b[31m6.8 MB/s\u001b[0m eta \u001b[36m0:00:00\u001b[0m\n",
            "\u001b[2K   \u001b[90m━━━━━━━━━━━━━━━━━━━━━━━━━━━━━━━━━━━━━━━━\u001b[0m \u001b[32m63.9/63.9 kB\u001b[0m \u001b[31m5.9 MB/s\u001b[0m eta \u001b[36m0:00:00\u001b[0m\n",
            "\u001b[2K   \u001b[90m━━━━━━━━━━━━━━━━━━━━━━━━━━━━━━━━━━━━━━━━\u001b[0m \u001b[32m10.3/10.3 MB\u001b[0m \u001b[31m114.7 MB/s\u001b[0m eta \u001b[36m0:00:00\u001b[0m\n",
            "\u001b[2K   \u001b[90m━━━━━━━━━━━━━━━━━━━━━━━━━━━━━━━━━━━━━━━━\u001b[0m \u001b[32m13.3/13.3 MB\u001b[0m \u001b[31m45.0 MB/s\u001b[0m eta \u001b[36m0:00:00\u001b[0m\n",
            "\u001b[2K   \u001b[90m━━━━━━━━━━━━━━━━━━━━━━━━━━━━━━━━━━━━━━━━\u001b[0m \u001b[32m137.9/137.9 kB\u001b[0m \u001b[31m12.9 MB/s\u001b[0m eta \u001b[36m0:00:00\u001b[0m\n",
            "\u001b[2K   \u001b[90m━━━━━━━━━━━━━━━━━━━━━━━━━━━━━━━━━━━━━━━━\u001b[0m \u001b[32m298.4/298.4 kB\u001b[0m \u001b[31m26.2 MB/s\u001b[0m eta \u001b[36m0:00:00\u001b[0m\n",
            "\u001b[2K   \u001b[90m━━━━━━━━━━━━━━━━━━━━━━━━━━━━━━━━━━━━━━━━\u001b[0m \u001b[32m779.1/779.1 MB\u001b[0m \u001b[31m1.9 MB/s\u001b[0m eta \u001b[36m0:00:00\u001b[0m\n",
            "\u001b[2K   \u001b[90m━━━━━━━━━━━━━━━━━━━━━━━━━━━━━━━━━━━━━━━━\u001b[0m \u001b[32m1.1/1.1 MB\u001b[0m \u001b[31m4.0 MB/s\u001b[0m eta \u001b[36m0:00:00\u001b[0m\n",
            "\u001b[2K   \u001b[90m━━━━━━━━━━━━━━━━━━━━━━━━━━━━━━━━━━━━━━━━\u001b[0m \u001b[32m78.3/78.3 kB\u001b[0m \u001b[31m7.1 MB/s\u001b[0m eta \u001b[36m0:00:00\u001b[0m\n",
            "\u001b[2K   \u001b[90m━━━━━━━━━━━━━━━━━━━━━━━━━━━━━━━━━━━━━━━━\u001b[0m \u001b[32m153.9/153.9 MB\u001b[0m \u001b[31m9.6 MB/s\u001b[0m eta \u001b[36m0:00:00\u001b[0m\n",
            "\u001b[2K   \u001b[90m━━━━━━━━━━━━━━━━━━━━━━━━━━━━━━━━━━━━━━━━\u001b[0m \u001b[32m410.6/410.6 MB\u001b[0m \u001b[31m3.9 MB/s\u001b[0m eta \u001b[36m0:00:00\u001b[0m\n",
            "\u001b[2K   \u001b[90m━━━━━━━━━━━━━━━━━━━━━━━━━━━━━━━━━━━━━━━━\u001b[0m \u001b[32m14.1/14.1 MB\u001b[0m \u001b[31m51.7 MB/s\u001b[0m eta \u001b[36m0:00:00\u001b[0m\n",
            "\u001b[2K   \u001b[90m━━━━━━━━━━━━━━━━━━━━━━━━━━━━━━━━━━━━━━━━\u001b[0m \u001b[32m23.7/23.7 MB\u001b[0m \u001b[31m31.5 MB/s\u001b[0m eta \u001b[36m0:00:00\u001b[0m\n",
            "\u001b[2K   \u001b[90m━━━━━━━━━━━━━━━━━━━━━━━━━━━━━━━━━━━━━━━━\u001b[0m \u001b[32m823.6/823.6 kB\u001b[0m \u001b[31m33.7 MB/s\u001b[0m eta \u001b[36m0:00:00\u001b[0m\n",
            "\u001b[2K   \u001b[90m━━━━━━━━━━━━━━━━━━━━━━━━━━━━━━━━━━━━━━━━\u001b[0m \u001b[32m731.7/731.7 MB\u001b[0m \u001b[31m2.8 MB/s\u001b[0m eta \u001b[36m0:00:00\u001b[0m\n",
            "\u001b[2K   \u001b[90m━━━━━━━━━━━━━━━━━━━━━━━━━━━━━━━━━━━━━━━━\u001b[0m \u001b[32m121.6/121.6 MB\u001b[0m \u001b[31m7.6 MB/s\u001b[0m eta \u001b[36m0:00:00\u001b[0m\n",
            "\u001b[2K   \u001b[90m━━━━━━━━━━━━━━━━━━━━━━━━━━━━━━━━━━━━━━━━\u001b[0m \u001b[32m56.5/56.5 MB\u001b[0m \u001b[31m17.8 MB/s\u001b[0m eta \u001b[36m0:00:00\u001b[0m\n",
            "\u001b[2K   \u001b[90m━━━━━━━━━━━━━━━━━━━━━━━━━━━━━━━━━━━━━━━━\u001b[0m \u001b[32m124.2/124.2 MB\u001b[0m \u001b[31m7.6 MB/s\u001b[0m eta \u001b[36m0:00:00\u001b[0m\n",
            "\u001b[2K   \u001b[90m━━━━━━━━━━━━━━━━━━━━━━━━━━━━━━━━━━━━━━━━\u001b[0m \u001b[32m196.0/196.0 MB\u001b[0m \u001b[31m6.0 MB/s\u001b[0m eta \u001b[36m0:00:00\u001b[0m\n",
            "\u001b[2K   \u001b[90m━━━━━━━━━━━━━━━━━━━━━━━━━━━━━━━━━━━━━━━━\u001b[0m \u001b[32m176.2/176.2 MB\u001b[0m \u001b[31m7.4 MB/s\u001b[0m eta \u001b[36m0:00:00\u001b[0m\n",
            "\u001b[2K   \u001b[90m━━━━━━━━━━━━━━━━━━━━━━━━━━━━━━━━━━━━━━━━\u001b[0m \u001b[32m99.1/99.1 kB\u001b[0m \u001b[31m7.9 MB/s\u001b[0m eta \u001b[36m0:00:00\u001b[0m\n",
            "\u001b[2K   \u001b[90m━━━━━━━━━━━━━━━━━━━━━━━━━━━━━━━━━━━━━━━━\u001b[0m \u001b[32m2.1/2.1 MB\u001b[0m \u001b[31m25.8 MB/s\u001b[0m eta \u001b[36m0:00:00\u001b[0m\n",
            "\u001b[2K   \u001b[90m━━━━━━━━━━━━━━━━━━━━━━━━━━━━━━━━━━━━━━━━\u001b[0m \u001b[32m168.1/168.1 MB\u001b[0m \u001b[31m7.3 MB/s\u001b[0m eta \u001b[36m0:00:00\u001b[0m\n",
            "\u001b[2K   \u001b[90m━━━━━━━━━━━━━━━━━━━━━━━━━━━━━━━━━━━━━━━━\u001b[0m \u001b[32m99.0/99.0 kB\u001b[0m \u001b[31m9.1 MB/s\u001b[0m eta \u001b[36m0:00:00\u001b[0m\n",
            "\u001b[2K   \u001b[90m━━━━━━━━━━━━━━━━━━━━━━━━━━━━━━━━━━━━━━━━\u001b[0m \u001b[32m92.5/92.5 kB\u001b[0m \u001b[31m8.6 MB/s\u001b[0m eta \u001b[36m0:00:00\u001b[0m\n",
            "\u001b[2K   \u001b[90m━━━━━━━━━━━━━━━━━━━━━━━━━━━━━━━━━━━━━━━━\u001b[0m \u001b[32m68.5/68.5 kB\u001b[0m \u001b[31m5.9 MB/s\u001b[0m eta \u001b[36m0:00:00\u001b[0m\n",
            "\u001b[2K   \u001b[90m━━━━━━━━━━━━━━━━━━━━━━━━━━━━━━━━━━━━━━━━\u001b[0m \u001b[32m84.5/84.5 kB\u001b[0m \u001b[31m7.5 MB/s\u001b[0m eta \u001b[36m0:00:00\u001b[0m\n",
            "\u001b[2K   \u001b[90m━━━━━━━━━━━━━━━━━━━━━━━━━━━━━━━━━━━━━━━━\u001b[0m \u001b[32m1.1/1.1 MB\u001b[0m \u001b[31m55.7 MB/s\u001b[0m eta \u001b[36m0:00:00\u001b[0m\n",
            "\u001b[2K   \u001b[90m━━━━━━━━━━━━━━━━━━━━━━━━━━━━━━━━━━━━━━━━\u001b[0m \u001b[32m332.3/332.3 kB\u001b[0m \u001b[31m26.3 MB/s\u001b[0m eta \u001b[36m0:00:00\u001b[0m\n",
            "\u001b[2K   \u001b[90m━━━━━━━━━━━━━━━━━━━━━━━━━━━━━━━━━━━━━━━━\u001b[0m \u001b[32m865.8/865.8 kB\u001b[0m \u001b[31m43.3 MB/s\u001b[0m eta \u001b[36m0:00:00\u001b[0m\n",
            "\u001b[2K   \u001b[90m━━━━━━━━━━━━━━━━━━━━━━━━━━━━━━━━━━━━━━━━\u001b[0m \u001b[32m117.8/117.8 kB\u001b[0m \u001b[31m11.0 MB/s\u001b[0m eta \u001b[36m0:00:00\u001b[0m\n",
            "\u001b[2K   \u001b[90m━━━━━━━━━━━━━━━━━━━━━━━━━━━━━━━━━━━━━━━━\u001b[0m \u001b[32m1.1/1.1 MB\u001b[0m \u001b[31m58.1 MB/s\u001b[0m eta \u001b[36m0:00:00\u001b[0m\n",
            "\u001b[2K   \u001b[90m━━━━━━━━━━━━━━━━━━━━━━━━━━━━━━━━━━━━━━━━\u001b[0m \u001b[32m58.3/58.3 kB\u001b[0m \u001b[31m5.4 MB/s\u001b[0m eta \u001b[36m0:00:00\u001b[0m\n",
            "\u001b[2K   \u001b[90m━━━━━━━━━━━━━━━━━━━━━━━━━━━━━━━━━━━━━━━━\u001b[0m \u001b[32m3.1/3.1 MB\u001b[0m \u001b[31m88.6 MB/s\u001b[0m eta \u001b[36m0:00:00\u001b[0m\n",
            "\u001b[2K   \u001b[90m━━━━━━━━━━━━━━━━━━━━━━━━━━━━━━━━━━━━━━━━\u001b[0m \u001b[32m46.0/46.0 kB\u001b[0m \u001b[31m4.0 MB/s\u001b[0m eta \u001b[36m0:00:00\u001b[0m\n",
            "\u001b[2K   \u001b[90m━━━━━━━━━━━━━━━━━━━━━━━━━━━━━━━━━━━━━━━━\u001b[0m \u001b[32m561.4/561.4 kB\u001b[0m \u001b[31m38.5 MB/s\u001b[0m eta \u001b[36m0:00:00\u001b[0m\n",
            "\u001b[2K   \u001b[90m━━━━━━━━━━━━━━━━━━━━━━━━━━━━━━━━━━━━━━━━\u001b[0m \u001b[32m469.0/469.0 kB\u001b[0m \u001b[31m35.0 MB/s\u001b[0m eta \u001b[36m0:00:00\u001b[0m\n",
            "\u001b[2K   \u001b[90m━━━━━━━━━━━━━━━━━━━━━━━━━━━━━━━━━━━━━━━━\u001b[0m \u001b[32m86.8/86.8 kB\u001b[0m \u001b[31m5.2 MB/s\u001b[0m eta \u001b[36m0:00:00\u001b[0m\n",
            "\u001b[2K   \u001b[90m━━━━━━━━━━━━━━━━━━━━━━━━━━━━━━━━━━━━━━━━\u001b[0m \u001b[32m722.2/722.2 kB\u001b[0m \u001b[31m45.1 MB/s\u001b[0m eta \u001b[36m0:00:00\u001b[0m\n",
            "\u001b[?25h\u001b[31mERROR: pip's dependency resolver does not currently take into account all the packages that are installed. This behaviour is the source of the following dependency conflicts.\n",
            "pytdc 1.1.1 requires scikit-learn==1.2.2, but you have scikit-learn 1.5.0 which is incompatible.\n",
            "sphinx 5.0.2 requires docutils<0.19,>=0.14, but you have docutils 0.21.2 which is incompatible.\n",
            "gcsfs 2024.10.0 requires fsspec==2024.10.0, but you have fsspec 2024.5.0 which is incompatible.\n",
            "google-colab 1.0.0 requires requests==2.32.3, but you have requests 2.32.2 which is incompatible.\n",
            "langchain 0.3.7 requires pydantic<3.0.0,>=2.7.4, but you have pydantic 2.7.1 which is incompatible.\n",
            "tensorflow 2.17.0 requires protobuf!=4.21.0,!=4.21.1,!=4.21.2,!=4.21.3,!=4.21.4,!=4.21.5,<5.0.0dev,>=3.20.3, but you have protobuf 3.20.2 which is incompatible.\n",
            "tensorflow-metadata 1.16.1 requires protobuf<4.21,>=3.20.3; python_version < \"3.11\", but you have protobuf 3.20.2 which is incompatible.\n",
            "torchaudio 2.5.0+cu121 requires torch==2.5.0, but you have torch 2.3.0 which is incompatible.\n",
            "torchvision 0.20.0+cu121 requires torch==2.5.0, but you have torch 2.3.0 which is incompatible.\u001b[0m\u001b[31m\n",
            "\u001b[0m"
          ]
        }
      ],
      "source": [
        "!pip install PyTDC --quiet\n",
        "!pip install jaqpotpy --quiet"
      ]
    },
    {
      "cell_type": "markdown",
      "source": [
        "Import required Libraries"
      ],
      "metadata": {
        "id": "T0UrrS7tcBu4"
      }
    },
    {
      "cell_type": "code",
      "source": [
        "import warnings\n",
        "import torch\n",
        "from torch_geometric.loader import DataLoader\n",
        "from jaqpotpy import Jaqpot\n",
        "from jaqpotpy.descriptors.graph import SmilesGraphFeaturizer\n",
        "from jaqpotpy.datasets import SmilesGraphDataset\n",
        "from jaqpotpy.models.torch_geometric_models.graph_neural_network import GraphSageNetwork, pyg_to_onnx\n",
        "from jaqpotpy.models.trainers.graph_trainers import RegressionGraphModelTrainer\n",
        "\n",
        "# This is do disable any rdkit warnings\n",
        "from rdkit import RDLogger\n",
        "RDLogger.DisableLog('rdApp.*')\n",
        "warnings.simplefilter(\"ignore\")"
      ],
      "metadata": {
        "id": "1b6Me7nwbuad"
      },
      "execution_count": 6,
      "outputs": []
    },
    {
      "cell_type": "markdown",
      "source": [
        "Load the regression data. We use TDC library to obtain train, validation, and test splits with SMILES and Solubility."
      ],
      "metadata": {
        "id": "GpY6g3qsoOH4"
      }
    },
    {
      "cell_type": "code",
      "source": [
        "from tdc.single_pred import ADME\n",
        "\n",
        "data = ADME(name = 'Solubility_AqSolDB')\n",
        "data_splits = data.get_split()\n",
        "\n",
        "def split_to_list(split):\n",
        "    return data_splits[split]['Drug'].to_list(), data_splits[split]['Y'].to_list()\n",
        "\n",
        "# List of smiles and endpoints\n",
        "train_smiles , train_y =  split_to_list('train')\n",
        "val_smiles, val_y = split_to_list('valid')\n",
        "test_smiles , test_y =  split_to_list('test')"
      ],
      "metadata": {
        "colab": {
          "base_uri": "https://localhost:8080/",
          "height": 0
        },
        "id": "zj_PsMyoaYiu",
        "outputId": "351af564-f5bc-4bd3-f66c-95973d311ace"
      },
      "execution_count": 3,
      "outputs": [
        {
          "output_type": "stream",
          "name": "stderr",
          "text": [
            "Downloading...\n",
            "100%|██████████| 853k/853k [00:01<00:00, 758kiB/s]\n",
            "Loading...\n",
            "Done!\n"
          ]
        }
      ]
    },
    {
      "cell_type": "markdown",
      "source": [
        "Firstly, a SmilesGraphFeaturizer instance is created. We add 4 features in the featurizer and their specified value (if needed)."
      ],
      "metadata": {
        "id": "vo3doWeQodog"
      }
    },
    {
      "cell_type": "code",
      "source": [
        "featurizer = SmilesGraphFeaturizer(include_edge_features=False)\n",
        "featurizer.add_atom_feature(\n",
        "    \"symbol\",\n",
        "    ['C', 'K', 'S', 'Br', 'H', 'F', 'N', 'Cl', 'P', 'O', 'I', 'UNK']\n",
        ")\n",
        "featurizer.add_atom_feature(\"total_num_hs\", [0, 1, 2, 3, 4])\n",
        "featurizer.add_atom_feature(\"degree\", [0, 1, 2, 3, 4, 5, 6])\n",
        "featurizer.add_atom_feature(\"is_aromatic\")"
      ],
      "metadata": {
        "id": "FziirVqSbrQe"
      },
      "execution_count": 4,
      "outputs": []
    },
    {
      "cell_type": "markdown",
      "source": [
        "Create train, validation and testing datasets"
      ],
      "metadata": {
        "id": "_Z0IViP7otDc"
      }
    },
    {
      "cell_type": "code",
      "source": [
        "train_dataset = SmilesGraphDataset(\n",
        "    smiles=train_smiles, y=train_y, featurizer=featurizer\n",
        ")\n",
        "val_dataset = SmilesGraphDataset(\n",
        "    smiles=val_smiles, y=val_y, featurizer=featurizer\n",
        ")\n",
        "test_dataset = SmilesGraphDataset(\n",
        "    smiles=test_smiles, y=test_y, featurizer=featurizer\n",
        ")\n",
        "\n",
        "train_dataset.precompute_featurization()\n",
        "val_dataset.precompute_featurization()\n",
        "test_dataset.precompute_featurization()"
      ],
      "metadata": {
        "id": "DVcbu-Q5dLya"
      },
      "execution_count": 7,
      "outputs": []
    },
    {
      "cell_type": "markdown",
      "source": [
        "Create a model. For this demonstration GraphConvolutionNetwork is used with only node features."
      ],
      "metadata": {
        "id": "dtNHB5LAo7vO"
      }
    },
    {
      "cell_type": "code",
      "source": [
        "node_features = featurizer.get_num_node_features()\n",
        "model = GraphSageNetwork(\n",
        "    input_dim=node_features,\n",
        "    hidden_layers=1,\n",
        "    hidden_dim=32,\n",
        "    output_dim=1,\n",
        "    activation=torch.nn.ReLU(),\n",
        "    dropout_proba=0.2,\n",
        "    batch_norm = False,\n",
        "    seed = 42,\n",
        "    pooling=\"add\",\n",
        ")"
      ],
      "metadata": {
        "colab": {
          "base_uri": "https://localhost:8080/",
          "height": 0
        },
        "id": "HYkz6sdRdpkL",
        "outputId": "acb79e89-fa3c-4468-e70c-09536074688f"
      },
      "execution_count": 17,
      "outputs": [
        {
          "output_type": "stream",
          "name": "stdout",
          "text": [
            "ReLU()\n"
          ]
        }
      ]
    },
    {
      "cell_type": "markdown",
      "source": [
        "Define optimizer and loss function"
      ],
      "metadata": {
        "id": "PG4DjDqPpFY_"
      }
    },
    {
      "cell_type": "code",
      "source": [
        "optimizer = torch.optim.Adam(model.parameters(), lr=5e-4)\n",
        "loss = torch.nn.MSELoss()"
      ],
      "metadata": {
        "id": "BHwmlKRhdw6H"
      },
      "execution_count": 18,
      "outputs": []
    },
    {
      "cell_type": "markdown",
      "source": [
        "Create instance of Regression Trainer"
      ],
      "metadata": {
        "id": "vzyzfQ3_pKed"
      }
    },
    {
      "cell_type": "code",
      "source": [
        "trainer = RegressionGraphModelTrainer(\n",
        "    model=model, # Jaqpotpy Graph Model\n",
        "    n_epochs=20,\n",
        "    optimizer=optimizer,\n",
        "    loss_fn=loss,\n",
        "    scheduler=None\n",
        ")"
      ],
      "metadata": {
        "id": "QZlkQsCgd9ax"
      },
      "execution_count": 19,
      "outputs": []
    },
    {
      "cell_type": "markdown",
      "source": [
        "Create PyTorch geometric dataloaders"
      ],
      "metadata": {
        "id": "OPVj9rl8pTA2"
      }
    },
    {
      "cell_type": "code",
      "source": [
        "train_loader = DataLoader(train_dataset, batch_size=128, shuffle=True)\n",
        "val_loader = DataLoader(val_dataset, batch_size=128, shuffle=False)\n",
        "test_loader = DataLoader(test_dataset, batch_size=128, shuffle=False)"
      ],
      "metadata": {
        "id": "4ab-mCVMeDs0"
      },
      "execution_count": 20,
      "outputs": []
    },
    {
      "cell_type": "markdown",
      "source": [
        "Train and evaluate on the validation set for 20 epochs"
      ],
      "metadata": {
        "id": "xOkkwFNepbH0"
      }
    },
    {
      "cell_type": "code",
      "source": [
        "trainer.train(train_loader, val_loader)"
      ],
      "metadata": {
        "colab": {
          "base_uri": "https://localhost:8080/",
          "height": 0
        },
        "id": "aLAeGwPLeO4F",
        "outputId": "9060b108-88c1-4201-bc45-6c786e927ce5"
      },
      "execution_count": 21,
      "outputs": [
        {
          "output_type": "stream",
          "name": "stderr",
          "text": [
            "Epoch 1/20: 100%|██████████| 55/55 [00:01<00:00, 49.21it/s, loss=6.81]\n"
          ]
        },
        {
          "output_type": "stream",
          "name": "stdout",
          "text": [
            "Epoch 1:\n"
          ]
        },
        {
          "output_type": "stream",
          "name": "stderr",
          "text": [
            "INFO:jaqpotpy.models.trainers.base_trainer:Epoch 1:\n"
          ]
        },
        {
          "output_type": "stream",
          "name": "stdout",
          "text": [
            " Train: loss=6.8124 | explained_variance=0.2953 | r2=0.1846 | mse=4.6464 | rmse=2.1555 | mae=1.5971\n"
          ]
        },
        {
          "output_type": "stream",
          "name": "stderr",
          "text": [
            "INFO:jaqpotpy.models.trainers.base_trainer: Train: loss=6.8124 | explained_variance=0.2953 | r2=0.1846 | mse=4.6464 | rmse=2.1555 | mae=1.5971\n"
          ]
        },
        {
          "output_type": "stream",
          "name": "stdout",
          "text": [
            " Val:   loss=6.8560 | explained_variance=-0.1548 | r2=-0.2919 | mse=6.8560 | rmse=2.6184 | mae=1.6088\n"
          ]
        },
        {
          "output_type": "stream",
          "name": "stderr",
          "text": [
            "INFO:jaqpotpy.models.trainers.base_trainer: Val:   loss=6.8560 | explained_variance=-0.1548 | r2=-0.2919 | mse=6.8560 | rmse=2.6184 | mae=1.6088\n",
            "Epoch 2/20: 100%|██████████| 55/55 [00:01<00:00, 43.06it/s, loss=4.5]\n"
          ]
        },
        {
          "output_type": "stream",
          "name": "stdout",
          "text": [
            "Epoch 2:\n"
          ]
        },
        {
          "output_type": "stream",
          "name": "stderr",
          "text": [
            "INFO:jaqpotpy.models.trainers.base_trainer:Epoch 2:\n"
          ]
        },
        {
          "output_type": "stream",
          "name": "stdout",
          "text": [
            " Train: loss=4.4983 | explained_variance=0.4112 | r2=0.2344 | mse=4.3628 | rmse=2.0887 | mae=1.5765\n"
          ]
        },
        {
          "output_type": "stream",
          "name": "stderr",
          "text": [
            "INFO:jaqpotpy.models.trainers.base_trainer: Train: loss=4.4983 | explained_variance=0.4112 | r2=0.2344 | mse=4.3628 | rmse=2.0887 | mae=1.5765\n"
          ]
        },
        {
          "output_type": "stream",
          "name": "stdout",
          "text": [
            " Val:   loss=6.4945 | explained_variance=-0.0222 | r2=-0.2238 | mse=6.4945 | rmse=2.5484 | mae=1.6195\n"
          ]
        },
        {
          "output_type": "stream",
          "name": "stderr",
          "text": [
            "INFO:jaqpotpy.models.trainers.base_trainer: Val:   loss=6.4945 | explained_variance=-0.0222 | r2=-0.2238 | mse=6.4945 | rmse=2.5484 | mae=1.6195\n",
            "Epoch 3/20: 100%|██████████| 55/55 [00:00<00:00, 69.68it/s, loss=4.23]\n"
          ]
        },
        {
          "output_type": "stream",
          "name": "stdout",
          "text": [
            "Epoch 3:\n"
          ]
        },
        {
          "output_type": "stream",
          "name": "stderr",
          "text": [
            "INFO:jaqpotpy.models.trainers.base_trainer:Epoch 3:\n"
          ]
        },
        {
          "output_type": "stream",
          "name": "stdout",
          "text": [
            " Train: loss=4.2298 | explained_variance=0.4164 | r2=0.3403 | mse=3.7592 | rmse=1.9389 | mae=1.4292\n"
          ]
        },
        {
          "output_type": "stream",
          "name": "stderr",
          "text": [
            "INFO:jaqpotpy.models.trainers.base_trainer: Train: loss=4.2298 | explained_variance=0.4164 | r2=0.3403 | mse=3.7592 | rmse=1.9389 | mae=1.4292\n"
          ]
        },
        {
          "output_type": "stream",
          "name": "stdout",
          "text": [
            " Val:   loss=6.5423 | explained_variance=-0.1468 | r2=-0.2328 | mse=6.5423 | rmse=2.5578 | mae=1.4615\n"
          ]
        },
        {
          "output_type": "stream",
          "name": "stderr",
          "text": [
            "INFO:jaqpotpy.models.trainers.base_trainer: Val:   loss=6.5423 | explained_variance=-0.1468 | r2=-0.2328 | mse=6.5423 | rmse=2.5578 | mae=1.4615\n",
            "Epoch 4/20: 100%|██████████| 55/55 [00:00<00:00, 65.80it/s, loss=3.98]\n"
          ]
        },
        {
          "output_type": "stream",
          "name": "stdout",
          "text": [
            "Epoch 4:\n"
          ]
        },
        {
          "output_type": "stream",
          "name": "stderr",
          "text": [
            "INFO:jaqpotpy.models.trainers.base_trainer:Epoch 4:\n"
          ]
        },
        {
          "output_type": "stream",
          "name": "stdout",
          "text": [
            " Train: loss=3.9784 | explained_variance=0.4225 | r2=0.3878 | mse=3.4886 | rmse=1.8678 | mae=1.3482\n"
          ]
        },
        {
          "output_type": "stream",
          "name": "stderr",
          "text": [
            "INFO:jaqpotpy.models.trainers.base_trainer: Train: loss=3.9784 | explained_variance=0.4225 | r2=0.3878 | mse=3.4886 | rmse=1.8678 | mae=1.3482\n"
          ]
        },
        {
          "output_type": "stream",
          "name": "stdout",
          "text": [
            " Val:   loss=6.5042 | explained_variance=-0.1870 | r2=-0.2256 | mse=6.5042 | rmse=2.5503 | mae=1.3727\n"
          ]
        },
        {
          "output_type": "stream",
          "name": "stderr",
          "text": [
            "INFO:jaqpotpy.models.trainers.base_trainer: Val:   loss=6.5042 | explained_variance=-0.1870 | r2=-0.2256 | mse=6.5042 | rmse=2.5503 | mae=1.3727\n",
            "Epoch 5/20: 100%|██████████| 55/55 [00:00<00:00, 68.81it/s, loss=3.83]\n"
          ]
        },
        {
          "output_type": "stream",
          "name": "stdout",
          "text": [
            "Epoch 5:\n"
          ]
        },
        {
          "output_type": "stream",
          "name": "stderr",
          "text": [
            "INFO:jaqpotpy.models.trainers.base_trainer:Epoch 5:\n"
          ]
        },
        {
          "output_type": "stream",
          "name": "stdout",
          "text": [
            " Train: loss=3.8253 | explained_variance=0.4290 | r2=0.4097 | mse=3.3640 | rmse=1.8341 | mae=1.3142\n"
          ]
        },
        {
          "output_type": "stream",
          "name": "stderr",
          "text": [
            "INFO:jaqpotpy.models.trainers.base_trainer: Train: loss=3.8253 | explained_variance=0.4290 | r2=0.4097 | mse=3.3640 | rmse=1.8341 | mae=1.3142\n"
          ]
        },
        {
          "output_type": "stream",
          "name": "stdout",
          "text": [
            " Val:   loss=6.6934 | explained_variance=-0.2397 | r2=-0.2613 | mse=6.6934 | rmse=2.5872 | mae=1.3337\n"
          ]
        },
        {
          "output_type": "stream",
          "name": "stderr",
          "text": [
            "INFO:jaqpotpy.models.trainers.base_trainer: Val:   loss=6.6934 | explained_variance=-0.2397 | r2=-0.2613 | mse=6.6934 | rmse=2.5872 | mae=1.3337\n",
            "Epoch 6/20: 100%|██████████| 55/55 [00:00<00:00, 69.42it/s, loss=3.7]\n"
          ]
        },
        {
          "output_type": "stream",
          "name": "stdout",
          "text": [
            "Epoch 6:\n"
          ]
        },
        {
          "output_type": "stream",
          "name": "stderr",
          "text": [
            "INFO:jaqpotpy.models.trainers.base_trainer:Epoch 6:\n"
          ]
        },
        {
          "output_type": "stream",
          "name": "stdout",
          "text": [
            " Train: loss=3.6982 | explained_variance=0.4372 | r2=0.4251 | mse=3.2762 | rmse=1.8100 | mae=1.2794\n"
          ]
        },
        {
          "output_type": "stream",
          "name": "stderr",
          "text": [
            "INFO:jaqpotpy.models.trainers.base_trainer: Train: loss=3.6982 | explained_variance=0.4372 | r2=0.4251 | mse=3.2762 | rmse=1.8100 | mae=1.2794\n"
          ]
        },
        {
          "output_type": "stream",
          "name": "stdout",
          "text": [
            " Val:   loss=6.2729 | explained_variance=-0.1681 | r2=-0.1821 | mse=6.2729 | rmse=2.5046 | mae=1.2959\n"
          ]
        },
        {
          "output_type": "stream",
          "name": "stderr",
          "text": [
            "INFO:jaqpotpy.models.trainers.base_trainer: Val:   loss=6.2729 | explained_variance=-0.1681 | r2=-0.1821 | mse=6.2729 | rmse=2.5046 | mae=1.2959\n",
            "Epoch 7/20: 100%|██████████| 55/55 [00:00<00:00, 72.31it/s, loss=3.7]\n"
          ]
        },
        {
          "output_type": "stream",
          "name": "stdout",
          "text": [
            "Epoch 7:\n"
          ]
        },
        {
          "output_type": "stream",
          "name": "stderr",
          "text": [
            "INFO:jaqpotpy.models.trainers.base_trainer:Epoch 7:\n"
          ]
        },
        {
          "output_type": "stream",
          "name": "stdout",
          "text": [
            " Train: loss=3.7021 | explained_variance=0.4815 | r2=0.3624 | mse=3.6332 | rmse=1.9061 | mae=1.4229\n"
          ]
        },
        {
          "output_type": "stream",
          "name": "stderr",
          "text": [
            "INFO:jaqpotpy.models.trainers.base_trainer: Train: loss=3.7021 | explained_variance=0.4815 | r2=0.3624 | mse=3.6332 | rmse=1.9061 | mae=1.4229\n"
          ]
        },
        {
          "output_type": "stream",
          "name": "stdout",
          "text": [
            " Val:   loss=5.3483 | explained_variance=0.1275 | r2=-0.0078 | mse=5.3483 | rmse=2.3126 | mae=1.4602\n"
          ]
        },
        {
          "output_type": "stream",
          "name": "stderr",
          "text": [
            "INFO:jaqpotpy.models.trainers.base_trainer: Val:   loss=5.3483 | explained_variance=0.1275 | r2=-0.0078 | mse=5.3483 | rmse=2.3126 | mae=1.4602\n",
            "Epoch 8/20: 100%|██████████| 55/55 [00:00<00:00, 67.62it/s, loss=3.59]\n"
          ]
        },
        {
          "output_type": "stream",
          "name": "stdout",
          "text": [
            "Epoch 8:\n"
          ]
        },
        {
          "output_type": "stream",
          "name": "stderr",
          "text": [
            "INFO:jaqpotpy.models.trainers.base_trainer:Epoch 8:\n"
          ]
        },
        {
          "output_type": "stream",
          "name": "stdout",
          "text": [
            " Train: loss=3.5937 | explained_variance=0.4706 | r2=0.4376 | mse=3.2050 | rmse=1.7902 | mae=1.2801\n"
          ]
        },
        {
          "output_type": "stream",
          "name": "stderr",
          "text": [
            "INFO:jaqpotpy.models.trainers.base_trainer: Train: loss=3.5937 | explained_variance=0.4706 | r2=0.4376 | mse=3.2050 | rmse=1.7902 | mae=1.2801\n"
          ]
        },
        {
          "output_type": "stream",
          "name": "stdout",
          "text": [
            " Val:   loss=5.5476 | explained_variance=-0.0080 | r2=-0.0454 | mse=5.5476 | rmse=2.3553 | mae=1.3002\n"
          ]
        },
        {
          "output_type": "stream",
          "name": "stderr",
          "text": [
            "INFO:jaqpotpy.models.trainers.base_trainer: Val:   loss=5.5476 | explained_variance=-0.0080 | r2=-0.0454 | mse=5.5476 | rmse=2.3553 | mae=1.3002\n",
            "Epoch 9/20: 100%|██████████| 55/55 [00:00<00:00, 68.37it/s, loss=3.46]\n"
          ]
        },
        {
          "output_type": "stream",
          "name": "stdout",
          "text": [
            "Epoch 9:\n"
          ]
        },
        {
          "output_type": "stream",
          "name": "stderr",
          "text": [
            "INFO:jaqpotpy.models.trainers.base_trainer:Epoch 9:\n"
          ]
        },
        {
          "output_type": "stream",
          "name": "stdout",
          "text": [
            " Train: loss=3.4635 | explained_variance=0.4932 | r2=0.4284 | mse=3.2575 | rmse=1.8049 | mae=1.3217\n"
          ]
        },
        {
          "output_type": "stream",
          "name": "stderr",
          "text": [
            "INFO:jaqpotpy.models.trainers.base_trainer: Train: loss=3.4635 | explained_variance=0.4932 | r2=0.4284 | mse=3.2575 | rmse=1.8049 | mae=1.3217\n"
          ]
        },
        {
          "output_type": "stream",
          "name": "stdout",
          "text": [
            " Val:   loss=5.1778 | explained_variance=0.0999 | r2=0.0243 | mse=5.1778 | rmse=2.2755 | mae=1.3510\n"
          ]
        },
        {
          "output_type": "stream",
          "name": "stderr",
          "text": [
            "INFO:jaqpotpy.models.trainers.base_trainer: Val:   loss=5.1778 | explained_variance=0.0999 | r2=0.0243 | mse=5.1778 | rmse=2.2755 | mae=1.3510\n",
            "Epoch 10/20: 100%|██████████| 55/55 [00:00<00:00, 59.48it/s, loss=3.52]\n"
          ]
        },
        {
          "output_type": "stream",
          "name": "stdout",
          "text": [
            "Epoch 10:\n"
          ]
        },
        {
          "output_type": "stream",
          "name": "stderr",
          "text": [
            "INFO:jaqpotpy.models.trainers.base_trainer:Epoch 10:\n"
          ]
        },
        {
          "output_type": "stream",
          "name": "stdout",
          "text": [
            " Train: loss=3.5208 | explained_variance=0.4723 | r2=0.4542 | mse=3.1101 | rmse=1.7636 | mae=1.2430\n"
          ]
        },
        {
          "output_type": "stream",
          "name": "stderr",
          "text": [
            "INFO:jaqpotpy.models.trainers.base_trainer: Train: loss=3.5208 | explained_variance=0.4723 | r2=0.4542 | mse=3.1101 | rmse=1.7636 | mae=1.2430\n"
          ]
        },
        {
          "output_type": "stream",
          "name": "stdout",
          "text": [
            " Val:   loss=5.5386 | explained_variance=-0.0233 | r2=-0.0437 | mse=5.5386 | rmse=2.3534 | mae=1.2558\n"
          ]
        },
        {
          "output_type": "stream",
          "name": "stderr",
          "text": [
            "INFO:jaqpotpy.models.trainers.base_trainer: Val:   loss=5.5386 | explained_variance=-0.0233 | r2=-0.0437 | mse=5.5386 | rmse=2.3534 | mae=1.2558\n",
            "Epoch 11/20: 100%|██████████| 55/55 [00:01<00:00, 47.07it/s, loss=3.33]\n"
          ]
        },
        {
          "output_type": "stream",
          "name": "stdout",
          "text": [
            "Epoch 11:\n"
          ]
        },
        {
          "output_type": "stream",
          "name": "stderr",
          "text": [
            "INFO:jaqpotpy.models.trainers.base_trainer:Epoch 11:\n"
          ]
        },
        {
          "output_type": "stream",
          "name": "stdout",
          "text": [
            " Train: loss=3.3270 | explained_variance=0.5109 | r2=0.3493 | mse=3.7079 | rmse=1.9256 | mae=1.4556\n"
          ]
        },
        {
          "output_type": "stream",
          "name": "stderr",
          "text": [
            "INFO:jaqpotpy.models.trainers.base_trainer: Train: loss=3.3270 | explained_variance=0.5109 | r2=0.3493 | mse=3.7079 | rmse=1.9256 | mae=1.4556\n"
          ]
        },
        {
          "output_type": "stream",
          "name": "stdout",
          "text": [
            " Val:   loss=5.0839 | explained_variance=0.2280 | r2=0.0420 | mse=5.0839 | rmse=2.2547 | mae=1.4989\n"
          ]
        },
        {
          "output_type": "stream",
          "name": "stderr",
          "text": [
            "INFO:jaqpotpy.models.trainers.base_trainer: Val:   loss=5.0839 | explained_variance=0.2280 | r2=0.0420 | mse=5.0839 | rmse=2.2547 | mae=1.4989\n",
            "Epoch 12/20: 100%|██████████| 55/55 [00:00<00:00, 64.05it/s, loss=3.41]\n"
          ]
        },
        {
          "output_type": "stream",
          "name": "stdout",
          "text": [
            "Epoch 12:\n"
          ]
        },
        {
          "output_type": "stream",
          "name": "stderr",
          "text": [
            "INFO:jaqpotpy.models.trainers.base_trainer:Epoch 12:\n"
          ]
        },
        {
          "output_type": "stream",
          "name": "stdout",
          "text": [
            " Train: loss=3.4092 | explained_variance=0.4665 | r2=0.4640 | mse=3.0542 | rmse=1.7476 | mae=1.2161\n"
          ]
        },
        {
          "output_type": "stream",
          "name": "stderr",
          "text": [
            "INFO:jaqpotpy.models.trainers.base_trainer: Train: loss=3.4092 | explained_variance=0.4665 | r2=0.4640 | mse=3.0542 | rmse=1.7476 | mae=1.2161\n"
          ]
        },
        {
          "output_type": "stream",
          "name": "stdout",
          "text": [
            " Val:   loss=5.6204 | explained_variance=-0.0559 | r2=-0.0591 | mse=5.6204 | rmse=2.3707 | mae=1.2222\n"
          ]
        },
        {
          "output_type": "stream",
          "name": "stderr",
          "text": [
            "INFO:jaqpotpy.models.trainers.base_trainer: Val:   loss=5.6204 | explained_variance=-0.0559 | r2=-0.0591 | mse=5.6204 | rmse=2.3707 | mae=1.2222\n",
            "Epoch 13/20: 100%|██████████| 55/55 [00:00<00:00, 68.81it/s, loss=3.27]\n"
          ]
        },
        {
          "output_type": "stream",
          "name": "stdout",
          "text": [
            "Epoch 13:\n"
          ]
        },
        {
          "output_type": "stream",
          "name": "stderr",
          "text": [
            "INFO:jaqpotpy.models.trainers.base_trainer:Epoch 13:\n"
          ]
        },
        {
          "output_type": "stream",
          "name": "stdout",
          "text": [
            " Train: loss=3.2664 | explained_variance=0.5159 | r2=0.4122 | mse=3.3494 | rmse=1.8301 | mae=1.3588\n"
          ]
        },
        {
          "output_type": "stream",
          "name": "stderr",
          "text": [
            "INFO:jaqpotpy.models.trainers.base_trainer: Train: loss=3.2664 | explained_variance=0.5159 | r2=0.4122 | mse=3.3494 | rmse=1.8301 | mae=1.3588\n"
          ]
        },
        {
          "output_type": "stream",
          "name": "stdout",
          "text": [
            " Val:   loss=4.8443 | explained_variance=0.2072 | r2=0.0871 | mse=4.8443 | rmse=2.2010 | mae=1.3949\n"
          ]
        },
        {
          "output_type": "stream",
          "name": "stderr",
          "text": [
            "INFO:jaqpotpy.models.trainers.base_trainer: Val:   loss=4.8443 | explained_variance=0.2072 | r2=0.0871 | mse=4.8443 | rmse=2.2010 | mae=1.3949\n",
            "Epoch 14/20: 100%|██████████| 55/55 [00:00<00:00, 65.84it/s, loss=3.33]\n"
          ]
        },
        {
          "output_type": "stream",
          "name": "stdout",
          "text": [
            "Epoch 14:\n"
          ]
        },
        {
          "output_type": "stream",
          "name": "stderr",
          "text": [
            "INFO:jaqpotpy.models.trainers.base_trainer:Epoch 14:\n"
          ]
        },
        {
          "output_type": "stream",
          "name": "stdout",
          "text": [
            " Train: loss=3.3304 | explained_variance=0.4978 | r2=0.4808 | mse=2.9585 | rmse=1.7200 | mae=1.2234\n"
          ]
        },
        {
          "output_type": "stream",
          "name": "stderr",
          "text": [
            "INFO:jaqpotpy.models.trainers.base_trainer: Train: loss=3.3304 | explained_variance=0.4978 | r2=0.4808 | mse=2.9585 | rmse=1.7200 | mae=1.2234\n"
          ]
        },
        {
          "output_type": "stream",
          "name": "stdout",
          "text": [
            " Val:   loss=5.2059 | explained_variance=0.0398 | r2=0.0190 | mse=5.2059 | rmse=2.2816 | mae=1.2391\n"
          ]
        },
        {
          "output_type": "stream",
          "name": "stderr",
          "text": [
            "INFO:jaqpotpy.models.trainers.base_trainer: Val:   loss=5.2059 | explained_variance=0.0398 | r2=0.0190 | mse=5.2059 | rmse=2.2816 | mae=1.2391\n",
            "Epoch 15/20: 100%|██████████| 55/55 [00:00<00:00, 68.39it/s, loss=3.22]\n"
          ]
        },
        {
          "output_type": "stream",
          "name": "stdout",
          "text": [
            "Epoch 15:\n"
          ]
        },
        {
          "output_type": "stream",
          "name": "stderr",
          "text": [
            "INFO:jaqpotpy.models.trainers.base_trainer:Epoch 15:\n"
          ]
        },
        {
          "output_type": "stream",
          "name": "stdout",
          "text": [
            " Train: loss=3.2219 | explained_variance=0.5192 | r2=0.4472 | mse=3.1501 | rmse=1.7749 | mae=1.3015\n"
          ]
        },
        {
          "output_type": "stream",
          "name": "stderr",
          "text": [
            "INFO:jaqpotpy.models.trainers.base_trainer: Train: loss=3.2219 | explained_variance=0.5192 | r2=0.4472 | mse=3.1501 | rmse=1.7749 | mae=1.3015\n"
          ]
        },
        {
          "output_type": "stream",
          "name": "stdout",
          "text": [
            " Val:   loss=4.8697 | explained_variance=0.1662 | r2=0.0824 | mse=4.8697 | rmse=2.2067 | mae=1.3329\n"
          ]
        },
        {
          "output_type": "stream",
          "name": "stderr",
          "text": [
            "INFO:jaqpotpy.models.trainers.base_trainer: Val:   loss=4.8697 | explained_variance=0.1662 | r2=0.0824 | mse=4.8697 | rmse=2.2067 | mae=1.3329\n",
            "Epoch 16/20: 100%|██████████| 55/55 [00:00<00:00, 71.18it/s, loss=3.18]\n"
          ]
        },
        {
          "output_type": "stream",
          "name": "stdout",
          "text": [
            "Epoch 16:\n"
          ]
        },
        {
          "output_type": "stream",
          "name": "stderr",
          "text": [
            "INFO:jaqpotpy.models.trainers.base_trainer:Epoch 16:\n"
          ]
        },
        {
          "output_type": "stream",
          "name": "stdout",
          "text": [
            " Train: loss=3.1766 | explained_variance=0.5119 | r2=0.4718 | mse=3.0102 | rmse=1.7350 | mae=1.2459\n"
          ]
        },
        {
          "output_type": "stream",
          "name": "stderr",
          "text": [
            "INFO:jaqpotpy.models.trainers.base_trainer: Train: loss=3.1766 | explained_variance=0.5119 | r2=0.4718 | mse=3.0102 | rmse=1.7350 | mae=1.2459\n"
          ]
        },
        {
          "output_type": "stream",
          "name": "stdout",
          "text": [
            " Val:   loss=4.8079 | explained_variance=0.1414 | r2=0.0940 | mse=4.8079 | rmse=2.1927 | mae=1.2691\n"
          ]
        },
        {
          "output_type": "stream",
          "name": "stderr",
          "text": [
            "INFO:jaqpotpy.models.trainers.base_trainer: Val:   loss=4.8079 | explained_variance=0.1414 | r2=0.0940 | mse=4.8079 | rmse=2.1927 | mae=1.2691\n",
            "Epoch 17/20: 100%|██████████| 55/55 [00:00<00:00, 65.58it/s, loss=3.2]\n"
          ]
        },
        {
          "output_type": "stream",
          "name": "stdout",
          "text": [
            "Epoch 17:\n"
          ]
        },
        {
          "output_type": "stream",
          "name": "stderr",
          "text": [
            "INFO:jaqpotpy.models.trainers.base_trainer:Epoch 17:\n"
          ]
        },
        {
          "output_type": "stream",
          "name": "stdout",
          "text": [
            " Train: loss=3.2039 | explained_variance=0.5124 | r2=0.4893 | mse=2.9104 | rmse=1.7060 | mae=1.2061\n"
          ]
        },
        {
          "output_type": "stream",
          "name": "stderr",
          "text": [
            "INFO:jaqpotpy.models.trainers.base_trainer: Train: loss=3.2039 | explained_variance=0.5124 | r2=0.4893 | mse=2.9104 | rmse=1.7060 | mae=1.2061\n"
          ]
        },
        {
          "output_type": "stream",
          "name": "stdout",
          "text": [
            " Val:   loss=5.0049 | explained_variance=0.0837 | r2=0.0569 | mse=5.0049 | rmse=2.2372 | mae=1.2196\n"
          ]
        },
        {
          "output_type": "stream",
          "name": "stderr",
          "text": [
            "INFO:jaqpotpy.models.trainers.base_trainer: Val:   loss=5.0049 | explained_variance=0.0837 | r2=0.0569 | mse=5.0049 | rmse=2.2372 | mae=1.2196\n",
            "Epoch 18/20: 100%|██████████| 55/55 [00:00<00:00, 65.49it/s, loss=3.17]\n"
          ]
        },
        {
          "output_type": "stream",
          "name": "stdout",
          "text": [
            "Epoch 18:\n"
          ]
        },
        {
          "output_type": "stream",
          "name": "stderr",
          "text": [
            "INFO:jaqpotpy.models.trainers.base_trainer:Epoch 18:\n"
          ]
        },
        {
          "output_type": "stream",
          "name": "stdout",
          "text": [
            " Train: loss=3.1740 | explained_variance=0.5190 | r2=0.4800 | mse=2.9634 | rmse=1.7214 | mae=1.2307\n"
          ]
        },
        {
          "output_type": "stream",
          "name": "stderr",
          "text": [
            "INFO:jaqpotpy.models.trainers.base_trainer: Train: loss=3.1740 | explained_variance=0.5190 | r2=0.4800 | mse=2.9634 | rmse=1.7214 | mae=1.2307\n"
          ]
        },
        {
          "output_type": "stream",
          "name": "stdout",
          "text": [
            " Val:   loss=4.8286 | explained_variance=0.1350 | r2=0.0901 | mse=4.8286 | rmse=2.1974 | mae=1.2532\n"
          ]
        },
        {
          "output_type": "stream",
          "name": "stderr",
          "text": [
            "INFO:jaqpotpy.models.trainers.base_trainer: Val:   loss=4.8286 | explained_variance=0.1350 | r2=0.0901 | mse=4.8286 | rmse=2.1974 | mae=1.2532\n",
            "Epoch 19/20: 100%|██████████| 55/55 [00:00<00:00, 66.76it/s, loss=3.22]\n"
          ]
        },
        {
          "output_type": "stream",
          "name": "stdout",
          "text": [
            "Epoch 19:\n"
          ]
        },
        {
          "output_type": "stream",
          "name": "stderr",
          "text": [
            "INFO:jaqpotpy.models.trainers.base_trainer:Epoch 19:\n"
          ]
        },
        {
          "output_type": "stream",
          "name": "stdout",
          "text": [
            " Train: loss=3.2175 | explained_variance=0.4942 | r2=0.4918 | mse=2.8960 | rmse=1.7018 | mae=1.1779\n"
          ]
        },
        {
          "output_type": "stream",
          "name": "stderr",
          "text": [
            "INFO:jaqpotpy.models.trainers.base_trainer: Train: loss=3.2175 | explained_variance=0.4942 | r2=0.4918 | mse=2.8960 | rmse=1.7018 | mae=1.1779\n"
          ]
        },
        {
          "output_type": "stream",
          "name": "stdout",
          "text": [
            " Val:   loss=5.3400 | explained_variance=-0.0032 | r2=-0.0063 | mse=5.3400 | rmse=2.3109 | mae=1.1856\n"
          ]
        },
        {
          "output_type": "stream",
          "name": "stderr",
          "text": [
            "INFO:jaqpotpy.models.trainers.base_trainer: Val:   loss=5.3400 | explained_variance=-0.0032 | r2=-0.0063 | mse=5.3400 | rmse=2.3109 | mae=1.1856\n",
            "Epoch 20/20: 100%|██████████| 55/55 [00:01<00:00, 52.08it/s, loss=3.1]\n"
          ]
        },
        {
          "output_type": "stream",
          "name": "stdout",
          "text": [
            "Epoch 20:\n"
          ]
        },
        {
          "output_type": "stream",
          "name": "stderr",
          "text": [
            "INFO:jaqpotpy.models.trainers.base_trainer:Epoch 20:\n"
          ]
        },
        {
          "output_type": "stream",
          "name": "stdout",
          "text": [
            " Train: loss=3.1020 | explained_variance=0.4979 | r2=0.4949 | mse=2.8780 | rmse=1.6965 | mae=1.1720\n"
          ]
        },
        {
          "output_type": "stream",
          "name": "stderr",
          "text": [
            "INFO:jaqpotpy.models.trainers.base_trainer: Train: loss=3.1020 | explained_variance=0.4979 | r2=0.4949 | mse=2.8780 | rmse=1.6965 | mae=1.1720\n"
          ]
        },
        {
          "output_type": "stream",
          "name": "stdout",
          "text": [
            " Val:   loss=5.1114 | explained_variance=0.0407 | r2=0.0368 | mse=5.1114 | rmse=2.2608 | mae=1.1777\n"
          ]
        },
        {
          "output_type": "stream",
          "name": "stderr",
          "text": [
            "INFO:jaqpotpy.models.trainers.base_trainer: Val:   loss=5.1114 | explained_variance=0.0407 | r2=0.0368 | mse=5.1114 | rmse=2.2608 | mae=1.1777\n"
          ]
        }
      ]
    },
    {
      "cell_type": "markdown",
      "source": [
        "Evaluate and show metrics on the test dataset"
      ],
      "metadata": {
        "id": "iAXvMu7Ghhwh"
      }
    },
    {
      "cell_type": "code",
      "source": [
        "loss, metrics = trainer.evaluate(test_loader)"
      ],
      "metadata": {
        "id": "YbEzTBJ1ePR2"
      },
      "execution_count": 22,
      "outputs": []
    },
    {
      "cell_type": "code",
      "source": [
        "metrics"
      ],
      "metadata": {
        "colab": {
          "base_uri": "https://localhost:8080/",
          "height": 0
        },
        "id": "ZbEBAlVehD99",
        "outputId": "63f44aa9-4023-44e8-ebe5-66be54323961"
      },
      "execution_count": 23,
      "outputs": [
        {
          "output_type": "execute_result",
          "data": {
            "text/plain": [
              "{'explained_variance': 0.44174086266339563,\n",
              " 'r2': 0.43934191910249953,\n",
              " 'mse': 3.04251677339682,\n",
              " 'rmse': 1.7442811623694214,\n",
              " 'mae': 1.1587900009571075,\n",
              " 'loss': 3.0425167585422614}"
            ]
          },
          "metadata": {},
          "execution_count": 23
        }
      ]
    },
    {
      "cell_type": "markdown",
      "source": [
        "Convert PyTorch Geomtric model to onnx format"
      ],
      "metadata": {
        "id": "xH8x4wO6hnV4"
      }
    },
    {
      "cell_type": "code",
      "source": [
        "onnx_model = pyg_to_onnx(model, featurizer)"
      ],
      "metadata": {
        "id": "_dMxl0fJhFEw"
      },
      "execution_count": 24,
      "outputs": []
    },
    {
      "cell_type": "markdown",
      "source": [
        "Log into jaqpot"
      ],
      "metadata": {
        "id": "WpMivtyhhrZB"
      }
    },
    {
      "cell_type": "code",
      "source": [
        "jaqpot = Jaqpot()\n",
        "jaqpot.login()"
      ],
      "metadata": {
        "colab": {
          "base_uri": "https://localhost:8080/",
          "height": 0
        },
        "id": "_Qj7XrEThWLW",
        "outputId": "cb3bdaea-a915-413d-e44f-c7da7b89f947"
      },
      "execution_count": 25,
      "outputs": [
        {
          "name": "stdout",
          "output_type": "stream",
          "text": [
            "Open this URL in your browser and log in:\n",
            "https://login.jaqpot.org/realms/jaqpot/protocol/openid-connect/auth?client_id=jaqpot-client&response_type=code&redirect_uri=urn:ietf:wg:oauth:2.0:oob&scope=openid email profile&state=random_state_value\n",
            "Enter the authorization code you received: 53697dde-08a1-44df-85ca-f255e3b6bb3d.fc75752b-c81e-49ed-b0ff-48cf981ea5e0.40e0db1a-58ce-461a-8fbb-6a4451d8587a\n"
          ]
        }
      ]
    },
    {
      "cell_type": "markdown",
      "source": [
        "Deploy the model on the web"
      ],
      "metadata": {
        "id": "hpMMXFuShv8w"
      }
    },
    {
      "cell_type": "code",
      "source": [
        "jaqpot.deploy_torch_model(\n",
        "    onnx_model,\n",
        "    featurizer=featurizer,  # Featurizer used for the model\n",
        "    name=\"Graph Neural Network\",\n",
        "    description=\"Graph Sage Network for solubility\",\n",
        "    target_name=\"SOLUBILITY\",\n",
        "    visibility=\"PRIVATE\",\n",
        "    task=\"regression\",  # Specify the task (regression or binary_classification)\n",
        ")"
      ],
      "metadata": {
        "colab": {
          "base_uri": "https://localhost:8080/",
          "height": 0
        },
        "id": "WYLhIYl7hYbZ",
        "outputId": "f4943b5b-eb02-4d24-f26b-cf61cec8d55d"
      },
      "execution_count": 26,
      "outputs": [
        {
          "output_type": "stream",
          "name": "stderr",
          "text": [
            "\u001b[1m \u001b[32m 2024-11-12 08:40:22,427 - INFO - Model has been successfully uploaded. The url of the model is https://app.jaqpot.org/dashboard/models/1911\u001b[0m\n"
          ]
        }
      ]
    }
  ]
}
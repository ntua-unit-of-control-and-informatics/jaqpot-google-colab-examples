{
 "cells": [
  {
   "cell_type": "markdown",
   "id": "d153eaf0",
   "metadata": {},
   "source": [
    "<a href=\"https://colab.research.google.com/github/ntua-unit-of-control-and-informatics/jaqpot-google-collab-examples/blob/main/Scikit-learn-models/create-a-model.ipynb\" target=\"_parent\"><img src=\"https://colab.research.google.com/assets/colab-badge.svg\" alt=\"Open In Colab\"/></a>"
   ]
  },
  {
   "cell_type": "markdown",
   "id": "193441b5",
   "metadata": {},
   "source": [
    "# Create a Model\n",
    "\n",
    "This example demonstrates how to create a model using `jaqpotpy` with a scikit-learn model. The following code will guide you through generating a dataset, training a logistic regression model, and making predictions.\n",
    "\n",
    "First, we import the necessary libraries:"
   ]
  },
  {
   "cell_type": "code",
   "execution_count": 2,
   "id": "9908f200",
   "metadata": {},
   "outputs": [],
   "source": [
    "import pandas as pd\n",
    "from sklearn.datasets import make_classification\n",
    "from jaqpotpy.datasets import JaqpotpyDataset\n",
    "from sklearn.linear_model import LogisticRegression\n",
    "from jaqpotpy.models import SklearnModel"
   ]
  },
  {
   "cell_type": "markdown",
   "id": "28607f8d",
   "metadata": {},
   "source": [
    "Next, we generate a small binary classification dataset:"
   ]
  },
  {
   "cell_type": "code",
   "execution_count": 3,
   "id": "831366ac",
   "metadata": {},
   "outputs": [],
   "source": [
    "X, y = make_classification(n_samples=100, n_features=4, random_state=42)"
   ]
  },
  {
   "cell_type": "markdown",
   "id": "47320422",
   "metadata": {},
   "source": [
    "We then create a DataFrame with the features and target:"
   ]
  },
  {
   "cell_type": "code",
   "execution_count": 4,
   "id": "6db66467",
   "metadata": {},
   "outputs": [],
   "source": [
    "df = pd.DataFrame(X, columns=[\"X1\", \"X2\", \"X3\", \"X4\"])\n",
    "df[\"y\"] = y"
   ]
  },
  {
   "cell_type": "markdown",
   "id": "5b4fe3b7",
   "metadata": {},
   "source": [
    "Now, we initialize a `JaqpotpyDataset` with the DataFrame:"
   ]
  },
  {
   "cell_type": "code",
   "execution_count": 5,
   "id": "3b9785e8",
   "metadata": {},
   "outputs": [],
   "source": [
    "dataset = JaqpotpyDataset(\n",
    "    df=df,\n",
    "    x_cols=[\"X1\", \"X2\", \"X3\", \"X4\"],\n",
    "    y_cols=[\"y\"],\n",
    "    task=\"binary_classification\",\n",
    ")"
   ]
  },
  {
   "cell_type": "markdown",
   "id": "f9fa41fe",
   "metadata": {},
   "source": [
    "We wrap the scikit-learn model with Jaqpotpy's `SklearnModel`:"
   ]
  },
  {
   "cell_type": "code",
   "execution_count": 6,
   "id": "5478ded7",
   "metadata": {},
   "outputs": [],
   "source": [
    "jaqpot_model = SklearnModel(dataset=dataset, model=LogisticRegression())"
   ]
  },
  {
   "cell_type": "markdown",
   "id": "324e14aa",
   "metadata": {},
   "source": [
    "Next, we fit the model to the dataset:"
   ]
  },
  {
   "cell_type": "code",
   "execution_count": 7,
   "id": "7d38dac1",
   "metadata": {},
   "outputs": [
    {
     "name": "stdout",
     "output_type": "stream",
     "text": [
      "Goodness-of-fit metrics on training set:\n",
      "{'accuracy': 0.99, 'balancedAccuracy': 0.99, 'precision': array([1.  , 0.98]), 'recall': array([0.98039216, 1.        ]), 'f1Score': array([0.99009901, 0.98989899]), 'jaccard': array([0.98039216, 0.98      ]), 'matthewsCorrCoef': 0.9801960588196069, 'confusionMatrix': array([[[49,  1],\n",
      "        [ 0, 50]],\n",
      "\n",
      "       [[50,  0],\n",
      "        [ 1, 49]]])}\n"
     ]
    }
   ],
   "source": [
    "jaqpot_model.fit()"
   ]
  },
  {
   "cell_type": "markdown",
   "id": "fde80444",
   "metadata": {},
   "source": [
    "We generate a small prediction dataset:"
   ]
  },
  {
   "cell_type": "code",
   "execution_count": 8,
   "id": "cf9ff62f",
   "metadata": {},
   "outputs": [],
   "source": [
    "X_test, _ = make_classification(n_samples=5, n_features=4, random_state=42)"
   ]
  },
  {
   "cell_type": "markdown",
   "id": "de57369e",
   "metadata": {},
   "source": [
    "We create a DataFrame with the features:"
   ]
  },
  {
   "cell_type": "code",
   "execution_count": 9,
   "id": "e13c457d",
   "metadata": {},
   "outputs": [],
   "source": [
    "df_test = pd.DataFrame(X_test, columns=[\"X1\", \"X2\", \"X3\", \"X4\"])"
   ]
  },
  {
   "cell_type": "markdown",
   "id": "5e9488bc",
   "metadata": {},
   "source": [
    "We initialize a `JaqpotpyDataset` for prediction:"
   ]
  },
  {
   "cell_type": "code",
   "execution_count": 10,
   "id": "8ed50967",
   "metadata": {},
   "outputs": [],
   "source": [
    "test_dataset = JaqpotpyDataset(\n",
    "    df=df_test,\n",
    "    x_cols=[\"X1\", \"X2\", \"X3\", \"X4\"],\n",
    "    y_cols=None,\n",
    "    task=\"binary_classification\",\n",
    ")"
   ]
  },
  {
   "cell_type": "markdown",
   "id": "f7eabfc6",
   "metadata": {},
   "source": [
    "Finally, we use the trained model to predict the classes of the new data and the estimate their claissification probabilities and print the predictions:"
   ]
  },
  {
   "cell_type": "code",
   "execution_count": 11,
   "id": "2b115104",
   "metadata": {},
   "outputs": [
    {
     "name": "stdout",
     "output_type": "stream",
     "text": [
      "[0 1 1 0 1]\n"
     ]
    }
   ],
   "source": [
    "predictions = jaqpot_model.predict(test_dataset)\n",
    "probabilities = jaqpot_model.predict_proba(test_dataset)\n",
    "print(predictions)"
   ]
  },
  {
   "cell_type": "markdown",
   "id": "9bd34ba8",
   "metadata": {},
   "source": [
    "This code snippet covers the entire process from dataset creation to model training and prediction using `jaqpotpy` and scikit-learn's `LogisticRegression`."
   ]
  }
 ],
 "metadata": {
  "kernelspec": {
   "display_name": "Python 3",
   "language": "python",
   "name": "python3"
  },
  "language_info": {
   "codemirror_mode": {
    "name": "ipython",
    "version": 3
   },
   "file_extension": ".py",
   "mimetype": "text/x-python",
   "name": "python",
   "nbconvert_exporter": "python",
   "pygments_lexer": "ipython3",
   "version": "3.10.14"
  }
 },
 "nbformat": 4,
 "nbformat_minor": 5
}

{
  "nbformat": 4,
  "nbformat_minor": 0,
  "metadata": {
    "colab": {
      "provenance": []
    },
    "kernelspec": {
      "name": "python3",
      "display_name": "Python 3"
    },
    "language_info": {
      "name": "python"
    }
  },
  "cells": [
    {
      "cell_type": "markdown",
      "source": [
        "# Introduction to Jaqpot and Machine Learning in Chemistry\n",
        "\n",
        "In this short tutorial, we will explore how to use **Jaqpotpy**, a Python client for the **Jaqpot** platform. Jaqpot is a cloud-based platform that allows scientists to easily train, validate, and deploy machine learning models, especially in fields like **chemistry**, **toxicology**, and **risk assessment**.\n",
        "\n",
        "Our goal is to show how a predictive model can be created using chemical data — without diving into advanced programming or infrastructure setup.\n",
        "\n",
        "We'll focus on the following:\n",
        "- Using **chemical descriptors** from SMILES (a textual representation of molecules)\n",
        "- Training a model via the **Jaqpot API**\n",
        "- Making predictions with the trained model"
      ],
      "metadata": {
        "id": "fBBkfHGvyIXd"
      }
    },
    {
      "cell_type": "markdown",
      "source": [
        "## Install and import required python modules."
      ],
      "metadata": {
        "id": "-PITpuFQ5a1C"
      }
    },
    {
      "cell_type": "code",
      "execution_count": null,
      "metadata": {
        "colab": {
          "base_uri": "https://localhost:8080/"
        },
        "id": "akDHQOFtSWGf",
        "outputId": "4bf03b69-e3a3-4123-a330-3b2418948549",
        "collapsed": true
      },
      "outputs": [
        {
          "output_type": "stream",
          "name": "stdout",
          "text": [
            "Collecting jaqpotpy\n",
            "  Downloading jaqpotpy-6.24.0-py3-none-any.whl.metadata (4.0 kB)\n",
            "Requirement already satisfied: httpx in /usr/local/lib/python3.11/dist-packages (from jaqpotpy) (0.28.1)\n",
            "Collecting jaqpot-api-client>=6.43.0 (from jaqpotpy)\n",
            "  Downloading jaqpot_api_client-6.43.4-py3-none-any.whl.metadata (1.7 kB)\n",
            "Collecting jaqpot-python-sdk>=6.0.2 (from jaqpotpy)\n",
            "  Downloading jaqpot_python_sdk-6.0.5-py3-none-any.whl.metadata (2.0 kB)\n",
            "Collecting onnx>=1.17.0 (from jaqpotpy)\n",
            "  Downloading onnx-1.18.0-cp311-cp311-manylinux_2_17_x86_64.manylinux2014_x86_64.whl.metadata (6.9 kB)\n",
            "Collecting onnxmltools>=1.12.0 (from jaqpotpy)\n",
            "  Downloading onnxmltools-1.13.0-py2.py3-none-any.whl.metadata (8.2 kB)\n",
            "Collecting onnxruntime>=1.19.0 (from jaqpotpy)\n",
            "  Downloading onnxruntime-1.22.0-cp311-cp311-manylinux_2_27_x86_64.manylinux_2_28_x86_64.whl.metadata (4.5 kB)\n",
            "Requirement already satisfied: pandas>=2.2.2 in /usr/local/lib/python3.11/dist-packages (from jaqpotpy) (2.2.2)\n",
            "Collecting polling2>=0.5.0 (from jaqpotpy)\n",
            "  Downloading polling2-0.5.0-py2.py3-none-any.whl.metadata (2.7 kB)\n",
            "Requirement already satisfied: pydantic>=2.0 in /usr/local/lib/python3.11/dist-packages (from jaqpotpy) (2.11.4)\n",
            "Collecting python-keycloak>=4.3.0 (from jaqpotpy)\n",
            "  Downloading python_keycloak-5.5.0-py3-none-any.whl.metadata (6.0 kB)\n",
            "Collecting rdkit>=2023.9.6 (from jaqpotpy)\n",
            "  Downloading rdkit-2025.3.2-cp311-cp311-manylinux_2_28_x86_64.whl.metadata (4.0 kB)\n",
            "Requirement already satisfied: requests>=2.32.2 in /usr/local/lib/python3.11/dist-packages (from jaqpotpy) (2.32.3)\n",
            "Requirement already satisfied: scikit-learn>=1.5.0 in /usr/local/lib/python3.11/dist-packages (from jaqpotpy) (1.6.1)\n",
            "Requirement already satisfied: setuptools>=75.0.0 in /usr/local/lib/python3.11/dist-packages (from jaqpotpy) (75.2.0)\n",
            "Collecting skl2onnx>=1.17.0 (from jaqpotpy)\n",
            "  Downloading skl2onnx-1.18.0-py2.py3-none-any.whl.metadata (3.2 kB)\n",
            "Collecting torch-geometric>=2.5.0 (from jaqpotpy)\n",
            "  Downloading torch_geometric-2.6.1-py3-none-any.whl.metadata (63 kB)\n",
            "\u001b[2K     \u001b[90m━━━━━━━━━━━━━━━━━━━━━━━━━━━━━━━━━━━━━━━━\u001b[0m \u001b[32m63.1/63.1 kB\u001b[0m \u001b[31m3.1 MB/s\u001b[0m eta \u001b[36m0:00:00\u001b[0m\n",
            "\u001b[?25hRequirement already satisfied: torch>=2.0.0 in /usr/local/lib/python3.11/dist-packages (from jaqpotpy) (2.6.0+cu124)\n",
            "Requirement already satisfied: python-dateutil in /usr/local/lib/python3.11/dist-packages (from jaqpot-python-sdk>=6.0.2->jaqpotpy) (2.9.0.post0)\n",
            "Requirement already satisfied: urllib3 in /usr/local/lib/python3.11/dist-packages (from jaqpot-python-sdk>=6.0.2->jaqpotpy) (2.4.0)\n",
            "Requirement already satisfied: numpy>=1.22 in /usr/local/lib/python3.11/dist-packages (from onnx>=1.17.0->jaqpotpy) (2.0.2)\n",
            "Requirement already satisfied: protobuf>=4.25.1 in /usr/local/lib/python3.11/dist-packages (from onnx>=1.17.0->jaqpotpy) (5.29.4)\n",
            "Requirement already satisfied: typing_extensions>=4.7.1 in /usr/local/lib/python3.11/dist-packages (from onnx>=1.17.0->jaqpotpy) (4.13.2)\n",
            "Collecting onnxconverter-common (from onnxmltools>=1.12.0->jaqpotpy)\n",
            "  Downloading onnxconverter_common-1.14.0-py2.py3-none-any.whl.metadata (4.2 kB)\n",
            "Collecting coloredlogs (from onnxruntime>=1.19.0->jaqpotpy)\n",
            "  Downloading coloredlogs-15.0.1-py2.py3-none-any.whl.metadata (12 kB)\n",
            "Requirement already satisfied: flatbuffers in /usr/local/lib/python3.11/dist-packages (from onnxruntime>=1.19.0->jaqpotpy) (25.2.10)\n",
            "Requirement already satisfied: packaging in /usr/local/lib/python3.11/dist-packages (from onnxruntime>=1.19.0->jaqpotpy) (24.2)\n",
            "Requirement already satisfied: sympy in /usr/local/lib/python3.11/dist-packages (from onnxruntime>=1.19.0->jaqpotpy) (1.13.1)\n",
            "Requirement already satisfied: pytz>=2020.1 in /usr/local/lib/python3.11/dist-packages (from pandas>=2.2.2->jaqpotpy) (2025.2)\n",
            "Requirement already satisfied: tzdata>=2022.7 in /usr/local/lib/python3.11/dist-packages (from pandas>=2.2.2->jaqpotpy) (2025.2)\n",
            "Requirement already satisfied: annotated-types>=0.6.0 in /usr/local/lib/python3.11/dist-packages (from pydantic>=2.0->jaqpotpy) (0.7.0)\n",
            "Requirement already satisfied: pydantic-core==2.33.2 in /usr/local/lib/python3.11/dist-packages (from pydantic>=2.0->jaqpotpy) (2.33.2)\n",
            "Requirement already satisfied: typing-inspection>=0.4.0 in /usr/local/lib/python3.11/dist-packages (from pydantic>=2.0->jaqpotpy) (0.4.0)\n",
            "Collecting aiofiles>=24.1.0 (from python-keycloak>=4.3.0->jaqpotpy)\n",
            "  Downloading aiofiles-24.1.0-py3-none-any.whl.metadata (10 kB)\n",
            "Collecting async-property>=0.2.2 (from python-keycloak>=4.3.0->jaqpotpy)\n",
            "  Downloading async_property-0.2.2-py2.py3-none-any.whl.metadata (5.3 kB)\n",
            "Collecting deprecation>=2.1.0 (from python-keycloak>=4.3.0->jaqpotpy)\n",
            "  Downloading deprecation-2.1.0-py2.py3-none-any.whl.metadata (4.6 kB)\n",
            "Collecting jwcrypto>=1.5.4 (from python-keycloak>=4.3.0->jaqpotpy)\n",
            "  Downloading jwcrypto-1.5.6-py3-none-any.whl.metadata (3.1 kB)\n",
            "Requirement already satisfied: requests-toolbelt>=0.6.0 in /usr/local/lib/python3.11/dist-packages (from python-keycloak>=4.3.0->jaqpotpy) (1.0.0)\n",
            "Requirement already satisfied: anyio in /usr/local/lib/python3.11/dist-packages (from httpx->jaqpotpy) (4.9.0)\n",
            "Requirement already satisfied: certifi in /usr/local/lib/python3.11/dist-packages (from httpx->jaqpotpy) (2025.4.26)\n",
            "Requirement already satisfied: httpcore==1.* in /usr/local/lib/python3.11/dist-packages (from httpx->jaqpotpy) (1.0.9)\n",
            "Requirement already satisfied: idna in /usr/local/lib/python3.11/dist-packages (from httpx->jaqpotpy) (3.10)\n",
            "Requirement already satisfied: h11>=0.16 in /usr/local/lib/python3.11/dist-packages (from httpcore==1.*->httpx->jaqpotpy) (0.16.0)\n",
            "Requirement already satisfied: Pillow in /usr/local/lib/python3.11/dist-packages (from rdkit>=2023.9.6->jaqpotpy) (11.2.1)\n",
            "Requirement already satisfied: charset-normalizer<4,>=2 in /usr/local/lib/python3.11/dist-packages (from requests>=2.32.2->jaqpotpy) (3.4.2)\n",
            "Requirement already satisfied: scipy>=1.6.0 in /usr/local/lib/python3.11/dist-packages (from scikit-learn>=1.5.0->jaqpotpy) (1.15.3)\n",
            "Requirement already satisfied: joblib>=1.2.0 in /usr/local/lib/python3.11/dist-packages (from scikit-learn>=1.5.0->jaqpotpy) (1.5.0)\n",
            "Requirement already satisfied: threadpoolctl>=3.1.0 in /usr/local/lib/python3.11/dist-packages (from scikit-learn>=1.5.0->jaqpotpy) (3.6.0)\n",
            "Requirement already satisfied: filelock in /usr/local/lib/python3.11/dist-packages (from torch>=2.0.0->jaqpotpy) (3.18.0)\n",
            "Requirement already satisfied: networkx in /usr/local/lib/python3.11/dist-packages (from torch>=2.0.0->jaqpotpy) (3.4.2)\n",
            "Requirement already satisfied: jinja2 in /usr/local/lib/python3.11/dist-packages (from torch>=2.0.0->jaqpotpy) (3.1.6)\n",
            "Requirement already satisfied: fsspec in /usr/local/lib/python3.11/dist-packages (from torch>=2.0.0->jaqpotpy) (2025.3.2)\n",
            "Collecting nvidia-cuda-nvrtc-cu12==12.4.127 (from torch>=2.0.0->jaqpotpy)\n",
            "  Downloading nvidia_cuda_nvrtc_cu12-12.4.127-py3-none-manylinux2014_x86_64.whl.metadata (1.5 kB)\n",
            "Collecting nvidia-cuda-runtime-cu12==12.4.127 (from torch>=2.0.0->jaqpotpy)\n",
            "  Downloading nvidia_cuda_runtime_cu12-12.4.127-py3-none-manylinux2014_x86_64.whl.metadata (1.5 kB)\n",
            "Collecting nvidia-cuda-cupti-cu12==12.4.127 (from torch>=2.0.0->jaqpotpy)\n",
            "  Downloading nvidia_cuda_cupti_cu12-12.4.127-py3-none-manylinux2014_x86_64.whl.metadata (1.6 kB)\n",
            "Collecting nvidia-cudnn-cu12==9.1.0.70 (from torch>=2.0.0->jaqpotpy)\n",
            "  Downloading nvidia_cudnn_cu12-9.1.0.70-py3-none-manylinux2014_x86_64.whl.metadata (1.6 kB)\n",
            "Collecting nvidia-cublas-cu12==12.4.5.8 (from torch>=2.0.0->jaqpotpy)\n",
            "  Downloading nvidia_cublas_cu12-12.4.5.8-py3-none-manylinux2014_x86_64.whl.metadata (1.5 kB)\n",
            "Collecting nvidia-cufft-cu12==11.2.1.3 (from torch>=2.0.0->jaqpotpy)\n",
            "  Downloading nvidia_cufft_cu12-11.2.1.3-py3-none-manylinux2014_x86_64.whl.metadata (1.5 kB)\n",
            "Collecting nvidia-curand-cu12==10.3.5.147 (from torch>=2.0.0->jaqpotpy)\n",
            "  Downloading nvidia_curand_cu12-10.3.5.147-py3-none-manylinux2014_x86_64.whl.metadata (1.5 kB)\n",
            "Collecting nvidia-cusolver-cu12==11.6.1.9 (from torch>=2.0.0->jaqpotpy)\n",
            "  Downloading nvidia_cusolver_cu12-11.6.1.9-py3-none-manylinux2014_x86_64.whl.metadata (1.6 kB)\n",
            "Collecting nvidia-cusparse-cu12==12.3.1.170 (from torch>=2.0.0->jaqpotpy)\n",
            "  Downloading nvidia_cusparse_cu12-12.3.1.170-py3-none-manylinux2014_x86_64.whl.metadata (1.6 kB)\n",
            "Requirement already satisfied: nvidia-cusparselt-cu12==0.6.2 in /usr/local/lib/python3.11/dist-packages (from torch>=2.0.0->jaqpotpy) (0.6.2)\n",
            "Requirement already satisfied: nvidia-nccl-cu12==2.21.5 in /usr/local/lib/python3.11/dist-packages (from torch>=2.0.0->jaqpotpy) (2.21.5)\n",
            "Requirement already satisfied: nvidia-nvtx-cu12==12.4.127 in /usr/local/lib/python3.11/dist-packages (from torch>=2.0.0->jaqpotpy) (12.4.127)\n",
            "Collecting nvidia-nvjitlink-cu12==12.4.127 (from torch>=2.0.0->jaqpotpy)\n",
            "  Downloading nvidia_nvjitlink_cu12-12.4.127-py3-none-manylinux2014_x86_64.whl.metadata (1.5 kB)\n",
            "Requirement already satisfied: triton==3.2.0 in /usr/local/lib/python3.11/dist-packages (from torch>=2.0.0->jaqpotpy) (3.2.0)\n",
            "Requirement already satisfied: mpmath<1.4,>=1.1.0 in /usr/local/lib/python3.11/dist-packages (from sympy->onnxruntime>=1.19.0->jaqpotpy) (1.3.0)\n",
            "Requirement already satisfied: aiohttp in /usr/local/lib/python3.11/dist-packages (from torch-geometric>=2.5.0->jaqpotpy) (3.11.15)\n",
            "Requirement already satisfied: psutil>=5.8.0 in /usr/local/lib/python3.11/dist-packages (from torch-geometric>=2.5.0->jaqpotpy) (5.9.5)\n",
            "Requirement already satisfied: pyparsing in /usr/local/lib/python3.11/dist-packages (from torch-geometric>=2.5.0->jaqpotpy) (3.2.3)\n",
            "Requirement already satisfied: tqdm in /usr/local/lib/python3.11/dist-packages (from torch-geometric>=2.5.0->jaqpotpy) (4.67.1)\n",
            "Requirement already satisfied: cryptography>=3.4 in /usr/local/lib/python3.11/dist-packages (from jwcrypto>=1.5.4->python-keycloak>=4.3.0->jaqpotpy) (43.0.3)\n",
            "INFO: pip is looking at multiple versions of onnxconverter-common to determine which version is compatible with other requirements. This could take a while.\n",
            "Collecting onnxconverter-common (from onnxmltools>=1.12.0->jaqpotpy)\n",
            "  Downloading onnxconverter_common-1.13.0-py2.py3-none-any.whl.metadata (2.6 kB)\n",
            "Requirement already satisfied: six>=1.5 in /usr/local/lib/python3.11/dist-packages (from python-dateutil->jaqpot-python-sdk>=6.0.2->jaqpotpy) (1.17.0)\n",
            "Requirement already satisfied: aiohappyeyeballs>=2.3.0 in /usr/local/lib/python3.11/dist-packages (from aiohttp->torch-geometric>=2.5.0->jaqpotpy) (2.6.1)\n",
            "Requirement already satisfied: aiosignal>=1.1.2 in /usr/local/lib/python3.11/dist-packages (from aiohttp->torch-geometric>=2.5.0->jaqpotpy) (1.3.2)\n",
            "Requirement already satisfied: attrs>=17.3.0 in /usr/local/lib/python3.11/dist-packages (from aiohttp->torch-geometric>=2.5.0->jaqpotpy) (25.3.0)\n",
            "Requirement already satisfied: frozenlist>=1.1.1 in /usr/local/lib/python3.11/dist-packages (from aiohttp->torch-geometric>=2.5.0->jaqpotpy) (1.6.0)\n",
            "Requirement already satisfied: multidict<7.0,>=4.5 in /usr/local/lib/python3.11/dist-packages (from aiohttp->torch-geometric>=2.5.0->jaqpotpy) (6.4.3)\n",
            "Requirement already satisfied: propcache>=0.2.0 in /usr/local/lib/python3.11/dist-packages (from aiohttp->torch-geometric>=2.5.0->jaqpotpy) (0.3.1)\n",
            "Requirement already satisfied: yarl<2.0,>=1.17.0 in /usr/local/lib/python3.11/dist-packages (from aiohttp->torch-geometric>=2.5.0->jaqpotpy) (1.20.0)\n",
            "Requirement already satisfied: sniffio>=1.1 in /usr/local/lib/python3.11/dist-packages (from anyio->httpx->jaqpotpy) (1.3.1)\n",
            "Collecting humanfriendly>=9.1 (from coloredlogs->onnxruntime>=1.19.0->jaqpotpy)\n",
            "  Downloading humanfriendly-10.0-py2.py3-none-any.whl.metadata (9.2 kB)\n",
            "Requirement already satisfied: MarkupSafe>=2.0 in /usr/local/lib/python3.11/dist-packages (from jinja2->torch>=2.0.0->jaqpotpy) (3.0.2)\n",
            "Requirement already satisfied: cffi>=1.12 in /usr/local/lib/python3.11/dist-packages (from cryptography>=3.4->jwcrypto>=1.5.4->python-keycloak>=4.3.0->jaqpotpy) (1.17.1)\n",
            "Requirement already satisfied: pycparser in /usr/local/lib/python3.11/dist-packages (from cffi>=1.12->cryptography>=3.4->jwcrypto>=1.5.4->python-keycloak>=4.3.0->jaqpotpy) (2.22)\n",
            "Downloading jaqpotpy-6.24.0-py3-none-any.whl (132 kB)\n",
            "\u001b[2K   \u001b[90m━━━━━━━━━━━━━━━━━━━━━━━━━━━━━━━━━━━━━━━━\u001b[0m \u001b[32m132.9/132.9 kB\u001b[0m \u001b[31m9.5 MB/s\u001b[0m eta \u001b[36m0:00:00\u001b[0m\n",
            "\u001b[?25hDownloading jaqpot_api_client-6.43.4-py3-none-any.whl (138 kB)\n",
            "\u001b[2K   \u001b[90m━━━━━━━━━━━━━━━━━━━━━━━━━━━━━━━━━━━━━━━━\u001b[0m \u001b[32m138.4/138.4 kB\u001b[0m \u001b[31m12.1 MB/s\u001b[0m eta \u001b[36m0:00:00\u001b[0m\n",
            "\u001b[?25hDownloading jaqpot_python_sdk-6.0.5-py3-none-any.whl (9.8 kB)\n",
            "Downloading onnx-1.18.0-cp311-cp311-manylinux_2_17_x86_64.manylinux2014_x86_64.whl (17.6 MB)\n",
            "\u001b[2K   \u001b[90m━━━━━━━━━━━━━━━━━━━━━━━━━━━━━━━━━━━━━━━━\u001b[0m \u001b[32m17.6/17.6 MB\u001b[0m \u001b[31m62.3 MB/s\u001b[0m eta \u001b[36m0:00:00\u001b[0m\n",
            "\u001b[?25hDownloading onnxmltools-1.13.0-py2.py3-none-any.whl (328 kB)\n",
            "\u001b[2K   \u001b[90m━━━━━━━━━━━━━━━━━━━━━━━━━━━━━━━━━━━━━━━━\u001b[0m \u001b[32m329.0/329.0 kB\u001b[0m \u001b[31m15.1 MB/s\u001b[0m eta \u001b[36m0:00:00\u001b[0m\n",
            "\u001b[?25hDownloading onnxruntime-1.22.0-cp311-cp311-manylinux_2_27_x86_64.manylinux_2_28_x86_64.whl (16.4 MB)\n",
            "\u001b[2K   \u001b[90m━━━━━━━━━━━━━━━━━━━━━━━━━━━━━━━━━━━━━━━━\u001b[0m \u001b[32m16.4/16.4 MB\u001b[0m \u001b[31m41.1 MB/s\u001b[0m eta \u001b[36m0:00:00\u001b[0m\n",
            "\u001b[?25hDownloading polling2-0.5.0-py2.py3-none-any.whl (6.4 kB)\n",
            "Downloading python_keycloak-5.5.0-py3-none-any.whl (77 kB)\n",
            "\u001b[2K   \u001b[90m━━━━━━━━━━━━━━━━━━━━━━━━━━━━━━━━━━━━━━━━\u001b[0m \u001b[32m77.2/77.2 kB\u001b[0m \u001b[31m4.7 MB/s\u001b[0m eta \u001b[36m0:00:00\u001b[0m\n",
            "\u001b[?25hDownloading rdkit-2025.3.2-cp311-cp311-manylinux_2_28_x86_64.whl (35.2 MB)\n",
            "\u001b[2K   \u001b[90m━━━━━━━━━━━━━━━━━━━━━━━━━━━━━━━━━━━━━━━━\u001b[0m \u001b[32m35.2/35.2 MB\u001b[0m \u001b[31m14.2 MB/s\u001b[0m eta \u001b[36m0:00:00\u001b[0m\n",
            "\u001b[?25hDownloading skl2onnx-1.18.0-py2.py3-none-any.whl (300 kB)\n",
            "\u001b[2K   \u001b[90m━━━━━━━━━━━━━━━━━━━━━━━━━━━━━━━━━━━━━━━━\u001b[0m \u001b[32m300.3/300.3 kB\u001b[0m \u001b[31m22.6 MB/s\u001b[0m eta \u001b[36m0:00:00\u001b[0m\n",
            "\u001b[?25hDownloading nvidia_cublas_cu12-12.4.5.8-py3-none-manylinux2014_x86_64.whl (363.4 MB)\n",
            "\u001b[2K   \u001b[90m━━━━━━━━━━━━━━━━━━━━━━━━━━━━━━━━━━━━━━━━\u001b[0m \u001b[32m363.4/363.4 MB\u001b[0m \u001b[31m4.0 MB/s\u001b[0m eta \u001b[36m0:00:00\u001b[0m\n",
            "\u001b[?25hDownloading nvidia_cuda_cupti_cu12-12.4.127-py3-none-manylinux2014_x86_64.whl (13.8 MB)\n",
            "\u001b[2K   \u001b[90m━━━━━━━━━━━━━━━━━━━━━━━━━━━━━━━━━━━━━━━━\u001b[0m \u001b[32m13.8/13.8 MB\u001b[0m \u001b[31m114.3 MB/s\u001b[0m eta \u001b[36m0:00:00\u001b[0m\n",
            "\u001b[?25hDownloading nvidia_cuda_nvrtc_cu12-12.4.127-py3-none-manylinux2014_x86_64.whl (24.6 MB)\n",
            "\u001b[2K   \u001b[90m━━━━━━━━━━━━━━━━━━━━━━━━━━━━━━━━━━━━━━━━\u001b[0m \u001b[32m24.6/24.6 MB\u001b[0m \u001b[31m99.2 MB/s\u001b[0m eta \u001b[36m0:00:00\u001b[0m\n",
            "\u001b[?25hDownloading nvidia_cuda_runtime_cu12-12.4.127-py3-none-manylinux2014_x86_64.whl (883 kB)\n",
            "\u001b[2K   \u001b[90m━━━━━━━━━━━━━━━━━━━━━━━━━━━━━━━━━━━━━━━━\u001b[0m \u001b[32m883.7/883.7 kB\u001b[0m \u001b[31m54.8 MB/s\u001b[0m eta \u001b[36m0:00:00\u001b[0m\n",
            "\u001b[?25hDownloading nvidia_cudnn_cu12-9.1.0.70-py3-none-manylinux2014_x86_64.whl (664.8 MB)\n",
            "\u001b[2K   \u001b[90m━━━━━━━━━━━━━━━━━━━━━━━━━━━━━━━━━━━━━━━━\u001b[0m \u001b[32m664.8/664.8 MB\u001b[0m \u001b[31m2.1 MB/s\u001b[0m eta \u001b[36m0:00:00\u001b[0m\n",
            "\u001b[?25hDownloading nvidia_cufft_cu12-11.2.1.3-py3-none-manylinux2014_x86_64.whl (211.5 MB)\n",
            "\u001b[2K   \u001b[90m━━━━━━━━━━━━━━━━━━━━━━━━━━━━━━━━━━━━━━━━\u001b[0m \u001b[32m211.5/211.5 MB\u001b[0m \u001b[31m6.3 MB/s\u001b[0m eta \u001b[36m0:00:00\u001b[0m\n",
            "\u001b[?25hDownloading nvidia_curand_cu12-10.3.5.147-py3-none-manylinux2014_x86_64.whl (56.3 MB)\n",
            "\u001b[2K   \u001b[90m━━━━━━━━━━━━━━━━━━━━━━━━━━━━━━━━━━━━━━━━\u001b[0m \u001b[32m56.3/56.3 MB\u001b[0m \u001b[31m12.9 MB/s\u001b[0m eta \u001b[36m0:00:00\u001b[0m\n",
            "\u001b[?25hDownloading nvidia_cusolver_cu12-11.6.1.9-py3-none-manylinux2014_x86_64.whl (127.9 MB)\n",
            "\u001b[2K   \u001b[90m━━━━━━━━━━━━━━━━━━━━━━━━━━━━━━━━━━━━━━━━\u001b[0m \u001b[32m127.9/127.9 MB\u001b[0m \u001b[31m8.3 MB/s\u001b[0m eta \u001b[36m0:00:00\u001b[0m\n",
            "\u001b[?25hDownloading nvidia_cusparse_cu12-12.3.1.170-py3-none-manylinux2014_x86_64.whl (207.5 MB)\n",
            "\u001b[2K   \u001b[90m━━━━━━━━━━━━━━━━━━━━━━━━━━━━━━━━━━━━━━━━\u001b[0m \u001b[32m207.5/207.5 MB\u001b[0m \u001b[31m6.5 MB/s\u001b[0m eta \u001b[36m0:00:00\u001b[0m\n",
            "\u001b[?25hDownloading nvidia_nvjitlink_cu12-12.4.127-py3-none-manylinux2014_x86_64.whl (21.1 MB)\n",
            "\u001b[2K   \u001b[90m━━━━━━━━━━━━━━━━━━━━━━━━━━━━━━━━━━━━━━━━\u001b[0m \u001b[32m21.1/21.1 MB\u001b[0m \u001b[31m84.2 MB/s\u001b[0m eta \u001b[36m0:00:00\u001b[0m\n",
            "\u001b[?25hDownloading torch_geometric-2.6.1-py3-none-any.whl (1.1 MB)\n",
            "\u001b[2K   \u001b[90m━━━━━━━━━━━━━━━━━━━━━━━━━━━━━━━━━━━━━━━━\u001b[0m \u001b[32m1.1/1.1 MB\u001b[0m \u001b[31m56.6 MB/s\u001b[0m eta \u001b[36m0:00:00\u001b[0m\n",
            "\u001b[?25hDownloading aiofiles-24.1.0-py3-none-any.whl (15 kB)\n",
            "Downloading async_property-0.2.2-py2.py3-none-any.whl (9.5 kB)\n",
            "Downloading deprecation-2.1.0-py2.py3-none-any.whl (11 kB)\n",
            "Downloading jwcrypto-1.5.6-py3-none-any.whl (92 kB)\n",
            "\u001b[2K   \u001b[90m━━━━━━━━━━━━━━━━━━━━━━━━━━━━━━━━━━━━━━━━\u001b[0m \u001b[32m92.5/92.5 kB\u001b[0m \u001b[31m8.9 MB/s\u001b[0m eta \u001b[36m0:00:00\u001b[0m\n",
            "\u001b[?25hDownloading onnxconverter_common-1.13.0-py2.py3-none-any.whl (83 kB)\n",
            "\u001b[2K   \u001b[90m━━━━━━━━━━━━━━━━━━━━━━━━━━━━━━━━━━━━━━━━\u001b[0m \u001b[32m83.8/83.8 kB\u001b[0m \u001b[31m7.9 MB/s\u001b[0m eta \u001b[36m0:00:00\u001b[0m\n",
            "\u001b[?25hDownloading coloredlogs-15.0.1-py2.py3-none-any.whl (46 kB)\n",
            "\u001b[2K   \u001b[90m━━━━━━━━━━━━━━━━━━━━━━━━━━━━━━━━━━━━━━━━\u001b[0m \u001b[32m46.0/46.0 kB\u001b[0m \u001b[31m4.2 MB/s\u001b[0m eta \u001b[36m0:00:00\u001b[0m\n",
            "\u001b[?25hDownloading humanfriendly-10.0-py2.py3-none-any.whl (86 kB)\n",
            "\u001b[2K   \u001b[90m━━━━━━━━━━━━━━━━━━━━━━━━━━━━━━━━━━━━━━━━\u001b[0m \u001b[32m86.8/86.8 kB\u001b[0m \u001b[31m8.9 MB/s\u001b[0m eta \u001b[36m0:00:00\u001b[0m\n",
            "\u001b[?25hInstalling collected packages: polling2, async-property, rdkit, onnx, nvidia-nvjitlink-cu12, nvidia-curand-cu12, nvidia-cufft-cu12, nvidia-cuda-runtime-cu12, nvidia-cuda-nvrtc-cu12, nvidia-cuda-cupti-cu12, nvidia-cublas-cu12, jaqpot-api-client, humanfriendly, deprecation, aiofiles, onnxconverter-common, nvidia-cusparse-cu12, nvidia-cudnn-cu12, coloredlogs, torch-geometric, skl2onnx, onnxruntime, onnxmltools, nvidia-cusolver-cu12, jwcrypto, jaqpot-python-sdk, python-keycloak, jaqpotpy\n",
            "  Attempting uninstall: nvidia-nvjitlink-cu12\n",
            "    Found existing installation: nvidia-nvjitlink-cu12 12.5.82\n",
            "    Uninstalling nvidia-nvjitlink-cu12-12.5.82:\n",
            "      Successfully uninstalled nvidia-nvjitlink-cu12-12.5.82\n",
            "  Attempting uninstall: nvidia-curand-cu12\n",
            "    Found existing installation: nvidia-curand-cu12 10.3.6.82\n",
            "    Uninstalling nvidia-curand-cu12-10.3.6.82:\n",
            "      Successfully uninstalled nvidia-curand-cu12-10.3.6.82\n",
            "  Attempting uninstall: nvidia-cufft-cu12\n",
            "    Found existing installation: nvidia-cufft-cu12 11.2.3.61\n",
            "    Uninstalling nvidia-cufft-cu12-11.2.3.61:\n",
            "      Successfully uninstalled nvidia-cufft-cu12-11.2.3.61\n",
            "  Attempting uninstall: nvidia-cuda-runtime-cu12\n",
            "    Found existing installation: nvidia-cuda-runtime-cu12 12.5.82\n",
            "    Uninstalling nvidia-cuda-runtime-cu12-12.5.82:\n",
            "      Successfully uninstalled nvidia-cuda-runtime-cu12-12.5.82\n",
            "  Attempting uninstall: nvidia-cuda-nvrtc-cu12\n",
            "    Found existing installation: nvidia-cuda-nvrtc-cu12 12.5.82\n",
            "    Uninstalling nvidia-cuda-nvrtc-cu12-12.5.82:\n",
            "      Successfully uninstalled nvidia-cuda-nvrtc-cu12-12.5.82\n",
            "  Attempting uninstall: nvidia-cuda-cupti-cu12\n",
            "    Found existing installation: nvidia-cuda-cupti-cu12 12.5.82\n",
            "    Uninstalling nvidia-cuda-cupti-cu12-12.5.82:\n",
            "      Successfully uninstalled nvidia-cuda-cupti-cu12-12.5.82\n",
            "  Attempting uninstall: nvidia-cublas-cu12\n",
            "    Found existing installation: nvidia-cublas-cu12 12.5.3.2\n",
            "    Uninstalling nvidia-cublas-cu12-12.5.3.2:\n",
            "      Successfully uninstalled nvidia-cublas-cu12-12.5.3.2\n",
            "  Attempting uninstall: nvidia-cusparse-cu12\n",
            "    Found existing installation: nvidia-cusparse-cu12 12.5.1.3\n",
            "    Uninstalling nvidia-cusparse-cu12-12.5.1.3:\n",
            "      Successfully uninstalled nvidia-cusparse-cu12-12.5.1.3\n",
            "  Attempting uninstall: nvidia-cudnn-cu12\n",
            "    Found existing installation: nvidia-cudnn-cu12 9.3.0.75\n",
            "    Uninstalling nvidia-cudnn-cu12-9.3.0.75:\n",
            "      Successfully uninstalled nvidia-cudnn-cu12-9.3.0.75\n",
            "  Attempting uninstall: nvidia-cusolver-cu12\n",
            "    Found existing installation: nvidia-cusolver-cu12 11.6.3.83\n",
            "    Uninstalling nvidia-cusolver-cu12-11.6.3.83:\n",
            "      Successfully uninstalled nvidia-cusolver-cu12-11.6.3.83\n",
            "Successfully installed aiofiles-24.1.0 async-property-0.2.2 coloredlogs-15.0.1 deprecation-2.1.0 humanfriendly-10.0 jaqpot-api-client-6.43.4 jaqpot-python-sdk-6.0.5 jaqpotpy-6.24.0 jwcrypto-1.5.6 nvidia-cublas-cu12-12.4.5.8 nvidia-cuda-cupti-cu12-12.4.127 nvidia-cuda-nvrtc-cu12-12.4.127 nvidia-cuda-runtime-cu12-12.4.127 nvidia-cudnn-cu12-9.1.0.70 nvidia-cufft-cu12-11.2.1.3 nvidia-curand-cu12-10.3.5.147 nvidia-cusolver-cu12-11.6.1.9 nvidia-cusparse-cu12-12.3.1.170 nvidia-nvjitlink-cu12-12.4.127 onnx-1.18.0 onnxconverter-common-1.13.0 onnxmltools-1.13.0 onnxruntime-1.22.0 polling2-0.5.0 python-keycloak-5.5.0 rdkit-2025.3.2 skl2onnx-1.18.0 torch-geometric-2.6.1\n",
            "Collecting rdkit==2023.9.6\n",
            "  Downloading rdkit-2023.9.6-cp311-cp311-manylinux_2_17_x86_64.manylinux2014_x86_64.whl.metadata (3.9 kB)\n",
            "Requirement already satisfied: numpy in /usr/local/lib/python3.11/dist-packages (from rdkit==2023.9.6) (2.0.2)\n",
            "Requirement already satisfied: Pillow in /usr/local/lib/python3.11/dist-packages (from rdkit==2023.9.6) (11.2.1)\n",
            "Downloading rdkit-2023.9.6-cp311-cp311-manylinux_2_17_x86_64.manylinux2014_x86_64.whl (34.9 MB)\n",
            "\u001b[2K   \u001b[90m━━━━━━━━━━━━━━━━━━━━━━━━━━━━━━━━━━━━━━━━\u001b[0m \u001b[32m34.9/34.9 MB\u001b[0m \u001b[31m68.0 MB/s\u001b[0m eta \u001b[36m0:00:00\u001b[0m\n",
            "\u001b[?25hInstalling collected packages: rdkit\n",
            "  Attempting uninstall: rdkit\n",
            "    Found existing installation: rdkit 2025.3.2\n",
            "    Uninstalling rdkit-2025.3.2:\n",
            "      Successfully uninstalled rdkit-2025.3.2\n",
            "Successfully installed rdkit-2023.9.6\n",
            "Collecting onnx==1.17.0\n",
            "  Downloading onnx-1.17.0-cp311-cp311-manylinux_2_17_x86_64.manylinux2014_x86_64.whl.metadata (16 kB)\n",
            "Requirement already satisfied: numpy>=1.20 in /usr/local/lib/python3.11/dist-packages (from onnx==1.17.0) (2.0.2)\n",
            "Requirement already satisfied: protobuf>=3.20.2 in /usr/local/lib/python3.11/dist-packages (from onnx==1.17.0) (5.29.4)\n",
            "Downloading onnx-1.17.0-cp311-cp311-manylinux_2_17_x86_64.manylinux2014_x86_64.whl (16.0 MB)\n",
            "\u001b[2K   \u001b[90m━━━━━━━━━━━━━━━━━━━━━━━━━━━━━━━━━━━━━━━━\u001b[0m \u001b[32m16.0/16.0 MB\u001b[0m \u001b[31m133.1 MB/s\u001b[0m eta \u001b[36m0:00:00\u001b[0m\n",
            "\u001b[?25hInstalling collected packages: onnx\n",
            "  Attempting uninstall: onnx\n",
            "    Found existing installation: onnx 1.18.0\n",
            "    Uninstalling onnx-1.18.0:\n",
            "      Successfully uninstalled onnx-1.18.0\n",
            "Successfully installed onnx-1.17.0\n",
            "Collecting numpy==1.26.4\n",
            "  Downloading numpy-1.26.4-cp311-cp311-manylinux_2_17_x86_64.manylinux2014_x86_64.whl.metadata (61 kB)\n",
            "\u001b[2K     \u001b[90m━━━━━━━━━━━━━━━━━━━━━━━━━━━━━━━━━━━━━━━━\u001b[0m \u001b[32m61.0/61.0 kB\u001b[0m \u001b[31m3.6 MB/s\u001b[0m eta \u001b[36m0:00:00\u001b[0m\n",
            "\u001b[?25hDownloading numpy-1.26.4-cp311-cp311-manylinux_2_17_x86_64.manylinux2014_x86_64.whl (18.3 MB)\n",
            "\u001b[2K   \u001b[90m━━━━━━━━━━━━━━━━━━━━━━━━━━━━━━━━━━━━━━━━\u001b[0m \u001b[32m18.3/18.3 MB\u001b[0m \u001b[31m124.2 MB/s\u001b[0m eta \u001b[36m0:00:00\u001b[0m\n",
            "\u001b[?25hInstalling collected packages: numpy\n",
            "  Attempting uninstall: numpy\n",
            "    Found existing installation: numpy 2.0.2\n",
            "    Uninstalling numpy-2.0.2:\n",
            "      Successfully uninstalled numpy-2.0.2\n",
            "\u001b[31mERROR: pip's dependency resolver does not currently take into account all the packages that are installed. This behaviour is the source of the following dependency conflicts.\n",
            "thinc 8.3.6 requires numpy<3.0.0,>=2.0.0, but you have numpy 1.26.4 which is incompatible.\u001b[0m\u001b[31m\n",
            "\u001b[0mSuccessfully installed numpy-1.26.4\n",
            "Requirement already satisfied: onnx==1.17.0 in /usr/local/lib/python3.11/dist-packages (1.17.0)\n",
            "Requirement already satisfied: numpy>=1.20 in /usr/local/lib/python3.11/dist-packages (from onnx==1.17.0) (1.26.4)\n",
            "Requirement already satisfied: protobuf>=3.20.2 in /usr/local/lib/python3.11/dist-packages (from onnx==1.17.0) (5.29.4)\n",
            "Collecting pyTDC\n",
            "  Downloading pytdc-1.1.15.tar.gz (154 kB)\n",
            "\u001b[2K     \u001b[90m━━━━━━━━━━━━━━━━━━━━━━━━━━━━━━━━━━━━━━━\u001b[0m \u001b[32m154.2/154.2 kB\u001b[0m \u001b[31m5.1 MB/s\u001b[0m eta \u001b[36m0:00:00\u001b[0m\n",
            "\u001b[?25h  Preparing metadata (setup.py) ... \u001b[?25l\u001b[?25hdone\n",
            "Collecting accelerate==0.33.0 (from pyTDC)\n",
            "  Downloading accelerate-0.33.0-py3-none-any.whl.metadata (18 kB)\n",
            "Collecting dataclasses<1.0,>=0.6 (from pyTDC)\n",
            "  Downloading dataclasses-0.6-py3-none-any.whl.metadata (3.0 kB)\n",
            "Requirement already satisfied: datasets<2.20.0 in /usr/local/lib/python3.11/dist-packages (from pyTDC) (2.14.4)\n",
            "Collecting evaluate==0.4.2 (from pyTDC)\n",
            "  Downloading evaluate-0.4.2-py3-none-any.whl.metadata (9.3 kB)\n",
            "Collecting fuzzywuzzy<1.0,>=0.18.0 (from pyTDC)\n",
            "  Downloading fuzzywuzzy-0.18.0-py2.py3-none-any.whl.metadata (4.9 kB)\n",
            "Requirement already satisfied: huggingface_hub<1.0,>=0.20.3 in /usr/local/lib/python3.11/dist-packages (from pyTDC) (0.31.1)\n",
            "Requirement already satisfied: numpy<2.0.0,>=1.26.4 in /usr/local/lib/python3.11/dist-packages (from pyTDC) (1.26.4)\n",
            "Requirement already satisfied: openpyxl<4.0.0,>=3.0.10 in /usr/local/lib/python3.11/dist-packages (from pyTDC) (3.1.5)\n",
            "Requirement already satisfied: pandas<3.0.0,>=2.1.4 in /usr/local/lib/python3.11/dist-packages (from pyTDC) (2.2.2)\n",
            "Requirement already satisfied: requests<3.0.0,>=2.31.0 in /usr/local/lib/python3.11/dist-packages (from pyTDC) (2.32.3)\n",
            "Requirement already satisfied: scikit-learn>=1.2.2 in /usr/local/lib/python3.11/dist-packages (from pyTDC) (1.6.1)\n",
            "Requirement already satisfied: seaborn<1.0.0,>=0.12.2 in /usr/local/lib/python3.11/dist-packages (from pyTDC) (0.13.2)\n",
            "Requirement already satisfied: tqdm<5.0.0,>=4.65.0 in /usr/local/lib/python3.11/dist-packages (from pyTDC) (4.67.1)\n",
            "Collecting transformers<4.51.0,>=4.43.0 (from pyTDC)\n",
            "  Downloading transformers-4.50.3-py3-none-any.whl.metadata (39 kB)\n",
            "Collecting cellxgene-census==1.15.0 (from pyTDC)\n",
            "  Downloading cellxgene_census-1.15.0-py3-none-any.whl.metadata (5.2 kB)\n",
            "Collecting gget<1.0.0,>=0.28.4 (from pyTDC)\n",
            "  Downloading gget-0.29.1-py3-none-any.whl.metadata (7.9 kB)\n",
            "Requirement already satisfied: pydantic<3.0.0,>=2.6.3 in /usr/local/lib/python3.11/dist-packages (from pyTDC) (2.11.4)\n",
            "Requirement already satisfied: rdkit<2024.3.1,>=2023.9.5 in /usr/local/lib/python3.11/dist-packages (from pyTDC) (2023.9.6)\n",
            "Collecting tiledbsoma<2.0.0,>=1.7.2 (from pyTDC)\n",
            "  Downloading tiledbsoma-1.16.2-cp311-cp311-manylinux_2_28_x86_64.whl.metadata (7.0 kB)\n",
            "Requirement already satisfied: packaging>=20.0 in /usr/local/lib/python3.11/dist-packages (from accelerate==0.33.0->pyTDC) (24.2)\n",
            "Requirement already satisfied: psutil in /usr/local/lib/python3.11/dist-packages (from accelerate==0.33.0->pyTDC) (5.9.5)\n",
            "Requirement already satisfied: pyyaml in /usr/local/lib/python3.11/dist-packages (from accelerate==0.33.0->pyTDC) (6.0.2)\n",
            "Requirement already satisfied: torch>=1.10.0 in /usr/local/lib/python3.11/dist-packages (from accelerate==0.33.0->pyTDC) (2.6.0+cu124)\n",
            "Requirement already satisfied: safetensors>=0.3.1 in /usr/local/lib/python3.11/dist-packages (from accelerate==0.33.0->pyTDC) (0.5.3)\n",
            "  Downloading tiledbsoma-1.11.4-cp311-cp311-manylinux_2_17_x86_64.manylinux2014_x86_64.whl.metadata (5.7 kB)\n",
            "Collecting anndata (from cellxgene-census==1.15.0->pyTDC)\n",
            "  Downloading anndata-0.11.4-py3-none-any.whl.metadata (9.3 kB)\n",
            "Requirement already satisfied: typing-extensions in /usr/local/lib/python3.11/dist-packages (from cellxgene-census==1.15.0->pyTDC) (4.13.2)\n",
            "Collecting s3fs>=2021.06.1 (from cellxgene-census==1.15.0->pyTDC)\n",
            "  Downloading s3fs-2025.3.2-py3-none-any.whl.metadata (1.9 kB)\n",
            "Requirement already satisfied: dill in /usr/local/lib/python3.11/dist-packages (from evaluate==0.4.2->pyTDC) (0.3.7)\n",
            "Requirement already satisfied: xxhash in /usr/local/lib/python3.11/dist-packages (from evaluate==0.4.2->pyTDC) (3.5.0)\n",
            "Requirement already satisfied: multiprocess in /usr/local/lib/python3.11/dist-packages (from evaluate==0.4.2->pyTDC) (0.70.15)\n",
            "Requirement already satisfied: fsspec>=2021.05.0 in /usr/local/lib/python3.11/dist-packages (from fsspec[http]>=2021.05.0->evaluate==0.4.2->pyTDC) (2025.3.2)\n",
            "Requirement already satisfied: pyarrow>=8.0.0 in /usr/local/lib/python3.11/dist-packages (from datasets<2.20.0->pyTDC) (18.1.0)\n",
            "Requirement already satisfied: aiohttp in /usr/local/lib/python3.11/dist-packages (from datasets<2.20.0->pyTDC) (3.11.15)\n",
            "Requirement already satisfied: ipython in /usr/local/lib/python3.11/dist-packages (from gget<1.0.0,>=0.28.4->pyTDC) (7.34.0)\n",
            "Requirement already satisfied: matplotlib in /usr/local/lib/python3.11/dist-packages (from gget<1.0.0,>=0.28.4->pyTDC) (3.10.0)\n",
            "Collecting mysql-connector-python>=8.0.32 (from gget<1.0.0,>=0.28.4->pyTDC)\n",
            "  Downloading mysql_connector_python-9.3.0-cp311-cp311-manylinux_2_28_x86_64.whl.metadata (7.2 kB)\n",
            "Requirement already satisfied: beautifulsoup4>=4.10.0 in /usr/local/lib/python3.11/dist-packages (from gget<1.0.0,>=0.28.4->pyTDC) (4.13.4)\n",
            "Requirement already satisfied: ipywidgets in /usr/local/lib/python3.11/dist-packages (from gget<1.0.0,>=0.28.4->pyTDC) (7.7.1)\n",
            "Requirement already satisfied: lxml in /usr/local/lib/python3.11/dist-packages (from gget<1.0.0,>=0.28.4->pyTDC) (5.4.0)\n",
            "Requirement already satisfied: filelock in /usr/local/lib/python3.11/dist-packages (from huggingface_hub<1.0,>=0.20.3->pyTDC) (3.18.0)\n",
            "Requirement already satisfied: hf-xet<2.0.0,>=1.1.0 in /usr/local/lib/python3.11/dist-packages (from huggingface_hub<1.0,>=0.20.3->pyTDC) (1.1.0)\n",
            "Requirement already satisfied: et-xmlfile in /usr/local/lib/python3.11/dist-packages (from openpyxl<4.0.0,>=3.0.10->pyTDC) (2.0.0)\n",
            "Requirement already satisfied: python-dateutil>=2.8.2 in /usr/local/lib/python3.11/dist-packages (from pandas<3.0.0,>=2.1.4->pyTDC) (2.9.0.post0)\n",
            "Requirement already satisfied: pytz>=2020.1 in /usr/local/lib/python3.11/dist-packages (from pandas<3.0.0,>=2.1.4->pyTDC) (2025.2)\n",
            "Requirement already satisfied: tzdata>=2022.7 in /usr/local/lib/python3.11/dist-packages (from pandas<3.0.0,>=2.1.4->pyTDC) (2025.2)\n",
            "Requirement already satisfied: annotated-types>=0.6.0 in /usr/local/lib/python3.11/dist-packages (from pydantic<3.0.0,>=2.6.3->pyTDC) (0.7.0)\n",
            "Requirement already satisfied: pydantic-core==2.33.2 in /usr/local/lib/python3.11/dist-packages (from pydantic<3.0.0,>=2.6.3->pyTDC) (2.33.2)\n",
            "Requirement already satisfied: typing-inspection>=0.4.0 in /usr/local/lib/python3.11/dist-packages (from pydantic<3.0.0,>=2.6.3->pyTDC) (0.4.0)\n",
            "Requirement already satisfied: Pillow in /usr/local/lib/python3.11/dist-packages (from rdkit<2024.3.1,>=2023.9.5->pyTDC) (11.2.1)\n",
            "Requirement already satisfied: charset-normalizer<4,>=2 in /usr/local/lib/python3.11/dist-packages (from requests<3.0.0,>=2.31.0->pyTDC) (3.4.2)\n",
            "Requirement already satisfied: idna<4,>=2.5 in /usr/local/lib/python3.11/dist-packages (from requests<3.0.0,>=2.31.0->pyTDC) (3.10)\n",
            "Requirement already satisfied: urllib3<3,>=1.21.1 in /usr/local/lib/python3.11/dist-packages (from requests<3.0.0,>=2.31.0->pyTDC) (2.4.0)\n",
            "Requirement already satisfied: certifi>=2017.4.17 in /usr/local/lib/python3.11/dist-packages (from requests<3.0.0,>=2.31.0->pyTDC) (2025.4.26)\n",
            "Requirement already satisfied: scipy>=1.6.0 in /usr/local/lib/python3.11/dist-packages (from scikit-learn>=1.2.2->pyTDC) (1.15.3)\n",
            "Requirement already satisfied: joblib>=1.2.0 in /usr/local/lib/python3.11/dist-packages (from scikit-learn>=1.2.2->pyTDC) (1.5.0)\n",
            "Requirement already satisfied: threadpoolctl>=3.1.0 in /usr/local/lib/python3.11/dist-packages (from scikit-learn>=1.2.2->pyTDC) (3.6.0)\n",
            "Requirement already satisfied: attrs>=22.2 in /usr/local/lib/python3.11/dist-packages (from tiledbsoma<2.0.0,>=1.7.2->pyTDC) (25.3.0)\n",
            "Requirement already satisfied: numba>=0.58.0 in /usr/local/lib/python3.11/dist-packages (from tiledbsoma<2.0.0,>=1.7.2->pyTDC) (0.60.0)\n",
            "Collecting pyarrow-hotfix (from tiledbsoma<2.0.0,>=1.7.2->pyTDC)\n",
            "  Downloading pyarrow_hotfix-0.7-py3-none-any.whl.metadata (3.6 kB)\n",
            "Collecting scanpy>=1.9.2 (from tiledbsoma<2.0.0,>=1.7.2->pyTDC)\n",
            "  Downloading scanpy-1.11.1-py3-none-any.whl.metadata (9.9 kB)\n",
            "Collecting somacore==1.0.11 (from tiledbsoma<2.0.0,>=1.7.2->pyTDC)\n",
            "  Downloading somacore-1.0.11-py3-none-any.whl.metadata (1.5 kB)\n",
            "Collecting tiledb~=0.29.0 (from tiledbsoma<2.0.0,>=1.7.2->pyTDC)\n",
            "  Downloading tiledb-0.29.1-cp311-cp311-manylinux_2_17_x86_64.manylinux2014_x86_64.whl.metadata (3.6 kB)\n",
            "Requirement already satisfied: regex!=2019.12.17 in /usr/local/lib/python3.11/dist-packages (from transformers<4.51.0,>=4.43.0->pyTDC) (2024.11.6)\n",
            "Requirement already satisfied: tokenizers<0.22,>=0.21 in /usr/local/lib/python3.11/dist-packages (from transformers<4.51.0,>=4.43.0->pyTDC) (0.21.1)\n",
            "Collecting array-api-compat!=1.5,>1.4 (from anndata->cellxgene-census==1.15.0->pyTDC)\n",
            "  Downloading array_api_compat-1.11.2-py3-none-any.whl.metadata (1.9 kB)\n",
            "Requirement already satisfied: h5py>=3.7 in /usr/local/lib/python3.11/dist-packages (from anndata->cellxgene-census==1.15.0->pyTDC) (3.13.0)\n",
            "Requirement already satisfied: natsort in /usr/local/lib/python3.11/dist-packages (from anndata->cellxgene-census==1.15.0->pyTDC) (8.4.0)\n",
            "Requirement already satisfied: soupsieve>1.2 in /usr/local/lib/python3.11/dist-packages (from beautifulsoup4>=4.10.0->gget<1.0.0,>=0.28.4->pyTDC) (2.7)\n",
            "Requirement already satisfied: aiohappyeyeballs>=2.3.0 in /usr/local/lib/python3.11/dist-packages (from aiohttp->datasets<2.20.0->pyTDC) (2.6.1)\n",
            "Requirement already satisfied: aiosignal>=1.1.2 in /usr/local/lib/python3.11/dist-packages (from aiohttp->datasets<2.20.0->pyTDC) (1.3.2)\n",
            "Requirement already satisfied: frozenlist>=1.1.1 in /usr/local/lib/python3.11/dist-packages (from aiohttp->datasets<2.20.0->pyTDC) (1.6.0)\n",
            "Requirement already satisfied: multidict<7.0,>=4.5 in /usr/local/lib/python3.11/dist-packages (from aiohttp->datasets<2.20.0->pyTDC) (6.4.3)\n",
            "Requirement already satisfied: propcache>=0.2.0 in /usr/local/lib/python3.11/dist-packages (from aiohttp->datasets<2.20.0->pyTDC) (0.3.1)\n",
            "Requirement already satisfied: yarl<2.0,>=1.17.0 in /usr/local/lib/python3.11/dist-packages (from aiohttp->datasets<2.20.0->pyTDC) (1.20.0)\n",
            "Requirement already satisfied: contourpy>=1.0.1 in /usr/local/lib/python3.11/dist-packages (from matplotlib->gget<1.0.0,>=0.28.4->pyTDC) (1.3.2)\n",
            "Requirement already satisfied: cycler>=0.10 in /usr/local/lib/python3.11/dist-packages (from matplotlib->gget<1.0.0,>=0.28.4->pyTDC) (0.12.1)\n",
            "Requirement already satisfied: fonttools>=4.22.0 in /usr/local/lib/python3.11/dist-packages (from matplotlib->gget<1.0.0,>=0.28.4->pyTDC) (4.57.0)\n",
            "Requirement already satisfied: kiwisolver>=1.3.1 in /usr/local/lib/python3.11/dist-packages (from matplotlib->gget<1.0.0,>=0.28.4->pyTDC) (1.4.8)\n",
            "Requirement already satisfied: pyparsing>=2.3.1 in /usr/local/lib/python3.11/dist-packages (from matplotlib->gget<1.0.0,>=0.28.4->pyTDC) (3.2.3)\n",
            "Requirement already satisfied: llvmlite<0.44,>=0.43.0dev0 in /usr/local/lib/python3.11/dist-packages (from numba>=0.58.0->tiledbsoma<2.0.0,>=1.7.2->pyTDC) (0.43.0)\n",
            "Requirement already satisfied: six>=1.5 in /usr/local/lib/python3.11/dist-packages (from python-dateutil>=2.8.2->pandas<3.0.0,>=2.1.4->pyTDC) (1.17.0)\n",
            "Collecting aiobotocore<3.0.0,>=2.5.4 (from s3fs>=2021.06.1->cellxgene-census==1.15.0->pyTDC)\n",
            "  Downloading aiobotocore-2.22.0-py3-none-any.whl.metadata (24 kB)\n",
            "Collecting legacy-api-wrap>=1.4 (from scanpy>=1.9.2->tiledbsoma<2.0.0,>=1.7.2->pyTDC)\n",
            "  Downloading legacy_api_wrap-1.4.1-py3-none-any.whl.metadata (2.1 kB)\n",
            "Requirement already satisfied: networkx>=2.7 in /usr/local/lib/python3.11/dist-packages (from scanpy>=1.9.2->tiledbsoma<2.0.0,>=1.7.2->pyTDC) (3.4.2)\n",
            "Requirement already satisfied: patsy!=1.0.0 in /usr/local/lib/python3.11/dist-packages (from scanpy>=1.9.2->tiledbsoma<2.0.0,>=1.7.2->pyTDC) (1.0.1)\n",
            "Requirement already satisfied: pynndescent>=0.5 in /usr/local/lib/python3.11/dist-packages (from scanpy>=1.9.2->tiledbsoma<2.0.0,>=1.7.2->pyTDC) (0.5.13)\n",
            "Collecting scikit-learn>=1.2.2 (from pyTDC)\n",
            "  Downloading scikit_learn-1.5.2-cp311-cp311-manylinux_2_17_x86_64.manylinux2014_x86_64.whl.metadata (13 kB)\n",
            "Collecting session-info2 (from scanpy>=1.9.2->tiledbsoma<2.0.0,>=1.7.2->pyTDC)\n",
            "  Downloading session_info2-0.1.2-py3-none-any.whl.metadata (2.5 kB)\n",
            "Requirement already satisfied: statsmodels>=0.13 in /usr/local/lib/python3.11/dist-packages (from scanpy>=1.9.2->tiledbsoma<2.0.0,>=1.7.2->pyTDC) (0.14.4)\n",
            "Requirement already satisfied: umap-learn!=0.5.0,>=0.5 in /usr/local/lib/python3.11/dist-packages (from scanpy>=1.9.2->tiledbsoma<2.0.0,>=1.7.2->pyTDC) (0.5.7)\n",
            "Requirement already satisfied: jinja2 in /usr/local/lib/python3.11/dist-packages (from torch>=1.10.0->accelerate==0.33.0->pyTDC) (3.1.6)\n",
            "Requirement already satisfied: nvidia-cuda-nvrtc-cu12==12.4.127 in /usr/local/lib/python3.11/dist-packages (from torch>=1.10.0->accelerate==0.33.0->pyTDC) (12.4.127)\n",
            "Requirement already satisfied: nvidia-cuda-runtime-cu12==12.4.127 in /usr/local/lib/python3.11/dist-packages (from torch>=1.10.0->accelerate==0.33.0->pyTDC) (12.4.127)\n",
            "Requirement already satisfied: nvidia-cuda-cupti-cu12==12.4.127 in /usr/local/lib/python3.11/dist-packages (from torch>=1.10.0->accelerate==0.33.0->pyTDC) (12.4.127)\n",
            "Requirement already satisfied: nvidia-cudnn-cu12==9.1.0.70 in /usr/local/lib/python3.11/dist-packages (from torch>=1.10.0->accelerate==0.33.0->pyTDC) (9.1.0.70)\n",
            "Requirement already satisfied: nvidia-cublas-cu12==12.4.5.8 in /usr/local/lib/python3.11/dist-packages (from torch>=1.10.0->accelerate==0.33.0->pyTDC) (12.4.5.8)\n",
            "Requirement already satisfied: nvidia-cufft-cu12==11.2.1.3 in /usr/local/lib/python3.11/dist-packages (from torch>=1.10.0->accelerate==0.33.0->pyTDC) (11.2.1.3)\n",
            "Requirement already satisfied: nvidia-curand-cu12==10.3.5.147 in /usr/local/lib/python3.11/dist-packages (from torch>=1.10.0->accelerate==0.33.0->pyTDC) (10.3.5.147)\n",
            "Requirement already satisfied: nvidia-cusolver-cu12==11.6.1.9 in /usr/local/lib/python3.11/dist-packages (from torch>=1.10.0->accelerate==0.33.0->pyTDC) (11.6.1.9)\n",
            "Requirement already satisfied: nvidia-cusparse-cu12==12.3.1.170 in /usr/local/lib/python3.11/dist-packages (from torch>=1.10.0->accelerate==0.33.0->pyTDC) (12.3.1.170)\n",
            "Requirement already satisfied: nvidia-cusparselt-cu12==0.6.2 in /usr/local/lib/python3.11/dist-packages (from torch>=1.10.0->accelerate==0.33.0->pyTDC) (0.6.2)\n",
            "Requirement already satisfied: nvidia-nccl-cu12==2.21.5 in /usr/local/lib/python3.11/dist-packages (from torch>=1.10.0->accelerate==0.33.0->pyTDC) (2.21.5)\n",
            "Requirement already satisfied: nvidia-nvtx-cu12==12.4.127 in /usr/local/lib/python3.11/dist-packages (from torch>=1.10.0->accelerate==0.33.0->pyTDC) (12.4.127)\n",
            "Requirement already satisfied: nvidia-nvjitlink-cu12==12.4.127 in /usr/local/lib/python3.11/dist-packages (from torch>=1.10.0->accelerate==0.33.0->pyTDC) (12.4.127)\n",
            "Requirement already satisfied: triton==3.2.0 in /usr/local/lib/python3.11/dist-packages (from torch>=1.10.0->accelerate==0.33.0->pyTDC) (3.2.0)\n",
            "Requirement already satisfied: sympy==1.13.1 in /usr/local/lib/python3.11/dist-packages (from torch>=1.10.0->accelerate==0.33.0->pyTDC) (1.13.1)\n",
            "Requirement already satisfied: mpmath<1.4,>=1.1.0 in /usr/local/lib/python3.11/dist-packages (from sympy==1.13.1->torch>=1.10.0->accelerate==0.33.0->pyTDC) (1.3.0)\n",
            "Requirement already satisfied: setuptools>=18.5 in /usr/local/lib/python3.11/dist-packages (from ipython->gget<1.0.0,>=0.28.4->pyTDC) (75.2.0)\n",
            "Collecting jedi>=0.16 (from ipython->gget<1.0.0,>=0.28.4->pyTDC)\n",
            "  Downloading jedi-0.19.2-py2.py3-none-any.whl.metadata (22 kB)\n",
            "Requirement already satisfied: decorator in /usr/local/lib/python3.11/dist-packages (from ipython->gget<1.0.0,>=0.28.4->pyTDC) (4.4.2)\n",
            "Requirement already satisfied: pickleshare in /usr/local/lib/python3.11/dist-packages (from ipython->gget<1.0.0,>=0.28.4->pyTDC) (0.7.5)\n",
            "Requirement already satisfied: traitlets>=4.2 in /usr/local/lib/python3.11/dist-packages (from ipython->gget<1.0.0,>=0.28.4->pyTDC) (5.7.1)\n",
            "Requirement already satisfied: prompt-toolkit!=3.0.0,!=3.0.1,<3.1.0,>=2.0.0 in /usr/local/lib/python3.11/dist-packages (from ipython->gget<1.0.0,>=0.28.4->pyTDC) (3.0.51)\n",
            "Requirement already satisfied: pygments in /usr/local/lib/python3.11/dist-packages (from ipython->gget<1.0.0,>=0.28.4->pyTDC) (2.19.1)\n",
            "Requirement already satisfied: backcall in /usr/local/lib/python3.11/dist-packages (from ipython->gget<1.0.0,>=0.28.4->pyTDC) (0.2.0)\n",
            "Requirement already satisfied: matplotlib-inline in /usr/local/lib/python3.11/dist-packages (from ipython->gget<1.0.0,>=0.28.4->pyTDC) (0.1.7)\n",
            "Requirement already satisfied: pexpect>4.3 in /usr/local/lib/python3.11/dist-packages (from ipython->gget<1.0.0,>=0.28.4->pyTDC) (4.9.0)\n",
            "Requirement already satisfied: ipykernel>=4.5.1 in /usr/local/lib/python3.11/dist-packages (from ipywidgets->gget<1.0.0,>=0.28.4->pyTDC) (6.17.1)\n",
            "Requirement already satisfied: ipython-genutils~=0.2.0 in /usr/local/lib/python3.11/dist-packages (from ipywidgets->gget<1.0.0,>=0.28.4->pyTDC) (0.2.0)\n",
            "Requirement already satisfied: widgetsnbextension~=3.6.0 in /usr/local/lib/python3.11/dist-packages (from ipywidgets->gget<1.0.0,>=0.28.4->pyTDC) (3.6.10)\n",
            "Requirement already satisfied: jupyterlab-widgets>=1.0.0 in /usr/local/lib/python3.11/dist-packages (from ipywidgets->gget<1.0.0,>=0.28.4->pyTDC) (3.0.15)\n",
            "Collecting aioitertools<1.0.0,>=0.5.1 (from aiobotocore<3.0.0,>=2.5.4->s3fs>=2021.06.1->cellxgene-census==1.15.0->pyTDC)\n",
            "  Downloading aioitertools-0.12.0-py3-none-any.whl.metadata (3.8 kB)\n",
            "Collecting botocore<1.37.4,>=1.37.2 (from aiobotocore<3.0.0,>=2.5.4->s3fs>=2021.06.1->cellxgene-census==1.15.0->pyTDC)\n",
            "  Downloading botocore-1.37.3-py3-none-any.whl.metadata (5.7 kB)\n",
            "Collecting jmespath<2.0.0,>=0.7.1 (from aiobotocore<3.0.0,>=2.5.4->s3fs>=2021.06.1->cellxgene-census==1.15.0->pyTDC)\n",
            "  Downloading jmespath-1.0.1-py3-none-any.whl.metadata (7.6 kB)\n",
            "Requirement already satisfied: wrapt<2.0.0,>=1.10.10 in /usr/local/lib/python3.11/dist-packages (from aiobotocore<3.0.0,>=2.5.4->s3fs>=2021.06.1->cellxgene-census==1.15.0->pyTDC) (1.17.2)\n",
            "Requirement already satisfied: debugpy>=1.0 in /usr/local/lib/python3.11/dist-packages (from ipykernel>=4.5.1->ipywidgets->gget<1.0.0,>=0.28.4->pyTDC) (1.8.0)\n",
            "Requirement already satisfied: jupyter-client>=6.1.12 in /usr/local/lib/python3.11/dist-packages (from ipykernel>=4.5.1->ipywidgets->gget<1.0.0,>=0.28.4->pyTDC) (6.1.12)\n",
            "Requirement already satisfied: nest-asyncio in /usr/local/lib/python3.11/dist-packages (from ipykernel>=4.5.1->ipywidgets->gget<1.0.0,>=0.28.4->pyTDC) (1.6.0)\n",
            "Requirement already satisfied: pyzmq>=17 in /usr/local/lib/python3.11/dist-packages (from ipykernel>=4.5.1->ipywidgets->gget<1.0.0,>=0.28.4->pyTDC) (24.0.1)\n",
            "Requirement already satisfied: tornado>=6.1 in /usr/local/lib/python3.11/dist-packages (from ipykernel>=4.5.1->ipywidgets->gget<1.0.0,>=0.28.4->pyTDC) (6.4.2)\n",
            "Requirement already satisfied: parso<0.9.0,>=0.8.4 in /usr/local/lib/python3.11/dist-packages (from jedi>=0.16->ipython->gget<1.0.0,>=0.28.4->pyTDC) (0.8.4)\n",
            "Requirement already satisfied: ptyprocess>=0.5 in /usr/local/lib/python3.11/dist-packages (from pexpect>4.3->ipython->gget<1.0.0,>=0.28.4->pyTDC) (0.7.0)\n",
            "Requirement already satisfied: wcwidth in /usr/local/lib/python3.11/dist-packages (from prompt-toolkit!=3.0.0,!=3.0.1,<3.1.0,>=2.0.0->ipython->gget<1.0.0,>=0.28.4->pyTDC) (0.2.13)\n",
            "Requirement already satisfied: notebook>=4.4.1 in /usr/local/lib/python3.11/dist-packages (from widgetsnbextension~=3.6.0->ipywidgets->gget<1.0.0,>=0.28.4->pyTDC) (6.5.7)\n",
            "Requirement already satisfied: MarkupSafe>=2.0 in /usr/local/lib/python3.11/dist-packages (from jinja2->torch>=1.10.0->accelerate==0.33.0->pyTDC) (3.0.2)\n",
            "Requirement already satisfied: jupyter-core>=4.6.0 in /usr/local/lib/python3.11/dist-packages (from jupyter-client>=6.1.12->ipykernel>=4.5.1->ipywidgets->gget<1.0.0,>=0.28.4->pyTDC) (5.7.2)\n",
            "Requirement already satisfied: argon2-cffi in /usr/local/lib/python3.11/dist-packages (from notebook>=4.4.1->widgetsnbextension~=3.6.0->ipywidgets->gget<1.0.0,>=0.28.4->pyTDC) (23.1.0)\n",
            "Requirement already satisfied: nbformat in /usr/local/lib/python3.11/dist-packages (from notebook>=4.4.1->widgetsnbextension~=3.6.0->ipywidgets->gget<1.0.0,>=0.28.4->pyTDC) (5.10.4)\n",
            "Requirement already satisfied: nbconvert>=5 in /usr/local/lib/python3.11/dist-packages (from notebook>=4.4.1->widgetsnbextension~=3.6.0->ipywidgets->gget<1.0.0,>=0.28.4->pyTDC) (7.16.6)\n",
            "Requirement already satisfied: Send2Trash>=1.8.0 in /usr/local/lib/python3.11/dist-packages (from notebook>=4.4.1->widgetsnbextension~=3.6.0->ipywidgets->gget<1.0.0,>=0.28.4->pyTDC) (1.8.3)\n",
            "Requirement already satisfied: terminado>=0.8.3 in /usr/local/lib/python3.11/dist-packages (from notebook>=4.4.1->widgetsnbextension~=3.6.0->ipywidgets->gget<1.0.0,>=0.28.4->pyTDC) (0.18.1)\n",
            "Requirement already satisfied: prometheus-client in /usr/local/lib/python3.11/dist-packages (from notebook>=4.4.1->widgetsnbextension~=3.6.0->ipywidgets->gget<1.0.0,>=0.28.4->pyTDC) (0.21.1)\n",
            "Requirement already satisfied: nbclassic>=0.4.7 in /usr/local/lib/python3.11/dist-packages (from notebook>=4.4.1->widgetsnbextension~=3.6.0->ipywidgets->gget<1.0.0,>=0.28.4->pyTDC) (1.3.1)\n",
            "Requirement already satisfied: platformdirs>=2.5 in /usr/local/lib/python3.11/dist-packages (from jupyter-core>=4.6.0->jupyter-client>=6.1.12->ipykernel>=4.5.1->ipywidgets->gget<1.0.0,>=0.28.4->pyTDC) (4.3.8)\n",
            "Requirement already satisfied: notebook-shim>=0.2.3 in /usr/local/lib/python3.11/dist-packages (from nbclassic>=0.4.7->notebook>=4.4.1->widgetsnbextension~=3.6.0->ipywidgets->gget<1.0.0,>=0.28.4->pyTDC) (0.2.4)\n",
            "Requirement already satisfied: bleach!=5.0.0 in /usr/local/lib/python3.11/dist-packages (from bleach[css]!=5.0.0->nbconvert>=5->notebook>=4.4.1->widgetsnbextension~=3.6.0->ipywidgets->gget<1.0.0,>=0.28.4->pyTDC) (6.2.0)\n",
            "Requirement already satisfied: defusedxml in /usr/local/lib/python3.11/dist-packages (from nbconvert>=5->notebook>=4.4.1->widgetsnbextension~=3.6.0->ipywidgets->gget<1.0.0,>=0.28.4->pyTDC) (0.7.1)\n",
            "Requirement already satisfied: jupyterlab-pygments in /usr/local/lib/python3.11/dist-packages (from nbconvert>=5->notebook>=4.4.1->widgetsnbextension~=3.6.0->ipywidgets->gget<1.0.0,>=0.28.4->pyTDC) (0.3.0)\n",
            "Requirement already satisfied: mistune<4,>=2.0.3 in /usr/local/lib/python3.11/dist-packages (from nbconvert>=5->notebook>=4.4.1->widgetsnbextension~=3.6.0->ipywidgets->gget<1.0.0,>=0.28.4->pyTDC) (3.1.3)\n",
            "Requirement already satisfied: nbclient>=0.5.0 in /usr/local/lib/python3.11/dist-packages (from nbconvert>=5->notebook>=4.4.1->widgetsnbextension~=3.6.0->ipywidgets->gget<1.0.0,>=0.28.4->pyTDC) (0.10.2)\n",
            "Requirement already satisfied: pandocfilters>=1.4.1 in /usr/local/lib/python3.11/dist-packages (from nbconvert>=5->notebook>=4.4.1->widgetsnbextension~=3.6.0->ipywidgets->gget<1.0.0,>=0.28.4->pyTDC) (1.5.1)\n",
            "Requirement already satisfied: fastjsonschema>=2.15 in /usr/local/lib/python3.11/dist-packages (from nbformat->notebook>=4.4.1->widgetsnbextension~=3.6.0->ipywidgets->gget<1.0.0,>=0.28.4->pyTDC) (2.21.1)\n",
            "Requirement already satisfied: jsonschema>=2.6 in /usr/local/lib/python3.11/dist-packages (from nbformat->notebook>=4.4.1->widgetsnbextension~=3.6.0->ipywidgets->gget<1.0.0,>=0.28.4->pyTDC) (4.23.0)\n",
            "Requirement already satisfied: argon2-cffi-bindings in /usr/local/lib/python3.11/dist-packages (from argon2-cffi->notebook>=4.4.1->widgetsnbextension~=3.6.0->ipywidgets->gget<1.0.0,>=0.28.4->pyTDC) (21.2.0)\n",
            "Requirement already satisfied: webencodings in /usr/local/lib/python3.11/dist-packages (from bleach!=5.0.0->bleach[css]!=5.0.0->nbconvert>=5->notebook>=4.4.1->widgetsnbextension~=3.6.0->ipywidgets->gget<1.0.0,>=0.28.4->pyTDC) (0.5.1)\n",
            "Requirement already satisfied: tinycss2<1.5,>=1.1.0 in /usr/local/lib/python3.11/dist-packages (from bleach[css]!=5.0.0->nbconvert>=5->notebook>=4.4.1->widgetsnbextension~=3.6.0->ipywidgets->gget<1.0.0,>=0.28.4->pyTDC) (1.4.0)\n",
            "Requirement already satisfied: jsonschema-specifications>=2023.03.6 in /usr/local/lib/python3.11/dist-packages (from jsonschema>=2.6->nbformat->notebook>=4.4.1->widgetsnbextension~=3.6.0->ipywidgets->gget<1.0.0,>=0.28.4->pyTDC) (2025.4.1)\n",
            "Requirement already satisfied: referencing>=0.28.4 in /usr/local/lib/python3.11/dist-packages (from jsonschema>=2.6->nbformat->notebook>=4.4.1->widgetsnbextension~=3.6.0->ipywidgets->gget<1.0.0,>=0.28.4->pyTDC) (0.36.2)\n",
            "Requirement already satisfied: rpds-py>=0.7.1 in /usr/local/lib/python3.11/dist-packages (from jsonschema>=2.6->nbformat->notebook>=4.4.1->widgetsnbextension~=3.6.0->ipywidgets->gget<1.0.0,>=0.28.4->pyTDC) (0.24.0)\n",
            "Requirement already satisfied: jupyter-server<3,>=1.8 in /usr/local/lib/python3.11/dist-packages (from notebook-shim>=0.2.3->nbclassic>=0.4.7->notebook>=4.4.1->widgetsnbextension~=3.6.0->ipywidgets->gget<1.0.0,>=0.28.4->pyTDC) (1.16.0)\n",
            "Requirement already satisfied: cffi>=1.0.1 in /usr/local/lib/python3.11/dist-packages (from argon2-cffi-bindings->argon2-cffi->notebook>=4.4.1->widgetsnbextension~=3.6.0->ipywidgets->gget<1.0.0,>=0.28.4->pyTDC) (1.17.1)\n",
            "Requirement already satisfied: pycparser in /usr/local/lib/python3.11/dist-packages (from cffi>=1.0.1->argon2-cffi-bindings->argon2-cffi->notebook>=4.4.1->widgetsnbextension~=3.6.0->ipywidgets->gget<1.0.0,>=0.28.4->pyTDC) (2.22)\n",
            "Requirement already satisfied: anyio>=3.1.0 in /usr/local/lib/python3.11/dist-packages (from jupyter-server<3,>=1.8->notebook-shim>=0.2.3->nbclassic>=0.4.7->notebook>=4.4.1->widgetsnbextension~=3.6.0->ipywidgets->gget<1.0.0,>=0.28.4->pyTDC) (4.9.0)\n",
            "Requirement already satisfied: websocket-client in /usr/local/lib/python3.11/dist-packages (from jupyter-server<3,>=1.8->notebook-shim>=0.2.3->nbclassic>=0.4.7->notebook>=4.4.1->widgetsnbextension~=3.6.0->ipywidgets->gget<1.0.0,>=0.28.4->pyTDC) (1.8.0)\n",
            "Requirement already satisfied: sniffio>=1.1 in /usr/local/lib/python3.11/dist-packages (from anyio>=3.1.0->jupyter-server<3,>=1.8->notebook-shim>=0.2.3->nbclassic>=0.4.7->notebook>=4.4.1->widgetsnbextension~=3.6.0->ipywidgets->gget<1.0.0,>=0.28.4->pyTDC) (1.3.1)\n",
            "Downloading accelerate-0.33.0-py3-none-any.whl (315 kB)\n",
            "\u001b[2K   \u001b[90m━━━━━━━━━━━━━━━━━━━━━━━━━━━━━━━━━━━━━━━━\u001b[0m \u001b[32m315.1/315.1 kB\u001b[0m \u001b[31m18.1 MB/s\u001b[0m eta \u001b[36m0:00:00\u001b[0m\n",
            "\u001b[?25hDownloading cellxgene_census-1.15.0-py3-none-any.whl (51 kB)\n",
            "\u001b[2K   \u001b[90m━━━━━━━━━━━━━━━━━━━━━━━━━━━━━━━━━━━━━━━━\u001b[0m \u001b[32m52.0/52.0 kB\u001b[0m \u001b[31m4.1 MB/s\u001b[0m eta \u001b[36m0:00:00\u001b[0m\n",
            "\u001b[?25hDownloading evaluate-0.4.2-py3-none-any.whl (84 kB)\n",
            "\u001b[2K   \u001b[90m━━━━━━━━━━━━━━━━━━━━━━━━━━━━━━━━━━━━━━━━\u001b[0m \u001b[32m84.1/84.1 kB\u001b[0m \u001b[31m7.8 MB/s\u001b[0m eta \u001b[36m0:00:00\u001b[0m\n",
            "\u001b[?25hDownloading dataclasses-0.6-py3-none-any.whl (14 kB)\n",
            "Downloading fuzzywuzzy-0.18.0-py2.py3-none-any.whl (18 kB)\n",
            "Downloading gget-0.29.1-py3-none-any.whl (43.1 MB)\n",
            "\u001b[2K   \u001b[90m━━━━━━━━━━━━━━━━━━━━━━━━━━━━━━━━━━━━━━━━\u001b[0m \u001b[32m43.1/43.1 MB\u001b[0m \u001b[31m15.0 MB/s\u001b[0m eta \u001b[36m0:00:00\u001b[0m\n",
            "\u001b[?25hDownloading tiledbsoma-1.11.4-cp311-cp311-manylinux_2_17_x86_64.manylinux2014_x86_64.whl (16.0 MB)\n",
            "\u001b[2K   \u001b[90m━━━━━━━━━━━━━━━━━━━━━━━━━━━━━━━━━━━━━━━━\u001b[0m \u001b[32m16.0/16.0 MB\u001b[0m \u001b[31m71.5 MB/s\u001b[0m eta \u001b[36m0:00:00\u001b[0m\n",
            "\u001b[?25hDownloading somacore-1.0.11-py3-none-any.whl (35 kB)\n",
            "Downloading transformers-4.50.3-py3-none-any.whl (10.2 MB)\n",
            "\u001b[2K   \u001b[90m━━━━━━━━━━━━━━━━━━━━━━━━━━━━━━━━━━━━━━━━\u001b[0m \u001b[32m10.2/10.2 MB\u001b[0m \u001b[31m71.9 MB/s\u001b[0m eta \u001b[36m0:00:00\u001b[0m\n",
            "\u001b[?25hDownloading anndata-0.11.4-py3-none-any.whl (144 kB)\n",
            "\u001b[2K   \u001b[90m━━━━━━━━━━━━━━━━━━━━━━━━━━━━━━━━━━━━━━━━\u001b[0m \u001b[32m144.5/144.5 kB\u001b[0m \u001b[31m14.3 MB/s\u001b[0m eta \u001b[36m0:00:00\u001b[0m\n",
            "\u001b[?25hDownloading mysql_connector_python-9.3.0-cp311-cp311-manylinux_2_28_x86_64.whl (33.9 MB)\n",
            "\u001b[2K   \u001b[90m━━━━━━━━━━━━━━━━━━━━━━━━━━━━━━━━━━━━━━━━\u001b[0m \u001b[32m33.9/33.9 MB\u001b[0m \u001b[31m24.9 MB/s\u001b[0m eta \u001b[36m0:00:00\u001b[0m\n",
            "\u001b[?25hDownloading s3fs-2025.3.2-py3-none-any.whl (30 kB)\n",
            "Downloading scanpy-1.11.1-py3-none-any.whl (2.1 MB)\n",
            "\u001b[2K   \u001b[90m━━━━━━━━━━━━━━━━━━━━━━━━━━━━━━━━━━━━━━━━\u001b[0m \u001b[32m2.1/2.1 MB\u001b[0m \u001b[31m95.3 MB/s\u001b[0m eta \u001b[36m0:00:00\u001b[0m\n",
            "\u001b[?25hDownloading scikit_learn-1.5.2-cp311-cp311-manylinux_2_17_x86_64.manylinux2014_x86_64.whl (13.3 MB)\n",
            "\u001b[2K   \u001b[90m━━━━━━━━━━━━━━━━━━━━━━━━━━━━━━━━━━━━━━━━\u001b[0m \u001b[32m13.3/13.3 MB\u001b[0m \u001b[31m131.7 MB/s\u001b[0m eta \u001b[36m0:00:00\u001b[0m\n",
            "\u001b[?25hDownloading tiledb-0.29.1-cp311-cp311-manylinux_2_17_x86_64.manylinux2014_x86_64.whl (26.8 MB)\n",
            "\u001b[2K   \u001b[90m━━━━━━━━━━━━━━━━━━━━━━━━━━━━━━━━━━━━━━━━\u001b[0m \u001b[32m26.8/26.8 MB\u001b[0m \u001b[31m48.5 MB/s\u001b[0m eta \u001b[36m0:00:00\u001b[0m\n",
            "\u001b[?25hDownloading pyarrow_hotfix-0.7-py3-none-any.whl (7.9 kB)\n",
            "Downloading aiobotocore-2.22.0-py3-none-any.whl (78 kB)\n",
            "\u001b[2K   \u001b[90m━━━━━━━━━━━━━━━━━━━━━━━━━━━━━━━━━━━━━━━━\u001b[0m \u001b[32m78.9/78.9 kB\u001b[0m \u001b[31m6.8 MB/s\u001b[0m eta \u001b[36m0:00:00\u001b[0m\n",
            "\u001b[?25hDownloading array_api_compat-1.11.2-py3-none-any.whl (53 kB)\n",
            "\u001b[2K   \u001b[90m━━━━━━━━━━━━━━━━━━━━━━━━━━━━━━━━━━━━━━━━\u001b[0m \u001b[32m53.1/53.1 kB\u001b[0m \u001b[31m5.2 MB/s\u001b[0m eta \u001b[36m0:00:00\u001b[0m\n",
            "\u001b[?25hDownloading jedi-0.19.2-py2.py3-none-any.whl (1.6 MB)\n",
            "\u001b[2K   \u001b[90m━━━━━━━━━━━━━━━━━━━━━━━━━━━━━━━━━━━━━━━━\u001b[0m \u001b[32m1.6/1.6 MB\u001b[0m \u001b[31m81.6 MB/s\u001b[0m eta \u001b[36m0:00:00\u001b[0m\n",
            "\u001b[?25hDownloading legacy_api_wrap-1.4.1-py3-none-any.whl (10.0 kB)\n",
            "Downloading session_info2-0.1.2-py3-none-any.whl (14 kB)\n",
            "Downloading aioitertools-0.12.0-py3-none-any.whl (24 kB)\n",
            "Downloading botocore-1.37.3-py3-none-any.whl (13.3 MB)\n",
            "\u001b[2K   \u001b[90m━━━━━━━━━━━━━━━━━━━━━━━━━━━━━━━━━━━━━━━━\u001b[0m \u001b[32m13.3/13.3 MB\u001b[0m \u001b[31m119.6 MB/s\u001b[0m eta \u001b[36m0:00:00\u001b[0m\n",
            "\u001b[?25hDownloading jmespath-1.0.1-py3-none-any.whl (20 kB)\n",
            "Building wheels for collected packages: pyTDC\n",
            "  Building wheel for pyTDC (setup.py) ... \u001b[?25l\u001b[?25hdone\n",
            "  Created wheel for pyTDC: filename=pytdc-1.1.15-py3-none-any.whl size=191643 sha256=bf5176ed14925badd82be7f9141b1d48be55d2b4abf0aff5764dbc912eb7d3f0\n",
            "  Stored in directory: /root/.cache/pip/wheels/24/6a/27/95aa98f441aa4ae1845d105118d281003baa66883096fa0c2f\n",
            "Successfully built pyTDC\n",
            "Installing collected packages: fuzzywuzzy, dataclasses, tiledb, session-info2, pyarrow-hotfix, mysql-connector-python, legacy-api-wrap, jmespath, jedi, array-api-compat, aioitertools, scikit-learn, botocore, anndata, aiobotocore, transformers, somacore, s3fs, accelerate, scanpy, evaluate, tiledbsoma, cellxgene-census, gget, pyTDC\n",
            "  Attempting uninstall: scikit-learn\n",
            "    Found existing installation: scikit-learn 1.6.1\n",
            "    Uninstalling scikit-learn-1.6.1:\n",
            "      Successfully uninstalled scikit-learn-1.6.1\n",
            "  Attempting uninstall: transformers\n",
            "    Found existing installation: transformers 4.51.3\n",
            "    Uninstalling transformers-4.51.3:\n",
            "      Successfully uninstalled transformers-4.51.3\n",
            "  Attempting uninstall: accelerate\n",
            "    Found existing installation: accelerate 1.6.0\n",
            "    Uninstalling accelerate-1.6.0:\n",
            "      Successfully uninstalled accelerate-1.6.0\n",
            "Successfully installed accelerate-0.33.0 aiobotocore-2.22.0 aioitertools-0.12.0 anndata-0.11.4 array-api-compat-1.11.2 botocore-1.37.3 cellxgene-census-1.15.0 dataclasses-0.6 evaluate-0.4.2 fuzzywuzzy-0.18.0 gget-0.29.1 jedi-0.19.2 jmespath-1.0.1 legacy-api-wrap-1.4.1 mysql-connector-python-9.3.0 pyTDC-1.1.15 pyarrow-hotfix-0.7 s3fs-2025.3.2 scanpy-1.11.1 scikit-learn-1.5.2 session-info2-0.1.2 somacore-1.0.11 tiledb-0.29.1 tiledbsoma-1.11.4 transformers-4.50.3\n"
          ]
        }
      ],
      "source": [
        "!pip install jaqpotpy\n",
        "!pip install rdkit==2023.9.6\n",
        "!pip install onnx==1.17.0\n",
        "!pip install numpy==1.26.4\n",
        "!pip install onnx==1.17.0\n",
        "!pip install pyTDC\n",
        "import os\n",
        "# To restart the session with new rdkit+numpy version\n",
        "os.kill(os.getpid(), 9)"
      ]
    },
    {
      "cell_type": "code",
      "source": [
        "from tdc.single_pred import Tox\n",
        "import pandas as pd\n",
        "from sklearn.feature_selection import mutual_info_classif\n",
        "from sklearn.model_selection import train_test_split\n",
        "from sklearn.preprocessing import StandardScaler, MinMaxScaler\n",
        "from jaqpotpy.datasets import JaqpotTabularDataset\n",
        "from sklearn.feature_selection import VarianceThreshold\n",
        "from jaqpotpy.models import SklearnModel\n",
        "from sklearn.linear_model import LogisticRegression\n",
        "from jaqpotpy.descriptors.molecular import RDKitDescriptors, MACCSKeysFingerprint\n",
        "from jaqpotpy.doa import Leverage, BoundingBox\n",
        "from jaqpotpy import Jaqpot"
      ],
      "metadata": {
        "id": "-e7bLYxwU6Lg"
      },
      "execution_count": null,
      "outputs": []
    },
    {
      "cell_type": "markdown",
      "source": [
        "## Import chemical data from TDCommons\n",
        "\n",
        "DILI (Drug Induced Liver Injury)\n",
        "\n",
        "Source: https://tdcommons.ai/single_pred_tasks/tox/#dili-drug-induced-liver-injury\n",
        "\n",
        "Dataset Description: Drug-induced liver injury (DILI) is fatal liver disease caused by drugs and it has been the single most frequent cause of safety-related drug marketing withdrawals for the past 50 years (e.g. iproniazid, ticrynafen, benoxaprofen). This dataset is aggregated from U.S. FDA’s National Center for Toxicological Research.\n",
        "\n",
        "Task Description: Binary classification. Given a drug SMILES string, predict whether it can cause liver injury (1) or not (0).\n",
        "\n",
        "Dataset Statistics: 475 drugs."
      ],
      "metadata": {
        "id": "G8WJda8-mnna"
      }
    },
    {
      "cell_type": "code",
      "source": [
        "data = Tox(name = 'DILI')"
      ],
      "metadata": {
        "colab": {
          "base_uri": "https://localhost:8080/"
        },
        "id": "dj1k4XW4Sti0",
        "outputId": "2cee3de8-92e7-4d3e-a87e-b8390e190ea6"
      },
      "execution_count": null,
      "outputs": [
        {
          "output_type": "stream",
          "name": "stderr",
          "text": [
            "Downloading...\n",
            "100%|██████████| 26.7k/26.7k [00:00<00:00, 459kiB/s]\n",
            "Loading...\n",
            "Done!\n"
          ]
        }
      ]
    },
    {
      "cell_type": "markdown",
      "source": [
        "## Dataset Description\n",
        "\n",
        "In this notebook, we work with a dataset that contains **chemical compounds** represented by their **SMILES strings** and several **molecular descriptors**.\n",
        "\n",
        "- The **SMILES** notation is a way to encode a molecule's structure in a simple string, which is widely used in cheminformatics. For example, the SMILES string for **Aspirin** is `CC(=O)OC1=CC=CC=C1C(=O)O`.\n",
        "- The **descriptors** (generated using RDKit) include information such as molecular weight, number of hydrogen donors/acceptors, surface area, and more. These numerical values are used by the model to learn relationships between molecular structure and the target property."
      ],
      "metadata": {
        "id": "VeAUBlHJmzVG"
      }
    },
    {
      "cell_type": "code",
      "source": [
        "smiles = data.get_data()[\"Drug\"]\n",
        "y = data.get_data()[\"Y\"]\n",
        "all_data = pd.DataFrame(data={\"smiles\": smiles, \"y\": y})"
      ],
      "metadata": {
        "id": "Jf0_JKkSVI6W"
      },
      "execution_count": null,
      "outputs": []
    },
    {
      "cell_type": "code",
      "source": [
        "print(smiles)"
      ],
      "metadata": {
        "colab": {
          "base_uri": "https://localhost:8080/"
        },
        "id": "M_S0bEukARrT",
        "outputId": "439f82e3-bc9d-4a05-e2fa-43aa040d1b30"
      },
      "execution_count": null,
      "outputs": [
        {
          "output_type": "stream",
          "name": "stdout",
          "text": [
            "0                                   CC(=O)OCC[N+](C)(C)C\n",
            "1                                  C[N+](C)(C)CC(=O)[O-]\n",
            "2           O=C(NC(CO)C(O)c1ccc([N+](=O)[O-])cc1)C(Cl)Cl\n",
            "3                                        O=C(O)c1ccccc1O\n",
            "4                         CC(NC(C)(C)C)C(=O)c1cccc(Cl)c1\n",
            "                             ...                        \n",
            "470             CCCC(CCC)C(=O)O.CCCC(CCC)C(=O)[O-].[Na+]\n",
            "471    CCCCC(CC)COC(=O)CC(C(=O)OCC(CC)CCCC)S(=O)(=O)[...\n",
            "472    C=C1c2cccc(O)c2C(O)=C2C(=O)C3(O)C(O)=C(C(N)=O)...\n",
            "473                               O=C1OC(C(O)CO)C(O)=C1O\n",
            "474    CN(C)C1C(=O)C(C(N)=O)=C(O)C2(O)C(=O)C3=C(O)c4c...\n",
            "Name: Drug, Length: 475, dtype: object\n"
          ]
        }
      ]
    },
    {
      "cell_type": "code",
      "source": [
        "print(y)"
      ],
      "metadata": {
        "colab": {
          "base_uri": "https://localhost:8080/"
        },
        "id": "ZA-rDHCHAXZg",
        "outputId": "c0cf97fc-cc0e-4f0b-ff53-8420fa33f329"
      },
      "execution_count": null,
      "outputs": [
        {
          "output_type": "stream",
          "name": "stdout",
          "text": [
            "0      0.0\n",
            "1      0.0\n",
            "2      0.0\n",
            "3      0.0\n",
            "4      0.0\n",
            "      ... \n",
            "470    1.0\n",
            "471    0.0\n",
            "472    1.0\n",
            "473    0.0\n",
            "474    1.0\n",
            "Name: Y, Length: 475, dtype: float64\n"
          ]
        }
      ]
    },
    {
      "cell_type": "markdown",
      "source": [
        "### Split Data into Train-Test\n",
        "Splitting the dataset into training and testing sets is a crucial step in machine learning. It allows us to evaluate the performance of our model on unseen data, ensuring that it generalizes well and does not simply memorize the training data. By training the model on one portion of the data (training set) and testing it on another (testing set), we can assess its predictive accuracy and avoid overfitting."
      ],
      "metadata": {
        "id": "VCDi8S6qm_Qr"
      }
    },
    {
      "cell_type": "code",
      "source": [
        "train_smiles, test_smiles, train_y, test_y = train_test_split(smiles, y, test_size=0.2, stratify=y, random_state=42)\n",
        "train_data = pd.DataFrame(data={\"smiles\": train_smiles, \"y\": train_y})\n",
        "test_data = pd.DataFrame(data={\"smiles\": test_smiles, \"y\": test_y})\n",
        "print(f\"Train data shape: {train_data.shape}\")\n",
        "print(f\"Test data shape: {test_data.shape}\")"
      ],
      "metadata": {
        "id": "RylrszPnWSsH",
        "colab": {
          "base_uri": "https://localhost:8080/"
        },
        "outputId": "635d08e7-d0d2-4e86-90bb-5af118052808"
      },
      "execution_count": null,
      "outputs": [
        {
          "output_type": "stream",
          "name": "stdout",
          "text": [
            "Train data shape: (380, 2)\n",
            "Test data shape: (95, 2)\n"
          ]
        }
      ]
    },
    {
      "cell_type": "markdown",
      "source": [
        "### Create Datasets with Molecular Descriptors\n",
        "The `JaqpotTabularDataset` is a class provided by the `jaqpotpy` library to handle tabular datasets, particularly for machine learning tasks in cheminformatics. It simplifies the process of converting raw chemical data into a format suitable for model training and prediction.\n",
        "\n",
        "Key input variables for `JaqpotTabularDataset`:\n",
        "- `df`: The input dataframe containing the data.\n",
        "- `smiles_cols`: A list of column names in the dataframe that contain SMILES strings, which represent the molecular structures.\n",
        "- `featurizer`: A list of featurizers (e.g., `RDKitDescriptors`, `MACCSKeysFingerprint`) used to compute molecular descriptors or fingerprints from the SMILES strings.\n",
        "- `y_cols`: A list of column names in the dataframe that contain the target variable(s).\n",
        "- `task`: The type of machine learning task, such as `\"binary_classification\"`, `\"regression\"`, or `\"multi_class_classification\"`.\n",
        "\n",
        "This class automatically computes the molecular descriptors, handles missing values, and prepares the dataset for training or testing."
      ],
      "metadata": {
        "id": "CZALIWP6nCkb"
      }
    },
    {
      "cell_type": "code",
      "source": [
        "task = \"binary_classification\"\n",
        "smiles_col = [\"smiles\"]\n",
        "y_cols = [\"y\"]\n",
        "\n",
        "train_dataset = JaqpotTabularDataset(\n",
        "    df=train_data,\n",
        "    smiles_cols=smiles_col,\n",
        "    featurizer=[RDKitDescriptors(use_fragment=True)],\n",
        "    y_cols=y_cols,\n",
        "    task=task,\n",
        ")\n",
        "train_dataset.X = train_dataset.X.dropna(axis=1)\n",
        "\n",
        "test_dataset = JaqpotTabularDataset(\n",
        "    df=test_data,\n",
        "    smiles_cols=smiles_col,\n",
        "    featurizer=[RDKitDescriptors(use_fragment=True)],\n",
        "    y_cols=y_cols,\n",
        "    task=task)\n",
        "test_dataset.X = train_dataset.X.dropna(axis=1)"
      ],
      "metadata": {
        "colab": {
          "base_uri": "https://localhost:8080/"
        },
        "id": "5RTaVvv5Un8A",
        "outputId": "1d0e3e01-9d6f-4ed6-f833-e0edd8f5ef5b"
      },
      "execution_count": null,
      "outputs": [
        {
          "output_type": "stream",
          "name": "stdout",
          "text": [
            "Columns with non-finite values: Index(['BCUT2D_MWHI', 'BCUT2D_MWLOW', 'BCUT2D_CHGHI', 'BCUT2D_CHGLO',\n",
            "       'BCUT2D_LOGPHI', 'BCUT2D_LOGPLOW', 'BCUT2D_MRHI', 'BCUT2D_MRLOW'],\n",
            "      dtype='object')\n",
            "Rows with non-finite values with row_index: Index([125, 185, 257, 263, 319, 336], dtype='int64')\n",
            "The corresponding SMILES are: 125             CCCC(CCC)C(=O)O.CCCC(CCC)C(=O)[O-].[Na+]\n",
            "185                                                [Li+]\n",
            "257     [C-]#N.[C-]#N.[C-]#N.[C-]#N.[C-]#N.[Fe+4].[N-]=O\n",
            "263    CCCCC(CC)COC(=O)CC(C(=O)OCC(CC)CCCC)S(=O)(=O)[...\n",
            "319                 NC1CCCCC1N.O=C([O-])C(=O)[O-].[Pt+2]\n",
            "336    COCCNC(=O)CN(CCN(CCN(CC(=O)[O-])CC(=O)NCCOC)CC...\n",
            "Columns with non-finite values: Index(['BCUT2D_MWHI', 'BCUT2D_MWLOW', 'BCUT2D_CHGHI', 'BCUT2D_CHGLO',\n",
            "       'BCUT2D_LOGPHI', 'BCUT2D_LOGPLOW', 'BCUT2D_MRHI', 'BCUT2D_MRLOW'],\n",
            "      dtype='object')\n",
            "Rows with non-finite values with row_index: Index([3, 62], dtype='int64')\n",
            "The corresponding SMILES are: 3                                           [Cl-].[Na+]\n",
            "62    CC(O)CN1CCN(CC(=O)[O-])CCN(CC(=O)[O-])CCN(CC(=...\n"
          ]
        }
      ]
    },
    {
      "cell_type": "markdown",
      "source": [
        "### Setting up SklearnModel with Jaqpotpy and Cross-Validation\n",
        "\n",
        "The `SklearnModel` class in `jaqpotpy` allows us to integrate scikit-learn models into the Jaqpot platform. This enables seamless training, evaluation, and deployment of machine learning models for cheminformatics tasks.\n",
        "\n",
        "#### Key Steps to Set Up `SklearnModel`:\n",
        "1. **Dataset**: Provide a `JaqpotTabularDataset` object containing the preprocessed data (`train_dataset` in this case).\n",
        "2. **Model**: Specify the scikit-learn model to be used (e.g., `LogisticRegression`).\n",
        "3. **Preprocessing**: Optionally, include preprocessing steps like scaling (e.g., `MinMaxScaler`).\n",
        "4. **Domain of Applicability (DOA)**: Optionally, define DOA methods (e.g., `Leverage`, `BoundingBox`) to assess the reliability of predictions.\n",
        "\n",
        "#### Cross-Validation:\n",
        "Cross-validation is a technique used to evaluate the performance of a machine learning model. It involves splitting the dataset into multiple folds, training the model on some folds, and testing it on the remaining fold(s). This process is repeated multiple times, and the results are averaged to provide a robust estimate of the model's performance.\n",
        "\n",
        "In `jaqpotpy`, the `cross_validate` method performs cross-validation on the provided dataset. Key benefits include:\n",
        "- **Avoiding Overfitting**: Ensures the model generalizes well to unseen data.\n",
        "- **Performance Metrics**: Provides metrics like accuracy, precision, recall, etc., averaged across folds.\n",
        "- **Model Selection**: Helps in selecting the best model or hyperparameters.\n",
        "\n",
        "By combining `SklearnModel` with cross-validation, we ensure that our model is both well-trained and rigorously evaluated before deployment. This workflow is essential for building reliable and reproducible machine learning models in cheminformatics."
      ],
      "metadata": {
        "id": "AQoHgprR60Ej"
      }
    },
    {
      "cell_type": "code",
      "source": [
        "sklearn_model = LogisticRegression(random_state=42)\n",
        "jaqpot_model = SklearnModel(\n",
        "    dataset=train_dataset, model=sklearn_model, preprocess_x = MinMaxScaler()\n",
        ")\n",
        "jaqpot_model.fit()\n",
        "cv = jaqpot_model.cross_validate(train_dataset, n_splits=5)\n",
        "print(\"Average scores on Cross-Validation:\", cv)"
      ],
      "metadata": {
        "colab": {
          "base_uri": "https://localhost:8080/"
        },
        "id": "GhiV5eMqWqSj",
        "outputId": "76b160bb-8da0-4220-c436-61d998520b29"
      },
      "execution_count": null,
      "outputs": [
        {
          "output_type": "stream",
          "name": "stdout",
          "text": [
            "Goodness-of-fit metrics on training set:\n",
            "{'accuracy': 0.8578947368421053, 'balancedAccuracy': 0.8576691875121194, 'precision': array([0.90052356, 0.81481481]), 'recall': array([0.83091787, 0.89017341]), 'f1Score': array([0.86432161, 0.85082873]), 'jaccard': array([0.76106195, 0.74038462]), 'matthewsCorrCoef': 0.718209069779487, 'confusionMatrix': array([[172,  19],\n",
            "       [ 35, 154]])}\n",
            "Average scores on Cross-Validation: {'accuracy': 0.8131578947368421, 'balancedAccuracy': 0.8132031717702034, 'precision': array([0.82234455, 0.8040618 ]), 'recall': array([0.81008321, 0.81898256]), 'f1Score': array([0.8141094 , 0.80979359]), 'jaccard': array([0.68717393, 0.68082706]), 'matthewsCorrCoef': 0.6277205685336912, 'confusionMatrix': array([[31.4,  6.8],\n",
            "       [ 7.4, 30.4]])}\n"
          ]
        }
      ]
    },
    {
      "cell_type": "markdown",
      "source": [
        "### Feature Selection for Model Optimization\n",
        "\n",
        "Feature selection is a crucial step in machine learning to improve model performance and reduce overfitting. The next code cell defines a function `feature_selection` that performs the following steps:\n",
        "\n",
        "1. **Correlation Analysis**:\n",
        "    - Computes the Pearson correlation matrix for the features.\n",
        "    - Removes features that are highly correlated (correlation > 0.9) to avoid redundancy.\n",
        "\n",
        "2. **Variance Thresholding**:\n",
        "    - Scales the features using `MinMaxScaler`.\n",
        "    - Removes features with very low variance (threshold < 0.001), as they provide little to no information for the model.\n",
        "\n",
        "3. **Mutual Information (MI) Analysis**:\n",
        "    - Calculates the mutual information scores between features and the target variable.\n",
        "    - Retains features with MI scores above a specified threshold (≥ 0.01), ensuring that only the most informative features are selected.\n",
        "\n",
        "The selected features are then returned as a list, which will be used to refine the training and testing datasets in subsequent steps. This process ensures that the model is trained on the most relevant and non-redundant features, leading to better generalization and performance."
      ],
      "metadata": {
        "id": "NVzQy6qp7Ndv"
      }
    },
    {
      "cell_type": "code",
      "source": [
        "import pandas as pd\n",
        "import numpy as np\n",
        "\n",
        "def feature_selection(X, y):\n",
        "    # Corellation\n",
        "    corr_matrix = X.corr(method='pearson')\n",
        "    corr_matrix = corr_matrix.abs()\n",
        "    upper_tri = corr_matrix.where(np.triu(np.ones(corr_matrix.shape), k=1).astype(bool))\n",
        "    to_keep = []\n",
        "    for column in upper_tri.columns:\n",
        "      if any(upper_tri[column] <= 0.9):\n",
        "        to_keep.append(column)\n",
        "\n",
        "    X = X[to_keep]\n",
        "\n",
        "    # Var Threshold\n",
        "    scaler = MinMaxScaler()\n",
        "    X_scaled = scaler.fit_transform(X)\n",
        "    selector = VarianceThreshold(threshold=0.001)\n",
        "    selector.fit(X_scaled)\n",
        "    selected_features = X.columns[selector.get_support(indices=True)]\n",
        "    X = X[selected_features]\n",
        "\n",
        "    # Mututal Info\n",
        "    mi_scores = mutual_info_classif(X, y)\n",
        "    mi_scores = pd.Series(mi_scores, name=\"MI Scores\", index=X.columns)\n",
        "    mi_scores = mi_scores.sort_values(ascending=False)\n",
        "    selected_features = mi_scores[mi_scores >= 0.01].index.tolist()\n",
        "\n",
        "    return selected_features\n",
        "\n",
        "selected_features = feature_selection(train_dataset.X, train_dataset.y)\n",
        "print(\"Number of selected features = \", len(selected_features))\n",
        "print(\"List of selected features:\", selected_features)"
      ],
      "metadata": {
        "id": "Q7RVXisHnrk_",
        "colab": {
          "base_uri": "https://localhost:8080/"
        },
        "outputId": "ebe1a8cc-d252-4c82-fed6-c98d71678f2c"
      },
      "execution_count": null,
      "outputs": [
        {
          "output_type": "stream",
          "name": "stdout",
          "text": [
            "Number of selected features =  130\n",
            "List of selected features: ['SlogP_VSA6', 'MinAbsPartialCharge', 'PEOE_VSA9', 'SMR_VSA7', 'PEOE_VSA3', 'SMR_VSA10', 'HallKierAlpha', 'MaxPartialCharge', 'MinEStateIndex', 'FractionCSP3', 'EState_VSA8', 'SMR_VSA3', 'EState_VSA1', 'SMR_VSA1', 'EState_VSA2', 'VSA_EState2', 'NumHeteroatoms', 'NumAromaticHeterocycles', 'SMR_VSA6', 'NOCount', 'SMR_VSA4', 'TPSA', 'PEOE_VSA12', 'PEOE_VSA1', 'VSA_EState9', 'fr_aniline', 'PEOE_VSA7', 'SlogP_VSA10', 'SMR_VSA5', 'FpDensityMorgan1', 'SlogP_VSA2', 'VSA_EState8', 'PEOE_VSA6', 'EState_VSA3', 'SlogP_VSA5', 'SlogP_VSA1', 'fr_sulfonamd', 'Kappa1', 'Chi0v', 'EState_VSA10', 'NumAromaticRings', 'NHOHCount', 'MaxAbsPartialCharge', 'VSA_EState6', 'FpDensityMorgan3', 'SlogP_VSA12', 'EState_VSA9', 'fr_Ar_N', 'EState_VSA6', 'fr_Nhpyrrole', 'PEOE_VSA8', 'MinPartialCharge', 'SlogP_VSA8', 'AvgIpc', 'HeavyAtomMolWt', 'Ipc', 'PEOE_VSA2', 'fr_COO2', 'SMR_VSA9', 'SlogP_VSA4', 'VSA_EState1', 'Chi4v', 'BertzCT', 'qed', 'NumValenceElectrons', 'Chi0', 'SlogP_VSA3', 'PEOE_VSA14', 'fr_urea', 'Chi4n', 'RingCount', 'BalabanJ', 'fr_quatN', 'NumAromaticCarbocycles', 'fr_pyridine', 'fr_lactam', 'fr_NH0', 'fr_tetrazole', 'fr_furan', 'NumHAcceptors', 'VSA_EState5', 'fr_alkyl_halide', 'fr_oxime', 'EState_VSA4', 'Chi1v', 'fr_sulfone', 'fr_hdrzine', 'VSA_EState7', 'VSA_EState10', 'fr_nitrile', 'fr_amidine', 'fr_benzene', 'PEOE_VSA10', 'MinAbsEStateIndex', 'Chi0n', 'MolLogP', 'EState_VSA7', 'MolWt', 'Chi1n', 'NumSaturatedRings', 'Kappa3', 'fr_amide', 'ExactMolWt', 'fr_HOCCN', 'VSA_EState3', 'fr_Ndealkylation2', 'SPS', 'NumRadicalElectrons', 'fr_oxazole', 'fr_piperzine', 'LabuteASA', 'fr_azide', 'fr_thiazole', 'fr_aryl_methyl', 'SlogP_VSA7', 'Chi1', 'fr_azo', 'NumSaturatedHeterocycles', 'NumHDonors', 'fr_Al_OH_noTert', 'fr_nitro_arom_nonortho', 'PEOE_VSA13', 'VSA_EState4', 'fr_Al_OH', 'fr_Ndealkylation1', 'MolMR', 'Chi2n', 'NumRotatableBonds', 'fr_isothiocyan', 'fr_ketone_Topliss']\n"
          ]
        }
      ]
    },
    {
      "cell_type": "markdown",
      "source": [
        "Keep the ```selected_features``` into the dataset and frop the rest."
      ],
      "metadata": {
        "id": "haJf7xBj8EFV"
      }
    },
    {
      "cell_type": "code",
      "source": [
        "train_dataset.select_features(SelectColumns=selected_features)\n",
        "test_dataset.select_features(SelectColumns=selected_features)"
      ],
      "metadata": {
        "id": "3bnzaSQlnt_l"
      },
      "execution_count": null,
      "outputs": []
    },
    {
      "cell_type": "markdown",
      "source": [
        "### Domain of Applicability (DOA) in QSARs\n",
        "\n",
        "The Domain of Applicability (DOA) is a critical concept in Quantitative Structure-Activity Relationship (QSAR) modeling. It defines the chemical space within which the model's predictions are considered reliable. DOA ensures that the model is applied only to compounds similar to those in the training dataset, reducing the risk of inaccurate predictions for out-of-scope molecules. By incorporating DOA, QSAR models become more robust, interpretable, and trustworthy for decision-making in drug discovery and toxicology."
      ],
      "metadata": {
        "id": "CbD9YE-M8Z-N"
      }
    },
    {
      "cell_type": "code",
      "source": [
        "doa = [Leverage(), BoundingBox()]\n",
        "jaqpot_model = SklearnModel(\n",
        "    dataset=train_dataset, model=sklearn_model, preprocess_x = MinMaxScaler(), doa = doa\n",
        ")\n",
        "jaqpot_model.fit()\n",
        "cv = jaqpot_model.cross_validate(train_dataset, n_splits=5)\n",
        "print(\"Average scores on Cross-Validation:\", cv)"
      ],
      "metadata": {
        "colab": {
          "base_uri": "https://localhost:8080/"
        },
        "id": "tUKiX9aqqNac",
        "outputId": "5158c14b-eba6-4a06-bcdd-c6cbcf7233cd"
      },
      "execution_count": null,
      "outputs": [
        {
          "output_type": "stream",
          "name": "stdout",
          "text": [
            "Goodness-of-fit metrics on training set:\n",
            "{'accuracy': 0.8526315789473684, 'balancedAccuracy': 0.8524889886146431, 'precision': array([0.87958115, 0.82539683]), 'recall': array([0.8358209 , 0.87150838]), 'f1Score': array([0.85714286, 0.84782609]), 'jaccard': array([0.75      , 0.73584906]), 'matthewsCorrCoef': 0.7061526476719189, 'confusionMatrix': array([[168,  23],\n",
            "       [ 33, 156]])}\n",
            "Average scores on Cross-Validation: {'accuracy': 0.8078947368421053, 'balancedAccuracy': 0.8078444057719023, 'precision': array([0.82605755, 0.78963127]), 'recall': array([0.79779794, 0.82520377]), 'f1Score': array([0.80846346, 0.80423316]), 'jaccard': array([0.68114206, 0.67299332]), 'matthewsCorrCoef': 0.6193154307735212, 'confusionMatrix': array([[31.6,  6.6],\n",
            "       [ 8. , 29.8]])}\n"
          ]
        }
      ]
    },
    {
      "cell_type": "markdown",
      "source": [
        "### Uploading the Model to Jaqpot\n",
        "\n",
        "Once the model is trained and validated, the next step is to upload it to the Jaqpot platform. Jaqpot provides a seamless way to deploy machine learning models, making them accessible for further use and integration. By uploading the model, it becomes possible to share, test, and utilize it in various applications while ensuring controlled access and visibility settings."
      ],
      "metadata": {
        "id": "MpbqB3My8n-H"
      }
    },
    {
      "cell_type": "code",
      "source": [
        "jaqpot = Jaqpot()\n",
        "jaqpot.login()\n",
        "\n",
        "jaqpot_model.deploy_on_jaqpot(\n",
        "    jaqpot=jaqpot,\n",
        "    name=\"DILI Classification model\",\n",
        "    description=\"This is my first attempt to train and upload a Jaqpot model\",\n",
        "    visibility=\"PRIVATE\",\n",
        ")"
      ],
      "metadata": {
        "colab": {
          "base_uri": "https://localhost:8080/"
        },
        "id": "kxDDDwsbvXup",
        "outputId": "13ff9aec-153b-4fa5-bb9d-eb3a6bfc7733"
      },
      "execution_count": null,
      "outputs": [
        {
          "name": "stdout",
          "output_type": "stream",
          "text": [
            "Open this URL in your browser and log in:\n",
            "https://login.jaqpot.org/realms/jaqpot/protocol/openid-connect/auth?client_id=jaqpot-client&response_type=code&redirect_uri=urn:ietf:wg:oauth:2.0:oob&scope=openid email profile&state=random_state_value&nonce=\n",
            "Enter the authorization code you received: 05bf6069-c541-4355-b7de-187483113868.c1192fdc-e9c4-4142-95ab-e3d026368bcf.40e0db1a-58ce-461a-8fbb-6a4451d8587a\n"
          ]
        },
        {
          "output_type": "stream",
          "name": "stderr",
          "text": [
            "\u001b[1m \u001b[32m 2025-05-13 17:55:14,069 - INFO - Model has been successfully uploaded. The url of the model is https://app.jaqpot.org/dashboard/models/2129\u001b[0m\n"
          ]
        }
      ]
    }
  ]
}
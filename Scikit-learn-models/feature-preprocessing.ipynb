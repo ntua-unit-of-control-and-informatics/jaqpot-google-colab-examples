{
 "cells": [
  {
   "cell_type": "markdown",
   "id": "089a0a6a",
   "metadata": {},
   "source": [
    "# Feature Preprocessing\n",
    "\n",
    "## Using Multiple Featurizers\n",
    "\n",
    "In the first script, we initialize two molecular descriptor calculators from JaqpotPy:"
   ]
  },
  {
   "cell_type": "code",
   "execution_count": 34,
   "id": "42379bf8",
   "metadata": {},
   "outputs": [],
   "source": [
    "# Import necessary libraries\n",
    "import pandas as pd\n",
    "import numpy as np\n",
    "from sklearn.feature_selection import VarianceThreshold\n",
    "from sklearn.compose import ColumnTransformer\n",
    "from sklearn.preprocessing import MinMaxScaler, OneHotEncoder, StandardScaler\n",
    "from sklearn.ensemble import RandomForestRegressor\n",
    "from jaqpotpy.models import SklearnModel\n",
    "from jaqpotpy.datasets import JaqpotpyDataset\n",
    "from jaqpotpy.descriptors import RDKitDescriptors, MACCSKeysFingerprint"
   ]
  },
  {
   "cell_type": "markdown",
   "id": "933ea752",
   "metadata": {},
   "source": [
    "Define the dataset with SMILES strings, a categorical variable, temperature, and activity values"
   ]
  },
  {
   "cell_type": "code",
   "execution_count": 35,
   "id": "334939ca",
   "metadata": {},
   "outputs": [
    {
     "data": {
      "text/html": [
       "<div>\n",
       "<style scoped>\n",
       "    .dataframe tbody tr th:only-of-type {\n",
       "        vertical-align: middle;\n",
       "    }\n",
       "\n",
       "    .dataframe tbody tr th {\n",
       "        vertical-align: top;\n",
       "    }\n",
       "\n",
       "    .dataframe thead th {\n",
       "        text-align: right;\n",
       "    }\n",
       "</style>\n",
       "<table border=\"1\" class=\"dataframe\">\n",
       "  <thead>\n",
       "    <tr style=\"text-align: right;\">\n",
       "      <th></th>\n",
       "      <th>smiles</th>\n",
       "      <th>cat_col</th>\n",
       "      <th>temperature</th>\n",
       "      <th>activity</th>\n",
       "    </tr>\n",
       "  </thead>\n",
       "  <tbody>\n",
       "    <tr>\n",
       "      <th>0</th>\n",
       "      <td>CC</td>\n",
       "      <td>high</td>\n",
       "      <td>36</td>\n",
       "      <td>80.0</td>\n",
       "    </tr>\n",
       "    <tr>\n",
       "      <th>1</th>\n",
       "      <td>CCO</td>\n",
       "      <td>high</td>\n",
       "      <td>24</td>\n",
       "      <td>81.0</td>\n",
       "    </tr>\n",
       "    <tr>\n",
       "      <th>2</th>\n",
       "      <td>CCC</td>\n",
       "      <td>high</td>\n",
       "      <td>28</td>\n",
       "      <td>81.0</td>\n",
       "    </tr>\n",
       "    <tr>\n",
       "      <th>3</th>\n",
       "      <td>CCCl</td>\n",
       "      <td>high</td>\n",
       "      <td>32</td>\n",
       "      <td>84.0</td>\n",
       "    </tr>\n",
       "    <tr>\n",
       "      <th>4</th>\n",
       "      <td>CCBr</td>\n",
       "      <td>high</td>\n",
       "      <td>28</td>\n",
       "      <td>83.5</td>\n",
       "    </tr>\n",
       "    <tr>\n",
       "      <th>5</th>\n",
       "      <td>COC</td>\n",
       "      <td>low</td>\n",
       "      <td>22</td>\n",
       "      <td>83.0</td>\n",
       "    </tr>\n",
       "    <tr>\n",
       "      <th>6</th>\n",
       "      <td>CCOCC</td>\n",
       "      <td>low</td>\n",
       "      <td>20</td>\n",
       "      <td>89.0</td>\n",
       "    </tr>\n",
       "    <tr>\n",
       "      <th>7</th>\n",
       "      <td>CCCO</td>\n",
       "      <td>low</td>\n",
       "      <td>23</td>\n",
       "      <td>90.0</td>\n",
       "    </tr>\n",
       "    <tr>\n",
       "      <th>8</th>\n",
       "      <td>CCCC</td>\n",
       "      <td>low</td>\n",
       "      <td>21</td>\n",
       "      <td>91.0</td>\n",
       "    </tr>\n",
       "    <tr>\n",
       "      <th>9</th>\n",
       "      <td>CCCCCC</td>\n",
       "      <td>low</td>\n",
       "      <td>35</td>\n",
       "      <td>97.0</td>\n",
       "    </tr>\n",
       "  </tbody>\n",
       "</table>\n",
       "</div>"
      ],
      "text/plain": [
       "   smiles cat_col  temperature  activity\n",
       "0      CC    high           36      80.0\n",
       "1     CCO    high           24      81.0\n",
       "2     CCC    high           28      81.0\n",
       "3    CCCl    high           32      84.0\n",
       "4    CCBr    high           28      83.5\n",
       "5     COC     low           22      83.0\n",
       "6   CCOCC     low           20      89.0\n",
       "7    CCCO     low           23      90.0\n",
       "8    CCCC     low           21      91.0\n",
       "9  CCCCCC     low           35      97.0"
      ]
     },
     "execution_count": 35,
     "metadata": {},
     "output_type": "execute_result"
    }
   ],
   "source": [
    "data = pd.read_csv(\"https://github.com/ntua-unit-of-control-and-informatics/jaqpot-google-colab-examples/raw/doc/JAQPOT-425/Sklearn_jupyter_examples/datasets/regression_smiles_categorical.csv\")\n",
    "data"
   ]
  },
  {
   "cell_type": "code",
   "execution_count": 36,
   "id": "2de54bd3",
   "metadata": {},
   "outputs": [],
   "source": [
    "featurizers = [RDKitDescriptors(), MACCSKeysFingerprint()]"
   ]
  },
  {
   "cell_type": "markdown",
   "id": "51a0b7f5",
   "metadata": {},
   "source": [
    "We then pass this list of featurizers to the `JaqpotpyDataset` object when creating the training dataset:"
   ]
  },
  {
   "cell_type": "code",
   "execution_count": 39,
   "id": "b021f420",
   "metadata": {},
   "outputs": [],
   "source": [
    "train_dataset = JaqpotpyDataset(\n",
    "    df=data,\n",
    "    x_cols=[\"cat_col\", \"temperature\"],\n",
    "    y_cols=[\"activity\"],\n",
    "    smiles_cols=[\"smiles\"],\n",
    "    task=\"regression\",\n",
    "    featurizer=featurizers,\n",
    ")"
   ]
  },
  {
   "cell_type": "markdown",
   "id": "cb54c6f3",
   "metadata": {},
   "source": [
    "By providing a list of featurizers, the dataset will generate both RDKit descriptors and MACCS keys fingerprints for the SMILES data, resulting in a more comprehensive set of molecular features.\n",
    "\n",
    "## Feature Selection\n",
    "\n",
    "In the second script, we demonstrate the use of feature selection. After creating the `JaqpotpyDataset` object, we apply a feature selection technique using the `select_features()` method:"
   ]
  },
  {
   "cell_type": "code",
   "execution_count": 40,
   "id": "965e35e1",
   "metadata": {},
   "outputs": [],
   "source": [
    "# Use VarianceThreshold to select features with a minimum variance of 0.1\n",
    "FeatureSelector = VarianceThreshold(threshold=0.1)\n",
    "train_dataset.select_features(\n",
    "    FeatureSelector,\n",
    "    ExcludeColumns=[\"cat_col\"],  # Explicitly exclude the categorical variable\n",
    ")"
   ]
  },
  {
   "cell_type": "markdown",
   "id": "352b2afd",
   "metadata": {},
   "source": [
    "This will apply the VarianceThreshold feature selector to the dataset, excluding the \"cat_col\" variable, which is a categorical feature that cannot be included in the selection process.\n",
    "\n",
    "Alternatively, you can directly select specific columns by name using the `SelectColumns` argument:"
   ]
  },
  {
   "cell_type": "code",
   "execution_count": 41,
   "id": "bb31685c",
   "metadata": {},
   "outputs": [],
   "source": [
    "myList = [\n",
    "    \"temperature\",\n",
    "    \"cat_col\",\n",
    "    \"MaxAbsEStateIndex\",\n",
    "    \"MaxEStateIndex\",\n",
    "    \"MinAbsEStateIndex\",\n",
    "    \"MinEStateIndex\",\n",
    "    \"SPS\",\n",
    "    \"MolWt\",\n",
    "    \"HeavyAtomMolWt\",\n",
    "]\n",
    "train_dataset.select_features(SelectColumns=myList)"
   ]
  },
  {
   "cell_type": "markdown",
   "id": "62cc5124",
   "metadata": {},
   "source": [
    "This method allows you to manually choose the features you want to include in the model, which can be useful if you have domain knowledge about the most relevant variables.\n",
    "\n",
    "## Feature Preprocessing\n",
    "\n",
    "In the first script, we define a preprocessing pipeline for the feature columns and the target column:"
   ]
  },
  {
   "cell_type": "code",
   "execution_count": 42,
   "id": "610b6d66",
   "metadata": {},
   "outputs": [],
   "source": [
    "# Preprocessing for the feature columns\n",
    "double_preprocessing = [\n",
    "    ColumnTransformer(\n",
    "        transformers=[\n",
    "            (\"OneHotEncoder\", OneHotEncoder(), [\"cat_col\"]),\n",
    "        ],\n",
    "        remainder=\"passthrough\",\n",
    "        force_int_remainder_cols=False,\n",
    "    ),\n",
    "    StandardScaler(),  # Standard scaling for numerical features after encoding\n",
    "]\n",
    "\n",
    "# Preprocessing for the target column\n",
    "single_preprocessing = MinMaxScaler()"
   ]
  },
  {
   "cell_type": "markdown",
   "id": "39dd9fe3",
   "metadata": {},
   "source": [
    "The `double_preprocessing` pipeline first applies OneHotEncoder to the categorical \"cat_col\" feature, then applies StandardScaler to the numerical features (including the encoded categorical variable).\n",
    "\n",
    "The `single_preprocessing` pipeline applies MinMaxScaler to the target variable \"activity\".\n",
    "\n",
    "We then pass these preprocessing pipelines to the `SklearnModel` object:"
   ]
  },
  {
   "cell_type": "code",
   "execution_count": 43,
   "id": "c209fd0f",
   "metadata": {},
   "outputs": [
    {
     "name": "stdout",
     "output_type": "stream",
     "text": [
      "Goodness-of-fit metrics on training set:\n",
      "{'r2': 0.9376826862159472, 'mae': 0.9549999999999983, 'rmse': 1.3120060975468062}\n"
     ]
    }
   ],
   "source": [
    "jaqpot_model = SklearnModel(\n",
    "    dataset=train_dataset,\n",
    "    model=RandomForestRegressor(random_state=42),\n",
    "    preprocess_x=double_preprocessing,\n",
    "    preprocess_y=single_preprocessing,\n",
    ")\n",
    "jaqpot_model.fit()"
   ]
  },
  {
   "cell_type": "markdown",
   "id": "b2e1692f",
   "metadata": {},
   "source": [
    "This ensures that the feature and target variables are properly preprocessed before being used to train the machine learning model.\n",
    "\n",
    "By using multiple featurizers, feature selection, and feature preprocessing, you can create more robust and effective machine learning models with JaqpotPy."
   ]
  }
 ],
 "metadata": {
  "kernelspec": {
   "display_name": "Python 3",
   "language": "python",
   "name": "python3"
  },
  "language_info": {
   "codemirror_mode": {
    "name": "ipython",
    "version": 3
   },
   "file_extension": ".py",
   "mimetype": "text/x-python",
   "name": "python",
   "nbconvert_exporter": "python",
   "pygments_lexer": "ipython3",
   "version": "3.10.14"
  }
 },
 "nbformat": 4,
 "nbformat_minor": 5
}

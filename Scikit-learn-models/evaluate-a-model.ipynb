{
 "cells": [
  {
   "cell_type": "markdown",
   "id": "0fed57ee",
   "metadata": {},
   "source": [
    "<a href=\"https://colab.research.google.com/github/ntua-unit-of-control-and-informatics/jaqpot-google-collab-examples/blob/main/Scikit-learn-models/evaluate-a-model.ipynb\" target=\"_parent\"><img src=\"https://colab.research.google.com/assets/colab-badge.svg\" alt=\"Open In Colab\"/></a>"
   ]
  },
  {
   "cell_type": "markdown",
   "id": "a1eb640d",
   "metadata": {},
   "source": [
    "# Evaluate a Model\n",
    "\n",
    "In this example, we will demonstrate how to evaluate the robustness of a model using `jaqpotpy`. We will use a RandomForestRegressor model and perform various evaluations including cross-validation, external evaluation, and a randomization test."
   ]
  },
  {
   "cell_type": "code",
   "execution_count": 54,
   "id": "5f8c22ab",
   "metadata": {},
   "outputs": [],
   "source": [
    "# Import necessary libraries\n",
    "import pandas as pd\n",
    "import numpy as np\n",
    "from sklearn.ensemble import RandomForestRegressor\n",
    "from jaqpotpy.models import SklearnModel\n",
    "from jaqpotpy.datasets import JaqpotpyDataset\n",
    "from jaqpotpy.descriptors import RDKitDescriptors"
   ]
  },
  {
   "cell_type": "markdown",
   "id": "38a4c471",
   "metadata": {},
   "source": [
    "We start by creating a sample dataset with molecular structures represented as SMILES strings, along with temperature and activity values."
   ]
  },
  {
   "cell_type": "code",
   "execution_count": 55,
   "id": "1598e94d",
   "metadata": {},
   "outputs": [],
   "source": [
    "# Create sample data\n",
    "data = pd.DataFrame(\n",
    "    {\n",
    "        \"smiles\": [\"CC\", \"CCO\", \"CCC\", \"CCCl\",\n",
    "        \"CCBr\", \"COC\", \"CCOCC\", \"CCCO\",\n",
    "        \"CCCC\", \"CCCCCC\",\n",
    "    ],\n",
    "\n",
    "        \"temperature\": np.random.randint(20, 37, size=10),\n",
    "        \n",
    "        \"activity\": [80, 81, 81, 84, 83.5,\n",
    "        83, 89, 90, 91, 97,\n",
    "    ],\n",
    "    }\n",
    ")"
   ]
  },
  {
   "cell_type": "markdown",
   "id": "8119f7f0",
   "metadata": {},
   "source": [
    "Next, we prepare the dataset for training using `JaqpotpyDataset` and `RDKitDescriptors` for feature extraction."
   ]
  },
  {
   "cell_type": "code",
   "execution_count": 56,
   "id": "5c910d90",
   "metadata": {},
   "outputs": [],
   "source": [
    "featurizer = RDKitDescriptors()\n",
    "\n",
    "# Prepare the dataset for training with Jaqpotpy\n",
    "train_dataset = JaqpotpyDataset(\n",
    "    df=data,\n",
    "    x_cols=[\"temperature\"],\n",
    "    y_cols=[\"activity\"],\n",
    "    smiles_cols=[\"smiles\"],\n",
    "    task=\"regression\",\n",
    "    featurizer=featurizer,\n",
    ")"
   ]
  },
  {
   "cell_type": "markdown",
   "id": "2b676cc5",
   "metadata": {},
   "source": [
    "We then initialize a RandomForestRegressor model and wrap it with `SklearnModel` from `jaqpotpy`. The model is trained on the prepared dataset."
   ]
  },
  {
   "cell_type": "code",
   "execution_count": 57,
   "id": "013685a1",
   "metadata": {},
   "outputs": [
    {
     "name": "stdout",
     "output_type": "stream",
     "text": [
      "Goodness-of-fit metrics on training set:\n",
      "{'r2': 0.9511043533351436, 'mae': 0.8829999999999985, 'rmse': 1.1621617787554346}\n"
     ]
    }
   ],
   "source": [
    "model = RandomForestRegressor(random_state=42)\n",
    "jaqpot_model = SklearnModel(dataset=train_dataset, model=model)\n",
    "jaqpot_model.random_seed = 1231\n",
    "jaqpot_model.fit()"
   ]
  },
  {
   "cell_type": "markdown",
   "id": "5e5524a3",
   "metadata": {},
   "source": [
    "To estimate the model's performance, we perform cross-validation on the training data."
   ]
  },
  {
   "cell_type": "code",
   "execution_count": 58,
   "id": "d10ce058",
   "metadata": {},
   "outputs": [
    {
     "data": {
      "text/plain": [
       "{'r2': 0.5357613775291498, 'mae': 2.280000000000001, 'rmse': 2.710691494968137}"
      ]
     },
     "execution_count": 58,
     "metadata": {},
     "output_type": "execute_result"
    }
   ],
   "source": [
    "# Perform cross-validation on the training data\n",
    "jaqpot_model.cross_validate(train_dataset, n_splits=5)"
   ]
  },
  {
   "cell_type": "markdown",
   "id": "7214e9f2",
   "metadata": {},
   "source": [
    "We define a test dataset for external evaluation and prepare it using `JaqpotpyDataset`."
   ]
  },
  {
   "cell_type": "code",
   "execution_count": 59,
   "id": "5e84bf95",
   "metadata": {},
   "outputs": [],
   "source": [
    "# Define test data for external evaluation\n",
    "X_test = pd.DataFrame(\n",
    "    {\n",
    "        \"smiles\": [\"CCCOC\", \"CO\"],\n",
    "        \"temperature\": [27.0, 22.0],\n",
    "        \"activity\": [89.0, 86.0],\n",
    "    }\n",
    ")\n",
    "\n",
    "# Prepare the test dataset with Jaqpotpy\n",
    "test_dataset = JaqpotpyDataset(\n",
    "    df=X_test,\n",
    "    smiles_cols=\"smiles\",\n",
    "    x_cols=[\"temperature\"],\n",
    "    y_cols=[\"activity\"],\n",
    "    task=\"regression\",\n",
    "    featurizer=featurizer,\n",
    ")"
   ]
  },
  {
   "cell_type": "markdown",
   "id": "a1fa09d4",
   "metadata": {},
   "source": [
    "We evaluate the model on the test dataset to assess its performance on new/unseen data."
   ]
  },
  {
   "cell_type": "code",
   "execution_count": 60,
   "id": "429b664a",
   "metadata": {},
   "outputs": [
    {
     "name": "stdout",
     "output_type": "stream",
     "text": [
      "[89.205 81.58 ]\n"
     ]
    }
   ],
   "source": [
    "# Evaluate the model on the test dataset\n",
    "jaqpot_model.evaluate(test_dataset)\n",
    "\n",
    "predictions = jaqpot_model.predict(test_dataset)\n",
    "print(predictions)"
   ]
  },
  {
   "cell_type": "markdown",
   "id": "74fe5db4",
   "metadata": {},
   "source": [
    "Finally, we conduct a randomization test to assess the model's robustness against randomization of target labels."
   ]
  },
  {
   "cell_type": "code",
   "execution_count": 61,
   "id": "992d59c2",
   "metadata": {},
   "outputs": [
    {
     "data": {
      "text/plain": [
       "{'iteration_0': {'Train': {'r2': 0.798810842610191,\n",
       "   'mae': 1.8244999999999991,\n",
       "   'rmse': 2.3574027021279162},\n",
       "  'Test': {'r2': -2.2556722222222225,\n",
       "   'mae': 2.7025000000000006,\n",
       "   'rmse': 2.706522214946702}},\n",
       " 'iteration_1': {'Train': {'r2': 0.8782363109783689,\n",
       "   'mae': 1.4065000000000025,\n",
       "   'rmse': 1.8339622406145686},\n",
       "  'Test': {'r2': -12.070577777777752,\n",
       "   'mae': 5.419999999999995,\n",
       "   'rmse': 5.422988106201225}},\n",
       " 'iteration_2': {'Train': {'r2': 0.8840678794461037,\n",
       "   'mae': 1.635000000000001,\n",
       "   'rmse': 1.7895069153261192},\n",
       "  'Test': {'r2': -2.0272055555555486,\n",
       "   'mae': 2.112499999999997,\n",
       "   'rmse': 2.6098299753049017}},\n",
       " 'iteration_3': {'Train': {'r2': 0.8251997465834012,\n",
       "   'mae': 1.7449999999999988,\n",
       "   'rmse': 2.1973666057351466},\n",
       "  'Test': {'r2': -0.3593111111111116,\n",
       "   'mae': 1.6649999999999991,\n",
       "   'rmse': 1.7488424743240887}},\n",
       " 'iteration_4': {'Train': {'r2': 0.7538583582224638,\n",
       "   'mae': 2.1194999999999995,\n",
       "   'rmse': 2.6074983221471104},\n",
       "  'Test': {'r2': -8.63275555555555,\n",
       "   'mae': 4.159999999999997,\n",
       "   'rmse': 4.6555021211465455}},\n",
       " 'iteration_5': {'Train': {'r2': 0.7273589465109966,\n",
       "   'mae': 2.395500000000001,\n",
       "   'rmse': 2.74427176132394},\n",
       "  'Test': {'r2': -1.954361111111115,\n",
       "   'mae': 2.467500000000001,\n",
       "   'rmse': 2.578238255088154}},\n",
       " 'iteration_6': {'Train': {'r2': 0.8586823241922343,\n",
       "   'mae': 1.6305000000000007,\n",
       "   'rmse': 1.9757397348841284},\n",
       "  'Test': {'r2': -8.977805555555575,\n",
       "   'mae': 3.9725000000000037,\n",
       "   'rmse': 4.738149691599037}},\n",
       " 'iteration_7': {'Train': {'r2': 0.8101648112951394,\n",
       "   'mae': 1.9395000000000024,\n",
       "   'rmse': 2.2899175749358345},\n",
       "  'Test': {'r2': 0.7352777777777773,\n",
       "   'mae': 0.6799999999999997,\n",
       "   'rmse': 0.7717674520216573}},\n",
       " 'iteration_8': {'Train': {'r2': 0.8637330980179205,\n",
       "   'mae': 1.7104999999999975,\n",
       "   'rmse': 1.9401114658699357},\n",
       "  'Test': {'r2': -5.336222222222229,\n",
       "   'mae': 3.530000000000001,\n",
       "   'rmse': 3.775778065511798}},\n",
       " 'iteration_9': {'Train': {'r2': 0.8467148158204363,\n",
       "   'mae': 1.5650000000000006,\n",
       "   'rmse': 2.057697742624023},\n",
       "  'Test': {'r2': -8.395255555555563,\n",
       "   'mae': 4.234999999999999,\n",
       "   'rmse': 4.5977521681795785}}}"
      ]
     },
     "execution_count": 61,
     "metadata": {},
     "output_type": "execute_result"
    }
   ],
   "source": [
    "# Conducts a randomization test to assess the model's robustness\n",
    "jaqpot_model.randomization_test(\n",
    "    train_dataset=train_dataset,\n",
    "    test_dataset=test_dataset,\n",
    "    n_iters=10,\n",
    ")"
   ]
  }
 ],
 "metadata": {
  "language_info": {
   "name": "python"
  }
 },
 "nbformat": 4,
 "nbformat_minor": 5
}

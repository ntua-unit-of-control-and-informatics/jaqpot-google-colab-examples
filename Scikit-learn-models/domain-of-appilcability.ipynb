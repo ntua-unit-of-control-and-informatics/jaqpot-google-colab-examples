{
 "cells": [
  {
   "cell_type": "markdown",
   "id": "c7c891a4",
   "metadata": {},
   "source": [
    "# Domain of Applicability\n",
    "\n",
    "To demonstrate how to use the domain of applicability (DOA) with Jaqpotpy models, we will create a regression model using scikit-learn's Linear Regression and evaluate the DOA using Jaqpotpy's Leverage, BoundingBox, and MeanVar methods.\n",
    "\n",
    "First, we generate a small regression dataset with 100 samples, each having 4 features and some noise. We then create a DataFrame with the features stored in columns \"X1\", \"X2\", \"X3\", \"X4\" and the target in column \"y\"."
   ]
  },
  {
   "cell_type": "code",
   "execution_count": 2,
   "id": "2b071ff8",
   "metadata": {},
   "outputs": [],
   "source": [
    "import pandas as pd\n",
    "from sklearn.datasets import make_regression\n",
    "from jaqpotpy.datasets import JaqpotpyDataset\n",
    "from sklearn.linear_model import LinearRegression\n",
    "from jaqpotpy.models.sklearn import SklearnModel\n",
    "from jaqpotpy.doa import Leverage, BoundingBox, MeanVar\n",
    "\n",
    "X, y = make_regression(n_samples=100, n_features=4, noise=0.2, random_state=42)\n",
    "df = pd.DataFrame(X, columns=[\"X1\", \"X2\", \"X3\", \"X4\"])\n",
    "df[\"y\"] = y"
   ]
  },
  {
   "cell_type": "markdown",
   "id": "a01586b4",
   "metadata": {},
   "source": [
    "Next, we initialize a `JaqpotpyDataset` with the DataFrame, specifying the feature columns and the target column, and define the task as regression."
   ]
  },
  {
   "cell_type": "code",
   "execution_count": 3,
   "id": "be1f7942",
   "metadata": {},
   "outputs": [],
   "source": [
    "dataset = JaqpotpyDataset(\n",
    "    df=df,\n",
    "    x_cols=[\"X1\", \"X2\", \"X3\", \"X4\"],\n",
    "    y_cols=[\"y\"],\n",
    "    task=\"regression\",\n",
    ")"
   ]
  },
  {
   "cell_type": "markdown",
   "id": "4c2cb0ed",
   "metadata": {},
   "source": [
    "We then wrap the scikit-learn model with Jaqpotpy's `SklearnModel`, using Linear Regression as the regression model and specifying the DOA methods: Leverage, BoundingBox, and MeanVar."
   ]
  },
  {
   "cell_type": "code",
   "execution_count": 4,
   "id": "40ecfc74",
   "metadata": {},
   "outputs": [],
   "source": [
    "jaqpot_model = SklearnModel(\n",
    "    dataset=dataset,\n",
    "    model=LinearRegression(),\n",
    "    doa=[Leverage(), BoundingBox(), MeanVar()],\n",
    ")"
   ]
  },
  {
   "cell_type": "markdown",
   "id": "42e6a8f8",
   "metadata": {},
   "source": [
    "After fitting the model to the dataset, we generate a small prediction dataset with 5 samples, each having 4 features, and create a DataFrame with the features."
   ]
  },
  {
   "cell_type": "code",
   "execution_count": 5,
   "id": "0868ac13",
   "metadata": {},
   "outputs": [
    {
     "name": "stdout",
     "output_type": "stream",
     "text": [
      "Goodness-of-fit metrics on training set:\n",
      "{'r2': 0.999995340208037, 'mae': 0.1688817004406642, 'rmse': 0.21080991181995318}\n"
     ]
    }
   ],
   "source": [
    "jaqpot_model.fit()\n",
    "X_test, _ = make_regression(n_samples=5, n_features=4, noise=0.2, random_state=42)\n",
    "df_test = pd.DataFrame(X_test, columns=[\"X1\", \"X2\", \"X3\", \"X4\"])"
   ]
  },
  {
   "cell_type": "markdown",
   "id": "79e6ca81",
   "metadata": {},
   "source": [
    "We initialize a `JaqpotpyDataset` for prediction, specifying the feature columns and setting `y_cols` to `None` since we are predicting."
   ]
  },
  {
   "cell_type": "code",
   "execution_count": 6,
   "id": "06e3fd6b",
   "metadata": {},
   "outputs": [],
   "source": [
    "test_dataset = JaqpotpyDataset(\n",
    "    df=df_test,\n",
    "    x_cols=[\"X1\", \"X2\", \"X3\", \"X4\"],\n",
    "    y_cols=None,\n",
    "    task=\"regression\",\n",
    ")"
   ]
  },
  {
   "cell_type": "markdown",
   "id": "c46f8594",
   "metadata": {},
   "source": [
    "Finally, we use the trained model to check if the test data are in or out of the domain of applicability, using `predict_doa` method."
   ]
  },
  {
   "cell_type": "code",
   "execution_count": 7,
   "id": "75f1a81c",
   "metadata": {},
   "outputs": [
    {
     "name": "stdout",
     "output_type": "stream",
     "text": [
      "{'LEVERAGE': [{'h': 0.03145559298527913, 'hStar': 0.15, 'inDoa': True}, {'h': 0.04185268310725362, 'hStar': 0.15, 'inDoa': True}, {'h': 0.009719380833753606, 'hStar': 0.15, 'inDoa': True}, {'h': 0.041081170400710784, 'hStar': 0.15, 'inDoa': True}, {'h': 0.07785171833669008, 'hStar': 0.15, 'inDoa': True}], 'BOUNDING_BOX': [{'outOfDoaPercentage': 0.0, 'inDoa': True}, {'outOfDoaPercentage': 0.0, 'inDoa': True}, {'outOfDoaPercentage': 0.0, 'inDoa': True}, {'outOfDoaPercentage': 0.0, 'inDoa': True}, {'outOfDoaPercentage': 0.0, 'inDoa': True}], 'MEAN_VAR': [{'outOfDoaPercentage': 0.0, 'inDoa': True}, {'outOfDoaPercentage': 0.0, 'inDoa': True}, {'outOfDoaPercentage': 0.0, 'inDoa': True}, {'outOfDoaPercentage': 0.0, 'inDoa': True}, {'outOfDoaPercentage': 0.0, 'inDoa': True}]}\n"
     ]
    }
   ],
   "source": [
    "doa_predictions = jaqpot_model.predict_doa(test_dataset)\n",
    "print(doa_predictions)"
   ]
  },
  {
   "cell_type": "markdown",
   "id": "b427a36a",
   "metadata": {},
   "source": [
    "This example demonstrates how to use Jaqpotpy to evaluate the domain of applicability for a regression model, ensuring that predictions are made within the reliable range of the model."
   ]
  }
 ],
 "metadata": {
  "kernelspec": {
   "display_name": "Python 3",
   "language": "python",
   "name": "python3"
  },
  "language_info": {
   "codemirror_mode": {
    "name": "ipython",
    "version": 3
   },
   "file_extension": ".py",
   "mimetype": "text/x-python",
   "name": "python",
   "nbconvert_exporter": "python",
   "pygments_lexer": "ipython3",
   "version": "3.10.14"
  }
 },
 "nbformat": 4,
 "nbformat_minor": 5
}

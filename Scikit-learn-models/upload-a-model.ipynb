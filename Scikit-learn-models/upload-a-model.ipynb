{
 "cells": [
  {
   "cell_type": "markdown",
   "id": "be208a61",
   "metadata": {},
   "source": [
    "# Upload a Model on Jaqpot\n",
    "\n",
    "This example demonstrates how to upload a trained model on Jaqpot using the `jaqpotpy` library. The code below shows the complete process, from generating a dataset to deploying the model on Jaqpot.\n",
    "\n",
    "First, we generate a small regression dataset and create a DataFrame with the features and target:"
   ]
  },
  {
   "cell_type": "code",
   "execution_count": 1,
   "id": "1321fc5b",
   "metadata": {},
   "outputs": [],
   "source": [
    "import pandas as pd\n",
    "from sklearn.datasets import make_regression\n",
    "\n",
    "# Generate a small regression dataset\n",
    "X, y = make_regression(n_samples=100, n_features=4, noise=0.2, random_state=42)\n",
    "\n",
    "# Create a DataFrame with the generated data\n",
    "df = pd.DataFrame(X, columns=[\"X1\", \"X2\", \"X3\", \"X4\"])\n",
    "df[\"y\"] = y"
   ]
  },
  {
   "cell_type": "markdown",
   "id": "3a3d2524",
   "metadata": {},
   "source": [
    "Next, we initialize a `JaqpotpyDataset` with the DataFrame, specifying the feature columns, target column, and task type:"
   ]
  },
  {
   "cell_type": "code",
   "execution_count": 2,
   "id": "5495d60a",
   "metadata": {},
   "outputs": [],
   "source": [
    "from jaqpotpy.datasets import JaqpotpyDataset\n",
    "\n",
    "# Initialize a JaqpotpyDataset with the DataFrame\n",
    "dataset = JaqpotpyDataset(\n",
    "    df=df,\n",
    "    x_cols=[\"X1\", \"X2\", \"X3\", \"X4\"],\n",
    "    y_cols=[\"y\"],\n",
    "    task=\"regression\",\n",
    ")"
   ]
  },
  {
   "cell_type": "markdown",
   "id": "89383f6b",
   "metadata": {},
   "source": [
    "We then wrap the scikit-learn model with `Jaqpotpy`'s `SklearnModel` and fit the model to the dataset:"
   ]
  },
  {
   "cell_type": "code",
   "execution_count": 3,
   "id": "7982caaf",
   "metadata": {},
   "outputs": [
    {
     "name": "stdout",
     "output_type": "stream",
     "text": [
      "Goodness-of-fit metrics on training set:\n",
      "{'r2': 0.999995340208037, 'mae': 0.1688817004406642, 'rmse': 0.21080991181995318}\n"
     ]
    }
   ],
   "source": [
    "from sklearn.linear_model import LinearRegression\n",
    "from jaqpotpy.models import SklearnModel\n",
    "\n",
    "# Wrap the scikit-learn model with Jaqpotpy's SklearnModel\n",
    "jaqpot_model = SklearnModel(dataset=dataset, model=LinearRegression())\n",
    "\n",
    "# Fit the model to the dataset\n",
    "jaqpot_model.fit()"
   ]
  },
  {
   "cell_type": "markdown",
   "id": "5dc2ed39",
   "metadata": {},
   "source": [
    "Finally, we upload the trained model to Jaqpot. To upload a model, a Jaqpot account is required. You can create one [here](https://app.jaqpot.org). After logging in to Jaqpot, we use the `deploy_on_jaqpot` method to upload the model, providing the model name, description, and visibility settings (PUBLIC or PRIVATE):"
   ]
  },
  {
   "cell_type": "code",
   "execution_count": 5,
   "id": "e3586f1a",
   "metadata": {},
   "outputs": [
    {
     "name": "stdout",
     "output_type": "stream",
     "text": [
      "Open this URL in your browser and log in:\n",
      "https://login.jaqpot.org/realms/jaqpot/protocol/openid-connect/auth?client_id=jaqpot-client&response_type=code&redirect_uri=urn:ietf:wg:oauth:2.0:oob&scope=openid email profile&state=random_state_value\n"
     ]
    },
    {
     "name": "stderr",
     "output_type": "stream",
     "text": [
      "  2024-11-11 16:08:35,778 - INFO - Model has been successfully uploaded. The url of the model is https://app.jaqpot.org/dashboard/models/1910\n"
     ]
    }
   ],
   "source": [
    "from jaqpotpy import Jaqpot\n",
    "\n",
    "# Upload Model on Jaqpot\n",
    "jaqpot = Jaqpot()\n",
    "jaqpot.login()\n",
    "jaqpot_model.deploy_on_jaqpot(\n",
    "    jaqpot=jaqpot,\n",
    "    name=\"My first Jaqpot Model\",\n",
    "    description=\"This is my first attempt to train and upload a Jaqpot model.\",\n",
    "    visibility=\"PRIVATE\",\n",
    ")"
   ]
  },
  {
   "cell_type": "markdown",
   "id": "94c4d2cc",
   "metadata": {},
   "source": [
    "In this final step, we first create an instance of the `Jaqpot` class and log in. Then, we call the `deploy_on_jaqpot` method on our model, passing in the `Jaqpot` instance along with the model name, description, and visibility settings. This process allows you to easily deploy your trained models on Jaqpot for further use and sharing."
   ]
  }
 ],
 "metadata": {
  "kernelspec": {
   "display_name": "Python 3",
   "language": "python",
   "name": "python3"
  },
  "language_info": {
   "codemirror_mode": {
    "name": "ipython",
    "version": 3
   },
   "file_extension": ".py",
   "mimetype": "text/x-python",
   "name": "python",
   "nbconvert_exporter": "python",
   "pygments_lexer": "ipython3",
   "version": "3.10.14"
  }
 },
 "nbformat": 4,
 "nbformat_minor": 5
}

{
 "cells": [
  {
   "cell_type": "markdown",
   "id": "a0a4f502",
   "metadata": {},
   "source": [
    "# Create a Dataset\n",
    "\n",
    "This guide demonstrates how to create and work with datasets using `jaqpotpy`. The `JaqpotpyDataset` class is versatile and can handle various types of data, including molecular representations (SMILES) and their descriptors.\n",
    "\n",
    "## Basic Setup\n",
    "\n",
    "First, import the necessary libraries:"
   ]
  },
  {
   "cell_type": "code",
   "execution_count": 6,
   "id": "76d6e382",
   "metadata": {},
   "outputs": [],
   "source": [
    "import pandas as pd\n",
    "import numpy as np\n",
    "from jaqpotpy.datasets import JaqpotpyDataset\n",
    "from jaqpotpy.descriptors import RDKitDescriptors, MordredDescriptors, TopologicalFingerprint, MACCSKeysFingerprint"
   ]
  },
  {
   "cell_type": "markdown",
   "id": "68766e1c",
   "metadata": {},
   "source": [
    "## Creating a Basic Dataset\n",
    "\n",
    "For a simple dataset without molecular descriptors:"
   ]
  },
  {
   "cell_type": "code",
   "execution_count": 7,
   "id": "793a31ea",
   "metadata": {},
   "outputs": [],
   "source": [
    "# Sample data\n",
    "data = pd.DataFrame({\n",
    "    'feature1': [1, 2, 3, 4, 5],\n",
    "    'feature2': [2.1, 3.2, 4.3, 5.4, 6.5],\n",
    "    'target': [0, 1, 0, 1, 0]\n",
    "})\n",
    "\n",
    "# Create dataset for binary classification\n",
    "dataset = JaqpotpyDataset(\n",
    "    df=data,\n",
    "    x_cols=['feature1', 'feature2'],  # Feature columns\n",
    "    y_cols=['target'],                # Target column\n",
    "    task='binary_classification'      # Specify the task type\n",
    ")"
   ]
  },
  {
   "cell_type": "markdown",
   "id": "e926db49",
   "metadata": {},
   "source": [
    "## Creating a Dataset with SMILES and Molecular Descriptors\n",
    "\n",
    "When working with molecular data, the column containing the SMILES, as well as the featurizer should be:"
   ]
  },
  {
   "cell_type": "code",
   "execution_count": 8,
   "id": "febad052",
   "metadata": {},
   "outputs": [],
   "source": [
    "# Sample data with SMILES\n",
    "mol_data = pd.DataFrame({\n",
    "    'smiles': ['CC', 'CCO', 'CCC', 'CCCl'],\n",
    "    'temperature': [25, 30, 35, 40],\n",
    "    'activity': [0.5, 0.7, 0.3, 0.9]\n",
    "})\n",
    "\n",
    "# Initialize a molecular descriptor calculator\n",
    "rdkit_desc = RDKitDescriptors()\n",
    "\n",
    "# Create dataset with molecular descriptors\n",
    "mol_dataset = JaqpotpyDataset(\n",
    "    df=mol_data,\n",
    "    x_cols=['temperature'],    # Additional feature columns\n",
    "    y_cols=['activity'],       # Target column\n",
    "    smiles_cols=['smiles'],    # SMILES column\n",
    "    task='regression',         # Regression task\n",
    "    featurizer=rdkit_desc      # Specify the descriptor calculator\n",
    ")"
   ]
  },
  {
   "cell_type": "markdown",
   "id": "0c3cce4f",
   "metadata": {},
   "source": [
    "## Available Task Types\n",
    "\n",
    "JaqpotpyDataset supports three types of machine learning tasks:\n",
    "\n",
    "- `regression`: For predicting continuous values\n",
    "- `binary_classification`: For two-class classification problems\n",
    "- `multiclass_classification`: For classification with more than two classes\n",
    "\n",
    "## Available Molecular Descriptors\n",
    "\n",
    "Jaqpotpy offers four different molecular descriptor calculators:"
   ]
  },
  {
   "cell_type": "code",
   "execution_count": 9,
   "id": "55c1c19f",
   "metadata": {},
   "outputs": [],
   "source": [
    "# RDKit descriptors\n",
    "rdkit_desc = RDKitDescriptors()\n",
    "\n",
    "# Mordred descriptors\n",
    "mordred_desc = MordredDescriptors()\n",
    "\n",
    "# Topological fingerprints\n",
    "topo_fp = TopologicalFingerprint()\n",
    "\n",
    "# MACCS keys fingerprints\n",
    "maccs_fp = MACCSKeysFingerprint()"
   ]
  },
  {
   "cell_type": "markdown",
   "id": "b09c5ee2",
   "metadata": {},
   "source": [
    "## Creating a Multiclass Classification Dataset"
   ]
  },
  {
   "cell_type": "code",
   "execution_count": 10,
   "id": "6e0a8cf1",
   "metadata": {},
   "outputs": [],
   "source": [
    "# Sample data for multiclass classification\n",
    "multi_data = pd.DataFrame({\n",
    "    'smiles': ['CC', 'CCO', 'CCC', 'CCCl'],\n",
    "    'feature1': [1, 2, 3, 4],\n",
    "    'class': ['A', 'B', 'C', 'A']\n",
    "})\n",
    "\n",
    "# Using MACCS keys fingerprints\n",
    "maccs_fp = MACCSKeysFingerprint()\n",
    "\n",
    "multi_dataset = JaqpotpyDataset(\n",
    "    df=multi_data,\n",
    "    x_cols=['feature1'],\n",
    "    y_cols=['class'],\n",
    "    smiles_cols=['smiles'],\n",
    "    task='multiclass_classification',\n",
    "    featurizer=maccs_fp\n",
    ")"
   ]
  },
  {
   "cell_type": "markdown",
   "id": "cd48a5b6",
   "metadata": {},
   "source": [
    "## Important Notes\n",
    "\n",
    "1. The `smiles_cols` parameter is optional. If not provided, no molecular descriptors will be generated.\n",
    "2. When using `smiles_cols`, a `featurizer` must be specified.\n",
    "3. The `task` parameter must match your problem type:\n",
    "   - Use `regression` for continuous targets\n",
    "   - Use `binary_classification` for two-class problems\n",
    "   - Use `multiclass_classification` for multiple classes\n",
    "4. Feature columns (`x_cols`) can include both molecular and non-molecular features.\n",
    "5. Target columns (`y_cols`) specify the variable(s) to be predicted.\n",
    "\n",
    "This dataset object can then be used with the `Sklearn()` Jaqpotpy model classes for training and prediction tasks."
   ]
  }
 ],
 "metadata": {
  "kernelspec": {
   "display_name": "Python 3",
   "language": "python",
   "name": "python3"
  },
  "language_info": {
   "codemirror_mode": {
    "name": "ipython",
    "version": 3
   },
   "file_extension": ".py",
   "mimetype": "text/x-python",
   "name": "python",
   "nbconvert_exporter": "python",
   "pygments_lexer": "ipython3",
   "version": "3.10.14"
  }
 },
 "nbformat": 4,
 "nbformat_minor": 5
}
